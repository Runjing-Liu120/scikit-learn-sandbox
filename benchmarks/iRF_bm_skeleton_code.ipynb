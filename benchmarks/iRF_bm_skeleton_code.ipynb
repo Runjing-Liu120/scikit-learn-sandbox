{
 "cells": [
  {
   "cell_type": "markdown",
   "metadata": {},
   "source": [
    "# Run Benchmarks skeleton code"
   ]
  },
  {
   "cell_type": "code",
   "execution_count": 10,
   "metadata": {},
   "outputs": [
    {
     "data": {
      "text/plain": [
       "<module 'utils.irf_jupyter_utils' from '../jupyter/utils/irf_jupyter_utils.py'>"
      ]
     },
     "execution_count": 10,
     "metadata": {},
     "output_type": "execute_result"
    }
   ],
   "source": [
    "%matplotlib inline\n",
    "import matplotlib.pyplot as plt\n",
    "\n",
    "from sklearn.datasets import load_breast_cancer\n",
    "import numpy as np\n",
    "from functools import reduce\n",
    "\n",
    "# Needed for the scikit-learn wrapper function\n",
    "from sklearn.tree import irf_utils\n",
    "from sklearn.ensemble import RandomForestClassifier\n",
    "from math import ceil\n",
    "from sklearn.model_selection import train_test_split\n",
    "\n",
    "import itertools\n",
    "import py_irf_benchmarks2\n",
    "\n",
    "# Import our custom utilities\n",
    "from imp import reload\n",
    "import sys\n",
    "sys.path.insert(0, '../jupyter')\n",
    "\n",
    "from utils import irf_jupyter_utils\n",
    "reload(irf_jupyter_utils)"
   ]
  },
  {
   "cell_type": "markdown",
   "metadata": {},
   "source": [
    "# Load data and specs"
   ]
  },
  {
   "cell_type": "code",
   "execution_count": 11,
   "metadata": {},
   "outputs": [],
   "source": [
    "features = np.loadtxt('./data/breast_cancer_features.csv', delimiter=',')\n",
    "responses = np.loadtxt('./data/breast_cancer_responses.csv', delimiter=',')"
   ]
  },
  {
   "cell_type": "code",
   "execution_count": 12,
   "metadata": {},
   "outputs": [
    {
     "name": "stdout",
     "output_type": "stream",
     "text": [
      "{'inp_dsname': ['breast_cancer'], 'n_trials': [5], 'n_iter': [5], 'train_split_propn': [0.8], 'n_estimators': [2, 4, 6], 'n_bootstraps': [20], 'propn_n_samples': [0.2], 'bin_class_type': [1], 'n_RIT': [20], 'max_depth': [5], 'noisy_split': [False], 'num_splits': [2], 'n_estimators_bootstrap': [5], 'N_obs': ['all'], 'N_features': ['all']}\n"
     ]
    }
   ],
   "source": [
    "specs = py_irf_benchmarks2.yaml_to_dict(inp_yaml='./specs/iRF_mod01.yaml')\n",
    "print(specs)"
   ]
  },
  {
   "cell_type": "markdown",
   "metadata": {},
   "source": [
    "# Set up loop"
   ]
  },
  {
   "cell_type": "code",
   "execution_count": 13,
   "metadata": {},
   "outputs": [
    {
     "name": "stdout",
     "output_type": "stream",
     "text": [
      "[{'N_features': 'all', 'N_obs': 'all', 'bin_class_type': 1, 'inp_dsname': 'breast_cancer', 'max_depth': 5, 'n_RIT': 20, 'n_bootstraps': 20, 'n_estimators': 2, 'n_estimators_bootstrap': 5, 'n_iter': 5, 'n_trials': 5, 'noisy_split': False, 'num_splits': 2, 'propn_n_samples': 0.2, 'train_split_propn': 0.8}, {'N_features': 'all', 'N_obs': 'all', 'bin_class_type': 1, 'inp_dsname': 'breast_cancer', 'max_depth': 5, 'n_RIT': 20, 'n_bootstraps': 20, 'n_estimators': 4, 'n_estimators_bootstrap': 5, 'n_iter': 5, 'n_trials': 5, 'noisy_split': False, 'num_splits': 2, 'propn_n_samples': 0.2, 'train_split_propn': 0.8}, {'N_features': 'all', 'N_obs': 'all', 'bin_class_type': 1, 'inp_dsname': 'breast_cancer', 'max_depth': 5, 'n_RIT': 20, 'n_bootstraps': 20, 'n_estimators': 6, 'n_estimators_bootstrap': 5, 'n_iter': 5, 'n_trials': 5, 'noisy_split': False, 'num_splits': 2, 'propn_n_samples': 0.2, 'train_split_propn': 0.8}]\n"
     ]
    },
    {
     "data": {
      "text/plain": [
       "3"
      ]
     },
     "execution_count": 13,
     "metadata": {},
     "output_type": "execute_result"
    }
   ],
   "source": [
    "varNames = sorted(specs)\n",
    "spec_comb = [dict(zip(varNames, prod)) \\\n",
    "    for prod in itertools.product(*(specs[name] for name in varNames))]\n",
    "print(spec_comb)\n",
    "\n",
    "len(spec_comb)"
   ]
  },
  {
   "cell_type": "markdown",
   "metadata": {},
   "source": [
    "# Parse data"
   ]
  },
  {
   "cell_type": "code",
   "execution_count": 14,
   "metadata": {},
   "outputs": [
    {
     "name": "stdout",
     "output_type": "stream",
     "text": [
      "3\n",
      "{'N_features': 'all', 'N_obs': 'all', 'bin_class_type': 1, 'inp_dsname': 'breast_cancer', 'max_depth': 5, 'n_RIT': 20, 'n_bootstraps': 20, 'n_estimators': 2, 'n_estimators_bootstrap': 5, 'n_iter': 5, 'n_trials': 5, 'noisy_split': False, 'num_splits': 2, 'propn_n_samples': 0.2, 'train_split_propn': 0.8}\n",
      "{'N_features': 'all', 'N_obs': 'all', 'bin_class_type': 1, 'inp_dsname': 'breast_cancer', 'max_depth': 5, 'n_RIT': 20, 'n_bootstraps': 20, 'n_estimators': 4, 'n_estimators_bootstrap': 5, 'n_iter': 5, 'n_trials': 5, 'noisy_split': False, 'num_splits': 2, 'propn_n_samples': 0.2, 'train_split_propn': 0.8}\n"
     ]
    },
    {
     "ename": "IndexError",
     "evalue": "index 992 is out of bounds for axis 1 with size 30",
     "output_type": "error",
     "traceback": [
      "\u001b[0;31m---------------------------------------------------------------------------\u001b[0m",
      "\u001b[0;31mIndexError\u001b[0m                                Traceback (most recent call last)",
      "\u001b[0;32m<ipython-input-14-db85ae7fff3a>\u001b[0m in \u001b[0;36m<module>\u001b[0;34m()\u001b[0m\n\u001b[1;32m     21\u001b[0m                               \u001b[0mnoisy_split\u001b[0m\u001b[0;34m=\u001b[0m\u001b[0mspec_comb\u001b[0m\u001b[0;34m[\u001b[0m\u001b[0mi\u001b[0m\u001b[0;34m]\u001b[0m\u001b[0;34m[\u001b[0m\u001b[0;34m'noisy_split'\u001b[0m\u001b[0;34m]\u001b[0m\u001b[0;34m,\u001b[0m\u001b[0;34m\u001b[0m\u001b[0m\n\u001b[1;32m     22\u001b[0m                               \u001b[0mnum_splits\u001b[0m\u001b[0;34m=\u001b[0m\u001b[0mspec_comb\u001b[0m\u001b[0;34m[\u001b[0m\u001b[0mi\u001b[0m\u001b[0;34m]\u001b[0m\u001b[0;34m[\u001b[0m\u001b[0;34m'num_splits'\u001b[0m\u001b[0;34m]\u001b[0m\u001b[0;34m,\u001b[0m\u001b[0;34m\u001b[0m\u001b[0m\n\u001b[0;32m---> 23\u001b[0;31m                               n_estimators_bootstrap=spec_comb[i]['n_estimators_bootstrap'])\n\u001b[0m",
      "\u001b[0;32m/home/runjing_liu/Documents/iRF/scikit-learn/sklearn/tree/irf_utils.py\u001b[0m in \u001b[0;36mrun_iRF\u001b[0;34m(X_train, X_test, y_train, y_test, K, n_estimators, B, random_state_classifier, propn_n_samples, bin_class_type, M, max_depth, noisy_split, num_splits, n_estimators_bootstrap)\u001b[0m\n\u001b[1;32m   1047\u001b[0m             \u001b[0mX_train\u001b[0m\u001b[0;34m=\u001b[0m\u001b[0mX_train_rsmpl\u001b[0m\u001b[0;34m,\u001b[0m\u001b[0;34m\u001b[0m\u001b[0m\n\u001b[1;32m   1048\u001b[0m             \u001b[0mX_test\u001b[0m\u001b[0;34m=\u001b[0m\u001b[0mX_test\u001b[0m\u001b[0;34m,\u001b[0m\u001b[0;34m\u001b[0m\u001b[0m\n\u001b[0;32m-> 1049\u001b[0;31m             y_test=y_test)\n\u001b[0m\u001b[1;32m   1050\u001b[0m \u001b[0;34m\u001b[0m\u001b[0m\n\u001b[1;32m   1051\u001b[0m         \u001b[0;31m# Update the rf bootstrap output dictionary\u001b[0m\u001b[0;34m\u001b[0m\u001b[0;34m\u001b[0m\u001b[0m\n",
      "\u001b[0;32m/home/runjing_liu/Documents/iRF/scikit-learn/sklearn/tree/irf_utils.py\u001b[0m in \u001b[0;36mget_rf_tree_data\u001b[0;34m(rf, X_train, X_test, y_test)\u001b[0m\n\u001b[1;32m    481\u001b[0m                                    \u001b[0my_test\u001b[0m\u001b[0;34m=\u001b[0m\u001b[0my_test\u001b[0m\u001b[0;34m,\u001b[0m\u001b[0;34m\u001b[0m\u001b[0m\n\u001b[1;32m    482\u001b[0m                                    \u001b[0mdtree\u001b[0m\u001b[0;34m=\u001b[0m\u001b[0mdtree\u001b[0m\u001b[0;34m,\u001b[0m\u001b[0;34m\u001b[0m\u001b[0m\n\u001b[0;32m--> 483\u001b[0;31m                                    root_node_id=0)\n\u001b[0m\u001b[1;32m    484\u001b[0m \u001b[0;34m\u001b[0m\u001b[0m\n\u001b[1;32m    485\u001b[0m         \u001b[0;31m# Append output to our combined random forest outputs dict\u001b[0m\u001b[0;34m\u001b[0m\u001b[0;34m\u001b[0m\u001b[0m\n",
      "\u001b[0;32m/home/runjing_liu/Documents/iRF/scikit-learn/sklearn/tree/irf_utils.py\u001b[0m in \u001b[0;36m_get_tree_data\u001b[0;34m(X_train, X_test, y_test, dtree, root_node_id)\u001b[0m\n\u001b[1;32m    302\u001b[0m     \u001b[0;31m# Start with a range over the total number of features and\u001b[0m\u001b[0;34m\u001b[0m\u001b[0;34m\u001b[0m\u001b[0m\n\u001b[1;32m    303\u001b[0m     \u001b[0;31m# subset the relevant indices from the raw indices array\u001b[0m\u001b[0;34m\u001b[0m\u001b[0;34m\u001b[0m\u001b[0m\n\u001b[0;32m--> 304\u001b[0;31m     \u001b[0mnode_features_idx\u001b[0m \u001b[0;34m=\u001b[0m \u001b[0mall_features_idx\u001b[0m\u001b[0;34m[\u001b[0m\u001b[0mnp\u001b[0m\u001b[0;34m.\u001b[0m\u001b[0marray\u001b[0m\u001b[0;34m(\u001b[0m\u001b[0mnode_features_raw_idx\u001b[0m\u001b[0;34m)\u001b[0m\u001b[0;34m]\u001b[0m\u001b[0;34m\u001b[0m\u001b[0m\n\u001b[0m\u001b[1;32m    305\u001b[0m \u001b[0;34m\u001b[0m\u001b[0m\n\u001b[1;32m    306\u001b[0m     \u001b[0;31m# Count the unique number of features used\u001b[0m\u001b[0;34m\u001b[0m\u001b[0;34m\u001b[0m\u001b[0m\n",
      "\u001b[0;31mIndexError\u001b[0m: index 992 is out of bounds for axis 1 with size 30"
     ]
    }
   ],
   "source": [
    "print(len(spec_comb))\n",
    "for i in range(len(spec_comb)): \n",
    "    \n",
    "    print(spec_comb[i])\n",
    "    \n",
    "    [X_train, X_test, y_train, y_test] =\\\n",
    "             py_irf_benchmarks2.parse_data(features, responses, spec_comb[i]['train_split_propn'],\\\n",
    "                        N_obs = 'all', N_features = 'all', seed = 200)\n",
    "    \n",
    "    for j in range(spec_comb[i]['n_trials']): \n",
    "        irf_utils.run_iRF(X_train=X_train,\n",
    "                              X_test=X_test,\n",
    "                              y_train=y_train,\n",
    "                              y_test=y_test,\n",
    "                              K=spec_comb[i]['n_iter'],\n",
    "                              n_estimators=spec_comb[i]['n_estimators'],\n",
    "                              B=spec_comb[i]['n_bootstraps'],\n",
    "                              random_state_classifier=152,\n",
    "                              propn_n_samples=spec_comb[i]['propn_n_samples'],\n",
    "                              bin_class_type=spec_comb[i]['bin_class_type'],\n",
    "                              M=spec_comb[i]['n_RIT'],\n",
    "                              max_depth=spec_comb[i]['max_depth'],\n",
    "                              noisy_split=spec_comb[i]['noisy_split'],\n",
    "                              num_splits=spec_comb[i]['num_splits'],\n",
    "                              n_estimators_bootstrap=spec_comb[i]['n_estimators_bootstrap'])"
   ]
  },
  {
   "cell_type": "code",
   "execution_count": null,
   "metadata": {
    "collapsed": true
   },
   "outputs": [],
   "source": []
  }
 ],
 "metadata": {
  "kernelspec": {
   "display_name": "Python 3",
   "language": "python",
   "name": "python3"
  },
  "language_info": {
   "codemirror_mode": {
    "name": "ipython",
    "version": 3
   },
   "file_extension": ".py",
   "mimetype": "text/x-python",
   "name": "python",
   "nbconvert_exporter": "python",
   "pygments_lexer": "ipython3",
   "version": "3.6.1"
  }
 },
 "nbformat": 4,
 "nbformat_minor": 2
}
