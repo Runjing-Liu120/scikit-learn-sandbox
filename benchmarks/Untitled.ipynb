{
 "cells": [
  {
   "cell_type": "code",
   "execution_count": 1,
   "metadata": {},
   "outputs": [
    {
     "name": "stderr",
     "output_type": "stream",
     "text": [
      "Loading required package: AUC\n",
      "AUC 0.3.0\n",
      "Type AUCNews() to see the change log and ?AUC to get an overview.\n",
      "Loading required package: doMC\n",
      "Loading required package: foreach\n",
      "Loading required package: iterators\n",
      "Loading required package: parallel\n",
      "Loading required package: akima\n",
      "Loading required package: FSInteract\n",
      "Loading required package: Matrix\n",
      "Loading required package: data.table\n",
      "iRF 1.0.0\n",
      "randomForest 4.6-12\n",
      "Type rfNews() to see new features/changes/bug fixes.\n",
      "\n",
      "Attaching package: ‘randomForest’\n",
      "\n",
      "The following objects are masked from ‘package:iRF’:\n",
      "\n",
      "    classCenter, combine, getTree, grow, importance, margin, MDSplot,\n",
      "    na.roughfix, outlier, partialPlot, randomForest, rfcv, rfImpute,\n",
      "    rfNews, treesize, tuneRF, varImpPlot, varUsed\n",
      "\n"
     ]
    }
   ],
   "source": [
    "library(iRF)\n",
    "source('R_irf_benchmarks_utils.R')"
   ]
  },
  {
   "cell_type": "code",
   "execution_count": 5,
   "metadata": {},
   "outputs": [
    {
     "name": "stdout",
     "output_type": "stream",
     "text": [
      "[1] \"iteration =  1\"\n"
     ]
    },
    {
     "ename": "ERROR",
     "evalue": "Error in (cumsum(ntree.id)[i - 1] + 1):cumsum(ntree.id)[i]: NA/NaN argument\n",
     "output_type": "error",
     "traceback": [
      "Error in (cumsum(ntree.id)[i - 1] + 1):cumsum(ntree.id)[i]: NA/NaN argument\nTraceback:\n",
      "1. iRF(x = features, y = responses, find_interaction = TRUE, n_iter = 1, \n .     n.cores = n.cores, ntree = 20, n.bootstrap = 20)"
     ]
    }
   ],
   "source": [
    "features <- read.csv('data/breast_cancer_features.csv', header = FALSE)\n",
    "responses <- read.csv('data/breast_cancer_responses.csv', header = FALSE)\n",
    "features <- as.matrix(features)\n",
    "responses <- as.factor(responses$V1)\n",
    "\n",
    "n.cores <- 24\n",
    "registerDoMC(n.cores)\n",
    "\n",
    "ff <- iRF(x=features, y=responses, \n",
    "           find_interaction=TRUE, n_iter=1, n.cores = n.cores, ntree = 20, n.bootstrap =20)\n"
   ]
  },
  {
   "cell_type": "code",
   "execution_count": 3,
   "metadata": {},
   "outputs": [
    {
     "name": "stdout",
     "output_type": "stream",
     "text": [
      "[1] \"iteration =  1\"\n"
     ]
    },
    {
     "ename": "ERROR",
     "evalue": "Error in (cumsum(ntree.id)[i - 1] + 1):cumsum(ntree.id)[i]: NA/NaN argument\n",
     "output_type": "error",
     "traceback": [
      "Error in (cumsum(ntree.id)[i - 1] + 1):cumsum(ntree.id)[i]: NA/NaN argument\nTraceback:\n",
      "1. iRF_benchmarks(features, responses, n_trials = 1, K = 1, train_split_propn = 0.8, \n .     n_estimators = 20, B = 30, M = 20, max_depth = 5, noisy_split = False, \n .     num_splits = 2, seed = 2018)",
      "2. iRF(x = X_train, y = y_train, xtest = X_test, ytest = y_test, \n .     n_iter = K, ntree = n_estimators, n_core = 7, find_interaction = TRUE, \n .     class_id = 1, cutoff_nodesize_prop = 0.1, n_bootstrap = B, \n .     verbose = TRUE)"
     ]
    }
   ],
   "source": [
    "iRF_benchmarks(features, responses, n_trials=1,\n",
    "                   K=1,\n",
    "                   train_split_propn=0.8,\n",
    "                   n_estimators=20,\n",
    "                   B=30,\n",
    "                   M=20,\n",
    "                   max_depth=5,\n",
    "                   noisy_split=False,\n",
    "                   num_splits=2,\n",
    "                   seed=2018)"
   ]
  },
  {
   "cell_type": "code",
   "execution_count": null,
   "metadata": {
    "collapsed": true
   },
   "outputs": [],
   "source": []
  }
 ],
 "metadata": {
  "kernelspec": {
   "display_name": "R",
   "language": "R",
   "name": "ir"
  },
  "language_info": {
   "codemirror_mode": "r",
   "file_extension": ".r",
   "mimetype": "text/x-r-source",
   "name": "R",
   "pygments_lexer": "r",
   "version": "3.4.0"
  }
 },
 "nbformat": 4,
 "nbformat_minor": 2
}
