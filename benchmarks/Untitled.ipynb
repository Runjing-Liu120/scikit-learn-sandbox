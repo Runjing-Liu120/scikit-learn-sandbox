{
 "cells": [
  {
   "cell_type": "code",
   "execution_count": 1,
   "metadata": {},
   "outputs": [
    {
     "name": "stderr",
     "output_type": "stream",
     "text": [
      "Loading required package: AUC\n",
      "AUC 0.3.0\n",
      "Type AUCNews() to see the change log and ?AUC to get an overview.\n",
      "Loading required package: doMC\n",
      "Loading required package: foreach\n",
      "Loading required package: iterators\n",
      "Loading required package: parallel\n",
      "Loading required package: akima\n",
      "iRF 1.0.0\n"
     ]
    }
   ],
   "source": [
    "library(iRF)"
   ]
  },
  {
   "cell_type": "code",
   "execution_count": 2,
   "metadata": {},
   "outputs": [
    {
     "name": "stderr",
     "output_type": "stream",
     "text": [
      "randomForest 4.6-12\n",
      "Type rfNews() to see new features/changes/bug fixes.\n",
      "\n",
      "Attaching package: ‘randomForest’\n",
      "\n",
      "The following objects are masked from ‘package:iRF’:\n",
      "\n",
      "    classCenter, combine, getTree, grow, importance, margin, MDSplot,\n",
      "    na.roughfix, outlier, partialPlot, randomForest, rfcv, rfImpute,\n",
      "    rfNews, treesize, tuneRF, varImpPlot, varUsed\n",
      "\n"
     ]
    }
   ],
   "source": [
    "source('R_irf_benchmarks_utils.R')"
   ]
  },
  {
   "cell_type": "code",
   "execution_count": 3,
   "metadata": {
    "scrolled": true
   },
   "outputs": [
    {
     "data": {
      "text/html": [
       "<ol class=list-inline>\n",
       "\t<li>455</li>\n",
       "\t<li>20</li>\n",
       "</ol>\n"
      ],
      "text/latex": [
       "\\begin{enumerate*}\n",
       "\\item 455\n",
       "\\item 20\n",
       "\\end{enumerate*}\n"
      ],
      "text/markdown": [
       "1. 455\n",
       "2. 20\n",
       "\n",
       "\n"
      ],
      "text/plain": [
       "[1] 455  20"
      ]
     },
     "metadata": {},
     "output_type": "display_data"
    },
    {
     "data": {
      "text/html": [
       "<ol class=list-inline>\n",
       "\t<li>114</li>\n",
       "\t<li>20</li>\n",
       "</ol>\n"
      ],
      "text/latex": [
       "\\begin{enumerate*}\n",
       "\\item 114\n",
       "\\item 20\n",
       "\\end{enumerate*}\n"
      ],
      "text/markdown": [
       "1. 114\n",
       "2. 20\n",
       "\n",
       "\n"
      ],
      "text/plain": [
       "[1] 114  20"
      ]
     },
     "metadata": {},
     "output_type": "display_data"
    },
    {
     "data": {
      "text/html": [
       "455"
      ],
      "text/latex": [
       "455"
      ],
      "text/markdown": [
       "455"
      ],
      "text/plain": [
       "[1] 455"
      ]
     },
     "metadata": {},
     "output_type": "display_data"
    },
    {
     "data": {
      "text/html": [
       "114"
      ],
      "text/latex": [
       "114"
      ],
      "text/markdown": [
       "114"
      ],
      "text/plain": [
       "[1] 114"
      ]
     },
     "metadata": {},
     "output_type": "display_data"
    }
   ],
   "source": [
    "features <- read.csv('data/breast_cancer_features.csv', header = FALSE)\n",
    "responses <- read.csv('data/breast_cancer_responses.csv', header = FALSE)\n",
    "features <- as.matrix(features)\n",
    "responses <- as.factor(responses$V1)\n",
    "\n",
    "data <- parse_data(features, responses, train_split_propn = 0.8, N_obs = 'all', N_features = 20, seed = 2018)\n",
    "dim(data$X_train)\n",
    "dim(data$X_test)\n",
    "length(data$y_train)\n",
    "length(data$y_test)"
   ]
  },
  {
   "cell_type": "code",
   "execution_count": 4,
   "metadata": {
    "scrolled": false
   },
   "outputs": [
    {
     "name": "stdout",
     "output_type": "stream",
     "text": [
      "$inp_dsname\n",
      "[1] \"breast_cancer\"\n",
      "\n",
      "$n_trials\n",
      "[1] 2\n",
      "\n",
      "$n_iter\n",
      "[1] 1\n",
      "\n",
      "$train_split_propn\n",
      "[1] 0.8\n",
      "\n",
      "$n_estimators\n",
      "[1] 20\n",
      "\n",
      "$n_bootstraps\n",
      "[1] 10\n",
      "\n",
      "$propn_n_samples\n",
      "[1] 0.8\n",
      "\n",
      "$bin_class_type\n",
      "[1] 1\n",
      "\n",
      "$n_RIT\n",
      "[1] 20\n",
      "\n",
      "$max_depth\n",
      "[1] 5\n",
      "\n",
      "$noisy_split\n",
      "[1] FALSE\n",
      "\n",
      "$num_splits\n",
      "[1] 2\n",
      "\n",
      "$n_estimators_bootstrap\n",
      "[1] 5\n",
      "\n",
      "$N_obs\n",
      "[1] \"all\"\n",
      "\n",
      "$N_features\n",
      "[1] \"all\"\n",
      "\n",
      "     inp_dsname n_trials n_iter train_split_propn n_estimators n_bootstraps\n",
      "1 breast_cancer        2      1               0.8           20           10\n",
      "  propn_n_samples bin_class_type n_RIT max_depth noisy_split num_splits\n",
      "1             0.8              1    20         5       FALSE          2\n",
      "  n_estimators_bootstrap N_obs N_features\n",
      "1                      5   all        all\n"
     ]
    }
   ],
   "source": [
    "library(yaml)\n",
    "specs <- yaml.load_file('./specs/iRF_mod02.yaml')\n",
    "print(specs)\n",
    "spec_comb <- expand.grid(specs)\n",
    "print(spec_comb)"
   ]
  },
  {
   "cell_type": "code",
   "execution_count": 5,
   "metadata": {},
   "outputs": [
    {
     "data": {
      "text/html": [
       "2"
      ],
      "text/latex": [
       "2"
      ],
      "text/markdown": [
       "2"
      ],
      "text/plain": [
       "[1] 2"
      ]
     },
     "metadata": {},
     "output_type": "display_data"
    }
   ],
   "source": [
    "spec_comb[1,'n_trials']"
   ]
  },
  {
   "cell_type": "code",
   "execution_count": 6,
   "metadata": {},
   "outputs": [
    {
     "name": "stdout",
     "output_type": "stream",
     "text": [
      "[1] \"iteration =  1\"\n",
      "finding interactions ... b = 1;  \n",
      "b = 2;  \n",
      "b = 3;  \n",
      "b = 4;  \n",
      "b = 5;  \n",
      "b = 6;  \n",
      "b = 7;  \n",
      "b = 8;  \n",
      "b = 9;  \n",
      "b = 10;  \n",
      "[1] \"AUROC:  0.99\"\n",
      "[1] \"iteration =  1\"\n",
      "finding interactions ... b = 1;  \n",
      "b = 2;  \n",
      "b = 3;  \n",
      "b = 4;  \n",
      "b = 5;  \n",
      "b = 6;  \n",
      "b = 7;  \n",
      "b = 8;  \n",
      "b = 9;  \n",
      "b = 10;  \n",
      "[1] \"AUROC:  0.99\"\n"
     ]
    }
   ],
   "source": [
    "bm <- get_iRF_benchmarks(data$X_train, data$X_test, data$y_train, data$y_test, n_trials=spec_comb[1,'n_trials'],\n",
    "                   K=spec_comb[1,'n_iter'],\n",
    "                   n_estimators=spec_comb[1,'n_estimators'],\n",
    "                   B=spec_comb[1,'n_bootstraps'],\n",
    "                   M=spec_comb[1,'n_RIT'],\n",
    "                   max_depth=spec_comb[1,'max_depth'],\n",
    "                   noisy_split=spec_comb[1,'noisy_split'],\n",
    "                   num_splits=spec_comb[1,'num_splits'],\n",
    "                   seed=2018)"
   ]
  },
  {
   "cell_type": "code",
   "execution_count": 7,
   "metadata": {},
   "outputs": [
    {
     "data": {
      "text/html": [
       "<ol class=list-inline>\n",
       "\t<li>'metrics_all'</li>\n",
       "\t<li>'metrics_summary'</li>\n",
       "\t<li>'feature_importance'</li>\n",
       "\t<li>'stability_all'</li>\n",
       "\t<li>'ff'</li>\n",
       "</ol>\n"
      ],
      "text/latex": [
       "\\begin{enumerate*}\n",
       "\\item 'metrics\\_all'\n",
       "\\item 'metrics\\_summary'\n",
       "\\item 'feature\\_importance'\n",
       "\\item 'stability\\_all'\n",
       "\\item 'ff'\n",
       "\\end{enumerate*}\n"
      ],
      "text/markdown": [
       "1. 'metrics_all'\n",
       "2. 'metrics_summary'\n",
       "3. 'feature_importance'\n",
       "4. 'stability_all'\n",
       "5. 'ff'\n",
       "\n",
       "\n"
      ],
      "text/plain": [
       "[1] \"metrics_all\"        \"metrics_summary\"    \"feature_importance\"\n",
       "[4] \"stability_all\"      \"ff\"                "
      ]
     },
     "metadata": {},
     "output_type": "display_data"
    }
   ],
   "source": [
    "names(bm)"
   ]
  },
  {
   "cell_type": "code",
   "execution_count": 8,
   "metadata": {
    "scrolled": false
   },
   "outputs": [
    {
     "name": "stdout",
     "output_type": "stream",
     "text": [
      "     inp_dsname n_trials n_iter train_split_propn n_estimators n_bootstraps\n",
      "1 breast_cancer        2      1               0.8           20           10\n",
      "  propn_n_samples bin_class_type n_RIT max_depth noisy_split num_splits\n",
      "1             0.8              1    20         5       FALSE          2\n",
      "  n_estimators_bootstrap N_obs N_features\n",
      "1                      5   all        all\n",
      "     inp_dsname n_trials n_iter train_split_propn n_estimators n_bootstraps\n",
      "1 breast_cancer        2      1               0.8           20           10\n",
      "  propn_n_samples bin_class_type n_RIT max_depth noisy_split num_splits\n",
      "1             0.8              1    20         5       FALSE          2\n",
      "  n_estimators_bootstrap N_obs N_features\n",
      "1                      5   all        all\n",
      "[1] \"iteration =  1\"\n",
      "finding interactions ... b = 1;  \n",
      "b = 2;  \n",
      "b = 3;  \n",
      "b = 4;  \n",
      "b = 5;  \n",
      "b = 6;  \n",
      "b = 7;  \n",
      "b = 8;  \n",
      "b = 9;  \n",
      "b = 10;  \n",
      "[1] \"AUROC:  0.97\"\n",
      "[1] \"iteration =  1\"\n",
      "finding interactions ... b = 1;  \n",
      "b = 2;  \n",
      "b = 3;  \n",
      "b = 4;  \n",
      "b = 5;  \n",
      "b = 6;  \n",
      "b = 7;  \n",
      "b = 8;  \n",
      "b = 9;  \n",
      "b = 10;  \n",
      "[1] \"AUROC:  0.98\"\n"
     ]
    }
   ],
   "source": [
    "iRF_bm <- consolidate_bm_iRF(features, responses, specs,\n",
    "                seed_data_split = None, seed_classifier = None)"
   ]
  },
  {
   "cell_type": "code",
   "execution_count": 12,
   "metadata": {},
   "outputs": [
    {
     "data": {
      "text/plain": [
       "$metrics_all\n",
       "$metrics_all$times\n",
       "[1] 5.905103 5.866463\n",
       "\n",
       "$metrics_all$score\n",
       "[1] 0.9473684 0.9561404\n",
       "\n",
       "\n",
       "$metrics_summary\n",
       "$metrics_summary$times\n",
       "[1] 5.88578320 0.02732262\n",
       "\n",
       "$metrics_summary$score\n",
       "[1] 0.951754386 0.006202691\n",
       "\n",
       "\n",
       "$feature_importance\n",
       "$feature_importance[[1]]\n",
       "    MeanDecreaseGini\n",
       "V1         9.4209773\n",
       "V2         1.1349823\n",
       "V3         6.9509956\n",
       "V4        14.5629329\n",
       "V5         0.3142857\n",
       "V6         0.3600000\n",
       "V7         9.6105466\n",
       "V8        17.6806820\n",
       "V9         0.7469826\n",
       "V10        0.8977865\n",
       "V11        2.0444174\n",
       "V12        1.9886143\n",
       "V13        5.3231042\n",
       "V14        2.7276655\n",
       "V15        1.3999610\n",
       "V16        0.8464013\n",
       "V17        0.4815344\n",
       "V18        0.3573983\n",
       "V19        1.1549009\n",
       "V20        1.5742178\n",
       "V21       21.9348837\n",
       "V22        3.5119554\n",
       "V23       62.5072063\n",
       "V24       13.9325965\n",
       "V25        2.3505814\n",
       "V26        4.2003096\n",
       "V27        0.9440588\n",
       "V28       19.9942422\n",
       "V29        1.8027630\n",
       "V30        1.0777416\n",
       "\n",
       "$feature_importance[[2]]\n",
       "    MeanDecreaseGini\n",
       "V1        12.4480459\n",
       "V2         2.3360672\n",
       "V3         1.9584065\n",
       "V4        21.4260223\n",
       "V5         0.8622394\n",
       "V6         6.3158302\n",
       "V7         3.6466620\n",
       "V8        29.0991918\n",
       "V9         0.3668440\n",
       "V10        0.2636390\n",
       "V11        1.3454501\n",
       "V12        1.6110228\n",
       "V13        7.7898300\n",
       "V14       10.8271985\n",
       "V15        0.9104149\n",
       "V16        0.9216757\n",
       "V17        0.5357604\n",
       "V18        0.0000000\n",
       "V19        1.0801801\n",
       "V20        1.4918053\n",
       "V21       19.0172308\n",
       "V22        5.7622887\n",
       "V23       29.1551352\n",
       "V24       19.9679582\n",
       "V25        1.1491682\n",
       "V26        5.0161659\n",
       "V27        3.5954133\n",
       "V28       22.3604443\n",
       "V29        1.5617773\n",
       "V30        0.1500000\n",
       "\n",
       "\n",
       "$stability_all\n",
       "$stability_all[[1]]\n",
       "       V21        V28        V24        V23        V27         V4         V8 \n",
       "       1.0        1.0        0.9        0.8        0.8        0.8        0.8 \n",
       "       V14         V7         V1         V3        V22        V26        V11 \n",
       "       0.7        0.7        0.5        0.5        0.4        0.4        0.3 \n",
       "       V13    V23_V28     V7_V24     V1_V23     V1_V28         V2    V21_V24 \n",
       "       0.3        0.3        0.3        0.2        0.2        0.2        0.2 \n",
       "     V4_V7     V7_V21     V8_V23    V11_V21    V11_V28    V12_V26 V1_V23_V26 \n",
       "       0.2        0.2        0.2        0.1        0.1        0.1        0.1 \n",
       "    V1_V27 V1_V27_V28    V14_V23      V1_V8        V19    V19_V28    V21_V23 \n",
       "       0.1        0.1        0.1        0.1        0.1        0.1        0.1 \n",
       "   V21_V27    V21_V28    V21_V29    V22_V28    V23_V27    V24_V26    V24_V27 \n",
       "       0.1        0.1        0.1        0.1        0.1        0.1        0.1 \n",
       "   V24_V28    V24_V30        V25    V27_V28        V29        V30     V3_V23 \n",
       "       0.1        0.1        0.1        0.1        0.1        0.1        0.1 \n",
       "    V3_V24     V3_V28     V4_V21     V4_V23     V4_V27     V4_V28         V6 \n",
       "       0.1        0.1        0.1        0.1        0.1        0.1        0.1 \n",
       "     V6_V8     V7_V28     V8_V11     V8_V19     V8_V21 \n",
       "       0.1        0.1        0.1        0.1        0.1 \n",
       "\n",
       "$stability_all[[2]]\n",
       "        V28         V21         V24          V8         V23         V14 \n",
       "        1.0         0.9         0.9         0.9         0.8         0.7 \n",
       "        V27         V13         V29          V3          V4         V22 \n",
       "        0.7         0.5         0.5         0.5         0.5         0.4 \n",
       "        V26         V11     V21_V28     V24_V27      V4_V28          V1 \n",
       "        0.4         0.3         0.3         0.3         0.3         0.2 \n",
       "        V12     V14_V23         V19     V21_V24     V24_V28          V6 \n",
       "        0.2         0.2         0.2         0.2         0.2         0.2 \n",
       "         V7     V11_V23     V11_V28     V12_V21     V12_V23     V12_V24 \n",
       "        0.2         0.1         0.1         0.1         0.1         0.1 \n",
       "    V13_V21 V13_V21_V24     V13_V23     V13_V24     V14_V24 V14_V24_V27 \n",
       "        0.1         0.1         0.1         0.1         0.1         0.1 \n",
       "V14_V24_V28     V14_V26     V14_V27     V14_V28         V15     V16_V24 \n",
       "        0.1         0.1         0.1         0.1         0.1         0.1 \n",
       "        V17     V19_V21     V19_V28          V2 V21_V23_V28     V21_V27 \n",
       "        0.1         0.1         0.1         0.1         0.1         0.1 \n",
       "V22_V24_V26     V23_V28     V23_V29         V25      V3_V23       V3_V4 \n",
       "        0.1         0.1         0.1         0.1         0.1         0.1 \n",
       "      V3_V8      V4_V24      V7_V13      V7_V21      V7_V22      V8_V14 \n",
       "        0.1         0.1         0.1         0.1         0.1         0.1 \n",
       "     V8_V26      V8_V27 \n",
       "        0.1         0.1 \n",
       "\n",
       "\n",
       "$ff\n",
       "$ff$rf_list\n",
       "$ff$rf_list[[1]]\n",
       "\n",
       "Call:\n",
       " randomForest(x = x, y = y, xtest = xtest, ytest = ytest, ntree = nt,      mtry_select_prob = mtry_select_prob, keep_subset_var = keep_subset_var,      keep.forest = TRUE) \n",
       "               Type of random forest: classification\n",
       "                     Number of trees: 20\n",
       "No. of variables tried at each split: 5\n",
       "\n",
       "\n",
       "\n",
       "$ff$interaction\n",
       "$ff$interaction[[1]]\n",
       "        V28         V21         V24          V8         V23         V14 \n",
       "        1.0         0.9         0.9         0.9         0.8         0.7 \n",
       "        V27         V13         V29          V3          V4         V22 \n",
       "        0.7         0.5         0.5         0.5         0.5         0.4 \n",
       "        V26         V11     V21_V28     V24_V27      V4_V28          V1 \n",
       "        0.4         0.3         0.3         0.3         0.3         0.2 \n",
       "        V12     V14_V23         V19     V21_V24     V24_V28          V6 \n",
       "        0.2         0.2         0.2         0.2         0.2         0.2 \n",
       "         V7     V11_V23     V11_V28     V12_V21     V12_V23     V12_V24 \n",
       "        0.2         0.1         0.1         0.1         0.1         0.1 \n",
       "    V13_V21 V13_V21_V24     V13_V23     V13_V24     V14_V24 V14_V24_V27 \n",
       "        0.1         0.1         0.1         0.1         0.1         0.1 \n",
       "V14_V24_V28     V14_V26     V14_V27     V14_V28         V15     V16_V24 \n",
       "        0.1         0.1         0.1         0.1         0.1         0.1 \n",
       "        V17     V19_V21     V19_V28          V2 V21_V23_V28     V21_V27 \n",
       "        0.1         0.1         0.1         0.1         0.1         0.1 \n",
       "V22_V24_V26     V23_V28     V23_V29         V25      V3_V23       V3_V4 \n",
       "        0.1         0.1         0.1         0.1         0.1         0.1 \n",
       "      V3_V8      V4_V24      V7_V13      V7_V21      V7_V22      V8_V14 \n",
       "        0.1         0.1         0.1         0.1         0.1         0.1 \n",
       "     V8_V26      V8_V27 \n",
       "        0.1         0.1 \n",
       "\n",
       "\n"
      ]
     },
     "metadata": {},
     "output_type": "display_data"
    }
   ],
   "source": [
    "iRF_bm[[1]]"
   ]
  },
  {
   "cell_type": "code",
   "execution_count": 20,
   "metadata": {},
   "outputs": [
    {
     "name": "stdout",
     "output_type": "stream",
     "text": [
      "[1] \"iteration =  1\"\n",
      "finding interactions ... b = 1;  \n",
      "b = 2;  \n",
      "b = 3;  \n",
      "b = 4;  \n",
      "b = 5;  \n",
      "b = 6;  \n",
      "b = 7;  \n",
      "b = 8;  \n",
      "b = 9;  \n",
      "b = 10;  \n",
      "b = 11;  \n",
      "b = 12;  \n",
      "b = 13;  \n",
      "b = 14;  \n",
      "b = 15;  \n",
      "b = 16;  \n",
      "b = 17;  \n",
      "b = 18;  \n",
      "b = 19;  \n",
      "b = 20;  \n",
      "b = 21;  \n",
      "b = 22;  \n",
      "b = 23;  \n",
      "b = 24;  \n",
      "b = 25;  \n",
      "b = 26;  \n",
      "b = 27;  \n",
      "b = 28;  \n",
      "b = 29;  \n",
      "b = 30;  \n"
     ]
    }
   ],
   "source": [
    "n.cores <- 7\n",
    "registerDoMC(n.cores)\n",
    "\n",
    "ff <- iRF(x=features, y=responses, \n",
    "           find_interaction=TRUE, n_iter=1, n.cores = n.cores, ntree = 20, n.bootstrap =20)"
   ]
  },
  {
   "cell_type": "code",
   "execution_count": 29,
   "metadata": {
    "collapsed": true
   },
   "outputs": [],
   "source": [
    "a <- parse_data(features, responses, train_split_propn = 0.8, N_obs = 'all', N_features = 'all', seed = 2018)"
   ]
  },
  {
   "cell_type": "code",
   "execution_count": 31,
   "metadata": {},
   "outputs": [
    {
     "ename": "ERROR",
     "evalue": "Error in specs[1, \"n_iter\"]: incorrect number of dimensions\n",
     "output_type": "error",
     "traceback": [
      "Error in specs[1, \"n_iter\"]: incorrect number of dimensions\nTraceback:\n",
      "1. get_iRF_benchmarks(a$X_train, a$X_test, a$y_train, a$y_test, \n .     n_trials = 1, K = specs[1, \"n_iter\"], n_estimators = 20, \n .     B = 30, M = 20, max_depth = 5, noisy_split = False, num_splits = 2, \n .     seed = 2018)",
      "2. iRF(x = X_train, y = y_train, xtest = X_test, ytest = y_test, \n .     n_iter = K, ntree = n_estimators, n_core = 3, find_interaction = TRUE, \n .     class_id = 1, cutoff_nodesize_prop = 0.1, n_bootstrap = B, \n .     verbose = TRUE)"
     ]
    }
   ],
   "source": [
    "bm <- get_iRF_benchmarks(a$X_train, a$X_test, a$y_train, a$y_test, n_trials=1,\n",
    "                   K=specs[1,'n_iter'],\n",
    "                   n_estimators=20,\n",
    "                   B=30,\n",
    "                   M=20,\n",
    "                   max_depth=5,\n",
    "                   noisy_split=False,\n",
    "                   num_splits=2,\n",
    "                   seed=2018)"
   ]
  },
  {
   "cell_type": "code",
   "execution_count": 30,
   "metadata": {},
   "outputs": [
    {
     "name": "stdout",
     "output_type": "stream",
     "text": [
      "[1] \"iteration =  1\"\n",
      "finding interactions ... b = 1;  \n",
      "b = 2;  \n",
      "b = 3;  \n",
      "b = 4;  \n",
      "b = 5;  \n",
      "b = 6;  \n",
      "b = 7;  \n",
      "b = 8;  \n",
      "b = 9;  \n",
      "b = 10;  \n",
      "b = 11;  \n",
      "b = 12;  \n",
      "b = 13;  \n",
      "b = 14;  \n",
      "b = 15;  \n",
      "b = 16;  \n",
      "b = 17;  \n",
      "b = 18;  \n",
      "b = 19;  \n",
      "b = 20;  \n",
      "b = 21;  \n",
      "b = 22;  \n",
      "b = 23;  \n",
      "b = 24;  \n",
      "b = 25;  \n",
      "b = 26;  \n",
      "b = 27;  \n",
      "b = 28;  \n",
      "b = 29;  \n",
      "b = 30;  \n",
      "[1] \"AUROC:  0.98\"\n"
     ]
    }
   ],
   "source": [
    "bm <- get_iRF_benchmarks(a$X_train, a$X_test, a$y_train, a$y_test, n_trials=1,\n",
    "                   K=1,\n",
    "                   n_estimators=20,\n",
    "                   B=30,\n",
    "                   M=20,\n",
    "                   max_depth=5,\n",
    "                   noisy_split=False,\n",
    "                   num_splits=2,\n",
    "                   seed=2018)"
   ]
  },
  {
   "cell_type": "code",
   "execution_count": 23,
   "metadata": {},
   "outputs": [
    {
     "data": {
      "text/html": [
       "<ol class=list-inline>\n",
       "\t<li>'metrics_all'</li>\n",
       "\t<li>'metrics_summary'</li>\n",
       "\t<li>'feature_importance'</li>\n",
       "\t<li>'stability_all'</li>\n",
       "\t<li>'ff'</li>\n",
       "</ol>\n"
      ],
      "text/latex": [
       "\\begin{enumerate*}\n",
       "\\item 'metrics\\_all'\n",
       "\\item 'metrics\\_summary'\n",
       "\\item 'feature\\_importance'\n",
       "\\item 'stability\\_all'\n",
       "\\item 'ff'\n",
       "\\end{enumerate*}\n"
      ],
      "text/markdown": [
       "1. 'metrics_all'\n",
       "2. 'metrics_summary'\n",
       "3. 'feature_importance'\n",
       "4. 'stability_all'\n",
       "5. 'ff'\n",
       "\n",
       "\n"
      ],
      "text/plain": [
       "[1] \"metrics_all\"        \"metrics_summary\"    \"feature_importance\"\n",
       "[4] \"stability_all\"      \"ff\"                "
      ]
     },
     "metadata": {},
     "output_type": "display_data"
    }
   ],
   "source": [
    "names(bm)"
   ]
  },
  {
   "cell_type": "code",
   "execution_count": null,
   "metadata": {},
   "outputs": [],
   "source": [
    "bm$feature_importance"
   ]
  },
  {
   "cell_type": "code",
   "execution_count": 3,
   "metadata": {
    "collapsed": true
   },
   "outputs": [],
   "source": [
    "library(yaml)"
   ]
  },
  {
   "cell_type": "code",
   "execution_count": 8,
   "metadata": {},
   "outputs": [],
   "source": [
    "specs <- yaml.load_file('./specs/iRF_mod01.yaml')"
   ]
  },
  {
   "cell_type": "code",
   "execution_count": 9,
   "metadata": {},
   "outputs": [
    {
     "data": {
      "text/html": [
       "<ol class=list-inline>\n",
       "\t<li>'inp_dsname'</li>\n",
       "\t<li>'n_trials'</li>\n",
       "\t<li>'n_iter'</li>\n",
       "\t<li>'train_split_propn'</li>\n",
       "\t<li>'n_estimators'</li>\n",
       "\t<li>'n_bootstraps'</li>\n",
       "\t<li>'propn_n_samples'</li>\n",
       "\t<li>'bin_class_type'</li>\n",
       "\t<li>'n_RIT'</li>\n",
       "\t<li>'max_depth'</li>\n",
       "\t<li>'noisy_split'</li>\n",
       "\t<li>'num_splits'</li>\n",
       "\t<li>'n_estimators_bootstrap'</li>\n",
       "\t<li>'N_obs'</li>\n",
       "\t<li>'N_features'</li>\n",
       "</ol>\n"
      ],
      "text/latex": [
       "\\begin{enumerate*}\n",
       "\\item 'inp\\_dsname'\n",
       "\\item 'n\\_trials'\n",
       "\\item 'n\\_iter'\n",
       "\\item 'train\\_split\\_propn'\n",
       "\\item 'n\\_estimators'\n",
       "\\item 'n\\_bootstraps'\n",
       "\\item 'propn\\_n\\_samples'\n",
       "\\item 'bin\\_class\\_type'\n",
       "\\item 'n\\_RIT'\n",
       "\\item 'max\\_depth'\n",
       "\\item 'noisy\\_split'\n",
       "\\item 'num\\_splits'\n",
       "\\item 'n\\_estimators\\_bootstrap'\n",
       "\\item 'N\\_obs'\n",
       "\\item 'N\\_features'\n",
       "\\end{enumerate*}\n"
      ],
      "text/markdown": [
       "1. 'inp_dsname'\n",
       "2. 'n_trials'\n",
       "3. 'n_iter'\n",
       "4. 'train_split_propn'\n",
       "5. 'n_estimators'\n",
       "6. 'n_bootstraps'\n",
       "7. 'propn_n_samples'\n",
       "8. 'bin_class_type'\n",
       "9. 'n_RIT'\n",
       "10. 'max_depth'\n",
       "11. 'noisy_split'\n",
       "12. 'num_splits'\n",
       "13. 'n_estimators_bootstrap'\n",
       "14. 'N_obs'\n",
       "15. 'N_features'\n",
       "\n",
       "\n"
      ],
      "text/plain": [
       " [1] \"inp_dsname\"             \"n_trials\"               \"n_iter\"                \n",
       " [4] \"train_split_propn\"      \"n_estimators\"           \"n_bootstraps\"          \n",
       " [7] \"propn_n_samples\"        \"bin_class_type\"         \"n_RIT\"                 \n",
       "[10] \"max_depth\"              \"noisy_split\"            \"num_splits\"            \n",
       "[13] \"n_estimators_bootstrap\" \"N_obs\"                  \"N_features\"            "
      ]
     },
     "metadata": {},
     "output_type": "display_data"
    }
   ],
   "source": [
    "names(a)"
   ]
  },
  {
   "cell_type": "code",
   "execution_count": 11,
   "metadata": {},
   "outputs": [],
   "source": [
    "b <- expand.grid(specs)"
   ]
  },
  {
   "cell_type": "code",
   "execution_count": 7,
   "metadata": {
    "scrolled": true
   },
   "outputs": [
    {
     "data": {
      "text/html": [
       "<table>\n",
       "<thead><tr><th scope=col>inp_dsname</th><th scope=col>n_trials</th><th scope=col>n_iter</th><th scope=col>train_split_propn</th><th scope=col>n_estimators</th><th scope=col>n_bootstraps</th><th scope=col>propn_n_samples</th><th scope=col>bin_class_type</th><th scope=col>n_RIT</th><th scope=col>max_depth</th><th scope=col>noisy_split</th><th scope=col>num_splits</th><th scope=col>n_estimators_bootstrap</th><th scope=col>N_obs</th><th scope=col>N_features</th></tr></thead>\n",
       "<tbody>\n",
       "\t<tr><td>breast_cancer</td><td>5            </td><td>5            </td><td>0.8          </td><td>2            </td><td>20           </td><td>0.2          </td><td>1            </td><td>20           </td><td>5            </td><td>FALSE        </td><td>2            </td><td>5            </td><td>all          </td><td>all          </td></tr>\n",
       "</tbody>\n",
       "</table>\n"
      ],
      "text/latex": [
       "\\begin{tabular}{r|lllllllllllllll}\n",
       " inp\\_dsname & n\\_trials & n\\_iter & train\\_split\\_propn & n\\_estimators & n\\_bootstraps & propn\\_n\\_samples & bin\\_class\\_type & n\\_RIT & max\\_depth & noisy\\_split & num\\_splits & n\\_estimators\\_bootstrap & N\\_obs & N\\_features\\\\\n",
       "\\hline\n",
       "\t breast\\_cancer & 5               & 5               & 0.8             & 2               & 20              & 0.2             & 1               & 20              & 5               & FALSE           & 2               & 5               & all             & all            \\\\\n",
       "\\end{tabular}\n"
      ],
      "text/markdown": [
       "\n",
       "inp_dsname | n_trials | n_iter | train_split_propn | n_estimators | n_bootstraps | propn_n_samples | bin_class_type | n_RIT | max_depth | noisy_split | num_splits | n_estimators_bootstrap | N_obs | N_features | \n",
       "|---|\n",
       "| breast_cancer | 5             | 5             | 0.8           | 2             | 20            | 0.2           | 1             | 20            | 5             | FALSE         | 2             | 5             | all           | all           | \n",
       "\n",
       "\n"
      ],
      "text/plain": [
       "  inp_dsname    n_trials n_iter train_split_propn n_estimators n_bootstraps\n",
       "1 breast_cancer 5        5      0.8               2            20          \n",
       "  propn_n_samples bin_class_type n_RIT max_depth noisy_split num_splits\n",
       "1 0.2             1              20    5         FALSE       2         \n",
       "  n_estimators_bootstrap N_obs N_features\n",
       "1 5                      all   all       "
      ]
     },
     "metadata": {},
     "output_type": "display_data"
    }
   ],
   "source": [
    "b[1,]"
   ]
  },
  {
   "cell_type": "code",
   "execution_count": 79,
   "metadata": {},
   "outputs": [
    {
     "ename": "ERROR",
     "evalue": "Error in eval(expr, envir, enclos): object 'b' not found\n",
     "output_type": "error",
     "traceback": [
      "Error in eval(expr, envir, enclos): object 'b' not found\nTraceback:\n"
     ]
    }
   ],
   "source": [
    "b[1,'N_obs']"
   ]
  },
  {
   "cell_type": "code",
   "execution_count": 36,
   "metadata": {
    "scrolled": true
   },
   "outputs": [
    {
     "data": {
      "text/html": [
       "20"
      ],
      "text/latex": [
       "20"
      ],
      "text/markdown": [
       "20"
      ],
      "text/plain": [
       "[1] 20"
      ]
     },
     "metadata": {},
     "output_type": "display_data"
    }
   ],
   "source": [
    "b[1,2]"
   ]
  },
  {
   "cell_type": "code",
   "execution_count": 51,
   "metadata": {},
   "outputs": [
    {
     "ename": "ERROR",
     "evalue": "Error in parse(text = x, srcfile = src): <text>:4:1: unexpected 'else'\n3:     } \n4: else\n   ^\n",
     "output_type": "error",
     "traceback": [
      "Error in parse(text = x, srcfile = src): <text>:4:1: unexpected 'else'\n3:     } \n4: else\n   ^\nTraceback:\n"
     ]
    }
   ],
   "source": [
    "test = 'all'\n",
    "if(test=='no'){print('hi')\n",
    "    } \n",
    "else{print('bye')}"
   ]
  },
  {
   "cell_type": "code",
   "execution_count": null,
   "metadata": {
    "collapsed": true
   },
   "outputs": [],
   "source": []
  }
 ],
 "metadata": {
  "kernelspec": {
   "display_name": "R",
   "language": "R",
   "name": "ir"
  },
  "language_info": {
   "codemirror_mode": "r",
   "file_extension": ".r",
   "mimetype": "text/x-r-source",
   "name": "R",
   "pygments_lexer": "r",
   "version": "3.4.0"
  }
 },
 "nbformat": 4,
 "nbformat_minor": 2
}
