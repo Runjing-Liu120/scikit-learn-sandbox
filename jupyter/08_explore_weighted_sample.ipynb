{
 "cells": [
  {
   "cell_type": "code",
   "execution_count": 11,
   "metadata": {
    "collapsed": false
   },
   "outputs": [],
   "source": [
    "## implement weighted random sampling\n",
    "import numpy as np \n",
    "# only function needed is \"random_sample\" ... replace with sklearn version?\n",
    "\n",
    "def weighted_sample(a, N_samples, p, replace=True): \n",
    "    # a is array from which we are sampliing\n",
    "    # N_samples is the number of samples\n",
    "    # p is the vector of probabilities\n",
    "    \n",
    "    if len(a) != len(p): \n",
    "        raise ValueError(\"probability vector must have the same length as array\")\n",
    "    if np.abs(sum(p) - 1) >= 10**(-15):\n",
    "        raise ValueError(\"probabilities must sum to 1\")\n",
    "\n",
    "    \n",
    "    if replace: # sample with replacement\n",
    "        cdf = np.zeros(np.size(p))\n",
    "        for i in range(len(a)): \n",
    "            cdf[i] = sum(p[0:i+1])\n",
    "        \n",
    "        uniform_samples = np.random.uniform(0,1, N_samples) # this is the step that uses numpy\n",
    "        \n",
    "        index = np.searchsorted(cdf, uniform_samples, side = 'right') # write our own searchsorted?\n",
    "        output = [a[i] for i in index]\n",
    "\n",
    "    else: # sample without replacement\n",
    "        if N_samples>len(a): \n",
    "            raise ValueError(\"N_samples must be less than length of array for sampling without replacement\")\n",
    "        \n",
    "        n = 0\n",
    "        output = [None] * N_samples\n",
    "        while n < N_samples: \n",
    "        \n",
    "            cdf = np.zeros(np.size(p))\n",
    "            for i in range(len(a)): \n",
    "                cdf[i] = sum(p[0:i+1])\n",
    "            cdf /= cdf[-1]\n",
    "            \n",
    "            uniform_sample = np.random.uniform(0,1) # this is the step that uses numpy\n",
    "            index = np.searchsorted(cdf, uniform_sample, side = 'right') # write our own searchsorted?\n",
    "            \n",
    "            print('\\na: ', a)\n",
    "            print('p: ', p)\n",
    "            print('cdf: ', cdf)\n",
    "            print('rng: ', uniform_sample)\n",
    "            print('index: ', index)\n",
    "            \n",
    "            output[n] = a[index]\n",
    "\n",
    "            # without replacement\n",
    "            del a[index]\n",
    "            del p[index]\n",
    "            \n",
    "            n = n+1\n",
    "        \n",
    "    return(output)\n",
    "\n",
    "    \n",
    "\n",
    "    "
   ]
  },
  {
   "cell_type": "code",
   "execution_count": 12,
   "metadata": {
    "collapsed": false
   },
   "outputs": [
    {
     "name": "stdout",
     "output_type": "stream",
     "text": [
      "\n",
      "a:  [4, 2, 18, 3]\n",
      "p:  [0.1, 0.3, 0.2, 0.4]\n",
      "cdf:  [ 0.1  0.4  0.6  1. ]\n",
      "rng:  0.8826538786088812\n",
      "index:  3\n",
      "\n",
      "a:  [4, 2, 18]\n",
      "p:  [0.1, 0.3, 0.2]\n",
      "cdf:  [ 0.16666667  0.66666667  1.        ]\n",
      "rng:  0.27935630809250067\n",
      "index:  1\n",
      "\n",
      "a:  [4, 18]\n",
      "p:  [0.1, 0.2]\n",
      "cdf:  [ 0.33333333  1.        ]\n",
      "rng:  0.07513796195365241\n",
      "index:  0\n",
      "\n",
      "a:  [18]\n",
      "p:  [0.2]\n",
      "cdf:  [ 1.]\n",
      "rng:  0.7242457516458572\n",
      "index:  0\n"
     ]
    },
    {
     "data": {
      "text/plain": [
       "[3, 2, 4, 18]"
      ]
     },
     "execution_count": 12,
     "metadata": {},
     "output_type": "execute_result"
    }
   ],
   "source": [
    "weighted_sample([4, 2, 18, 3], 4, [0.1, 0.3, 0.2, 0.4], replace=False)"
   ]
  },
  {
   "cell_type": "code",
   "execution_count": 6,
   "metadata": {
    "collapsed": false
   },
   "outputs": [
    {
     "name": "stdout",
     "output_type": "stream",
     "text": [
      "[ 0.021478  0.112714  0.040159  0.099587  0.088963  0.150803  0.231457\n",
      "  0.082905  0.101185  0.070749]\n",
      "[ 0.02135717  0.11318231  0.0400311   0.09910058  0.08883451  0.15112294\n",
      "  0.23165852  0.08279344  0.10089532  0.07102412]\n"
     ]
    }
   ],
   "source": [
    "dim = 10\n",
    "N_samples = 10**(6)\n",
    "p = np.random.uniform(0,1,dim)\n",
    "p /= sum(p)\n",
    "\n",
    "samples = weighted_sample(range(dim),N_samples, p)\n",
    "\n",
    "a_samples = np.array(samples)\n",
    "\n",
    "sample_prop = np.zeros(dim)\n",
    "for i in range(dim): \n",
    "    sample_prop[i] = sum(a_samples==i)\n",
    "\n",
    "sample_prop = sample_prop/N_samples\n",
    "\n",
    "print(sample_prop)\n",
    "print(p)"
   ]
  },
  {
   "cell_type": "code",
   "execution_count": null,
   "metadata": {
    "collapsed": true
   },
   "outputs": [],
   "source": []
  },
  {
   "cell_type": "code",
   "execution_count": null,
   "metadata": {
    "collapsed": false
   },
   "outputs": [],
   "source": []
  },
  {
   "cell_type": "raw",
   "metadata": {},
   "source": []
  },
  {
   "cell_type": "code",
   "execution_count": null,
   "metadata": {
    "collapsed": true
   },
   "outputs": [],
   "source": []
  }
 ],
 "metadata": {
  "anaconda-cloud": {},
  "kernelspec": {
   "display_name": "Python [default]",
   "language": "python",
   "name": "python3"
  },
  "language_info": {
   "codemirror_mode": {
    "name": "ipython",
    "version": 3
   },
   "file_extension": ".py",
   "mimetype": "text/x-python",
   "name": "python",
   "nbconvert_exporter": "python",
   "pygments_lexer": "ipython3",
   "version": "3.5.2"
  }
 },
 "nbformat": 4,
 "nbformat_minor": 1
}
