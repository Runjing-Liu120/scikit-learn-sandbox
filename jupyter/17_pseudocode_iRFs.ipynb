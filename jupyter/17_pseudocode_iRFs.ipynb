{
 "cells": [
  {
   "cell_type": "markdown",
   "metadata": {},
   "source": [
    "## RITs Pseudocode"
   ]
  },
  {
   "cell_type": "markdown",
   "metadata": {},
   "source": [
    "* The following is pseudocode to use for the RITs algorithm\n",
    "* It is based on the [original Meinshausen/ Shah](http://www.statslab.cam.ac.uk/~rds37/papers/Shah%20Meinshausen%202013%20Random%20Intersection%20Trees) paper"
   ]
  },
  {
   "cell_type": "markdown",
   "metadata": {},
   "source": [
    "## RITs inputs\n",
    "* **`M`** Number of trees to build\n",
    "* **`D`** Max Tree Depth\n",
    "* **`p`** Children sample node probability threshold (= 0  for no split, i.e. based on uniform (0, 1) RNG with respect the the threshold)\n",
    "* **`n`** Min number of children to sample at each node (if p != 0 then at each node if the split node prob <= `p`, then sample `n` children at that node, else sample `n + 1` children at that node each node)\n",
    "\n",
    "i.e. if we want just a binary RIT i.e. always 2 children sampled at each node then set p = 0 and n = 2."
   ]
  },
  {
   "cell_type": "markdown",
   "metadata": {},
   "source": [
    "## RITs outputs\n",
    "Our version of the RITs should output the following:\n",
    "* `Node` class and The `RIT` class\n",
    "* The random number list of nodes that we generated i.e. as a generator function (for reproducibility and testing)\n",
    "* The entire RITs (for all M trees)"
   ]
  },
  {
   "cell_type": "markdown",
   "metadata": {},
   "source": [
    "## RIT Node class\n",
    "* We need to return the rich RIT object\n",
    "    * The authors mention calculating *prevalence* and *sparsity*, how should we best calculate these metrics?\n",
    "    * Needs to return clean attributes:\n",
    "        * IsNode\n",
    "        * HasChildren\n",
    "        * NumChildren\n",
    "        * Is leaf node\n",
    "        * getIntersectedPath"
   ]
  },
  {
   "cell_type": "markdown",
   "metadata": {},
   "source": [
    "## Summary\n",
    "* At it's core, the RIT is comprised of 3 main modules\n",
    "* **FILTERING:** Subsetting to either the 1's or the 0's\n",
    "* **RANDOM SAMPLING:** The path-nodes in a weighted manner, with/ without replacement, within tree/ outside tree\n",
    "* **INTERSECTION:** Intersecting the selected node paths in a systematic manner"
   ]
  },
  {
   "cell_type": "markdown",
   "metadata": {},
   "source": [
    "## Pseudocode for iRFs and RITs\n",
    "* Question for SVW: How to specify random seeds for all K iterations?"
   ]
  },
  {
   "cell_type": "markdown",
   "metadata": {
    "collapsed": true
   },
   "source": [
    "def random_intersection_tree(#RF params\n",
    "                             **rf_params,\n",
    "                             rf_B, #number of decision trees to fit for each random forest\n",
    "                             rf_weighted=True,\n",
    "                             K=4,\n",
    "                             #RIT params\n",
    "                             M_trees=20, \n",
    "                             max_depth=5, \n",
    "                             n_splits=2,\n",
    "                             noisy_splits=False):\n",
    "    \n",
    "    for k in range(K):\n",
    "        if k == 0 and rf_weighted = True:\n",
    "            #set weights uniformly here for the first iteration\n",
    "            #get the number of features to set this uniform parameter\n",
    "            rf_weights = 1/p\n",
    "            \n",
    "        #Run the random forest with bootstrap samples on the training\n",
    "        #set\n",
    "        rf = RandomForestClassifier(**rf_params, \n",
    "                                    n_estimators=B, \n",
    "                                    rf_weights=rf_weights)\n",
    "        \n",
    "        #reset the weight parameters for the next random forest iteration\n",
    "        rf_weights = rf.feature_importances_\n",
    "        \n",
    "        #get the random forest metrics i.e. validation scores on test data\n",
    "        rf_metrics = irf_utils.get_validation_metrics(inp_class_reg_obj = rf, \n",
    "                                                      y_true = y_test, \n",
    "                                                      X_test = X_test)\n",
    "                                                      \n",
    "        #load into a dictionary for easy re-use later                                           \n",
    "        all_rf_outputs = {\"rf_obj\" : rf,\n",
    "                          \"feature_importances\" : feature_importances,\n",
    "                          \"feature_importances_rank_idx\" : feature_importances_rank_idx,\n",
    "                          \"rf_metrics\" : rf_metrics}\n",
    "           \n",
    "        #get the individual decision tree output for the random forest\n",
    "        #CHECK: The following could be paralellized e.g. joblib!\n",
    "        for idx, dtree in enumerate(rf.estimators_):\n",
    "            dtree_out = irf_utils.get_tree_data(X_train=X_train, \n",
    "                                                dtree=dtree, \n",
    "                                                root_node_id=0)\n",
    "                                                \n",
    "            #Append output to dictionary\n",
    "            all_rf_outputs[\"dtree\" + str(idx)] = dtree_out\n",
    "        \n",
    "        #Run the RIT using the decision tree outputs\n",
    "        #should be a dictionary structure similar to \n",
    "        all_rit_outputs = random_intersection_trees(all_rf_outputs, M_trees=20,\n",
    "                                               max_depth=5,\n",
    "                                               n_splits=2,\n",
    "                                               noisy_splits=False)\n",
    "                                               \n",
    "        #should be able to access the rit_output\n",
    "        stability_score = ...\n",
    "        \n",
    "        #Append the stability score to the RIT\n",
    "        all_rit_outputs['stability_score'] = stability_score\n",
    "        \n",
    "        #return the dictionar\n",
    "        return all_rf_outputs, all_rit_outputs"
   ]
  },
  {
   "cell_type": "code",
   "execution_count": null,
   "metadata": {
    "collapsed": true
   },
   "outputs": [],
   "source": []
  }
 ],
 "metadata": {
  "kernelspec": {
   "display_name": "Python 3",
   "language": "python",
   "name": "python3"
  },
  "language_info": {
   "codemirror_mode": {
    "name": "ipython",
    "version": 3
   },
   "file_extension": ".py",
   "mimetype": "text/x-python",
   "name": "python",
   "nbconvert_exporter": "python",
   "pygments_lexer": "ipython3",
   "version": "3.6.1"
  }
 },
 "nbformat": 4,
 "nbformat_minor": 2
}
