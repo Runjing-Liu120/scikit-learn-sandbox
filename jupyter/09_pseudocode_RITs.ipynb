{
 "cells": [
  {
   "cell_type": "markdown",
   "metadata": {},
   "source": [
    "## RITs Pseudocode"
   ]
  },
  {
   "cell_type": "markdown",
   "metadata": {},
   "source": [
    "* The following is pseudocode to use for the RITs algorithm\n",
    "* It is based on the [original Meinshausen/ Shah](http://www.statslab.cam.ac.uk/~rds37/papers/Shah%20Meinshausen%202013%20Random%20Intersection%20Trees) paper"
   ]
  },
  {
   "cell_type": "markdown",
   "metadata": {},
   "source": [
    "## RITs inputs\n",
    "* **`M`** Number of trees to build\n",
    "* **`D`** Max Tree Depth\n",
    "* **`p`** Children sample node probability threshold (= 0  for no split, i.e. based on uniform (0, 1) RNG with respect the the threshold)\n",
    "* **`n`** Min number of children to sample at each node (if p != 0 then at each node if the split node prob <= `p`, then sample `n` children at that node, else sample `n + 1` children at that node each node)\n",
    "\n",
    "i.e. if we want just a binary RIT i.e. always 2 children sampled at each node then set p = 0 and n = 2."
   ]
  },
  {
   "cell_type": "markdown",
   "metadata": {},
   "source": [
    "## RITs outputs\n",
    "Our version of the RITs should output the following:\n",
    "* `Node` class and The `RIT` class\n",
    "* The random number list of nodes that we generated i.e. as a generator function (for reproducibility and testing)\n",
    "* The entire RITs (for all M trees)"
   ]
  },
  {
   "cell_type": "markdown",
   "metadata": {},
   "source": [
    "## RIT Node class\n",
    "* We need to return the rich RIT object\n",
    "    * The authors mention calculating *prevalence* and *sparsity*, how should we best calculate these metrics?\n",
    "    * Needs to return clean attributes:\n",
    "        * IsNode\n",
    "        * HasChildren\n",
    "        * NumChildren\n",
    "        * Is leaf node\n",
    "        * getIntersectedPath"
   ]
  },
  {
   "cell_type": "markdown",
   "metadata": {},
   "source": [
    "## Summary\n",
    "* At it's core, the RIT is comprised of 3 main modules\n",
    "* **FILTERING:** Subsetting to either the 1's or the 0's\n",
    "* **RANDOM SAMPLING:** The path-nodes in a weighted manner, with/ without replacement, within tree/ outside tree\n",
    "* **INTERSECTION:** Intersecting the selected node paths in a systematic manner"
   ]
  }
 ],
 "metadata": {
  "kernelspec": {
   "display_name": "Python 3",
   "language": "python",
   "name": "python3"
  },
  "language_info": {
   "codemirror_mode": {
    "name": "ipython",
    "version": 3
   },
   "file_extension": ".py",
   "mimetype": "text/x-python",
   "name": "python",
   "nbconvert_exporter": "python",
   "pygments_lexer": "ipython3",
   "version": "3.6.1"
  }
 },
 "nbformat": 4,
 "nbformat_minor": 2
}
