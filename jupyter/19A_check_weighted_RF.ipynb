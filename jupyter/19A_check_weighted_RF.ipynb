{
 "cells": [
  {
   "cell_type": "markdown",
   "metadata": {},
   "source": [
    "# Check the output of weighted random forest"
   ]
  },
  {
   "cell_type": "code",
   "execution_count": 19,
   "metadata": {
    "collapsed": false
   },
   "outputs": [
    {
     "data": {
      "text/plain": [
       "<module 'utils.irf_utils' from '/home/yu/github/scikit-learn-sandbox/jupyter/utils/irf_utils.py'>"
      ]
     },
     "execution_count": 19,
     "metadata": {},
     "output_type": "execute_result"
    }
   ],
   "source": [
    "%matplotlib inline\n",
    "import matplotlib.pyplot as plt\n",
    "\n",
    "from sklearn.datasets import load_breast_cancer\n",
    "import numpy as np\n",
    "from functools import reduce\n",
    "\n",
    "# Import our custom utilities\n",
    "from imp import reload\n",
    "from utils import irf_jupyter_utils\n",
    "from utils import irf_utils\n",
    "reload(irf_jupyter_utils)\n",
    "reload(irf_utils)"
   ]
  },
  {
   "cell_type": "markdown",
   "metadata": {},
   "source": [
    "## When feature_weight = None, the output should match Random Forest.\n",
    "\n",
    "original RF result is stored in feature_weight1 below."
   ]
  },
  {
   "cell_type": "code",
   "execution_count": 41,
   "metadata": {
    "collapsed": true
   },
   "outputs": [],
   "source": [
    "feature_weight0 = None"
   ]
  },
  {
   "cell_type": "code",
   "execution_count": 42,
   "metadata": {
    "collapsed": false
   },
   "outputs": [],
   "source": [
    "X_train, X_test, y_train, y_test, rf = irf_jupyter_utils.generate_rf_example(n_estimators=1000, \n",
    "                                                                             feature_weight=feature_weight0)"
   ]
  },
  {
   "cell_type": "code",
   "execution_count": 43,
   "metadata": {
    "collapsed": true
   },
   "outputs": [],
   "source": [
    "all_rf_tree_data = irf_utils.get_rf_tree_data(rf=rf,\n",
    "                                              X_train=X_train, y_train=y_train, \n",
    "                                              X_test=X_test, y_test=y_test)\n",
    "#all_rf_tree_data"
   ]
  },
  {
   "cell_type": "code",
   "execution_count": 44,
   "metadata": {
    "collapsed": false
   },
   "outputs": [
    {
     "name": "stdout",
     "output_type": "stream",
     "text": [
      "[ 0.04633261  0.01279795  0.04649524  0.05372707  0.00613899  0.01410021\n",
      "  0.04617194  0.08346155  0.00365378  0.00379191  0.01370514  0.00441408\n",
      "  0.01102853  0.03730455  0.00456819  0.00397247  0.00564707  0.00500305\n",
      "  0.00441179  0.00429459  0.11649582  0.01827778  0.14157085  0.11806595\n",
      "  0.01195991  0.01511598  0.03314478  0.11802327  0.00953361  0.00679134]\n"
     ]
    }
   ],
   "source": [
    "# Print the feature importance\n",
    "feature_importances_rank_idx0 = all_rf_tree_data['feature_importances_rank_idx']\n",
    "feature_importances0 = all_rf_tree_data['feature_importances']\n",
    "\n",
    "print(feature_importances0)"
   ]
  },
  {
   "cell_type": "code",
   "execution_count": 35,
   "metadata": {
    "collapsed": true
   },
   "outputs": [],
   "source": [
    "correct_feature_importance =[ 0.04153319,  0.0136872,   0.05287382,  0.05537257,  0.00571718,  0.01101297,\n",
    "  0.04525511,  0.08925701,  0.00407582,  0.00337926,  0.01301454,  0.00396505,\n",
    "  0.01022279,  0.03255195,  0.00498767,  0.00438016,  0.00771317,  0.00459407,\n",
    "  0.0037973,   0.00448982,  0.10938616,  0.01690837,  0.14415417,  0.1204331,\n",
    "  0.01276175,  0.01472586,  0.03019196,  0.12449026,  0.00858072,  0.00648698]"
   ]
  },
  {
   "cell_type": "markdown",
   "metadata": {},
   "source": [
    "## When feature_weight is uniform, it should give the same feature importance."
   ]
  },
  {
   "cell_type": "code",
   "execution_count": 45,
   "metadata": {
    "collapsed": true
   },
   "outputs": [],
   "source": [
    "feature_weight1 = [1]*30"
   ]
  },
  {
   "cell_type": "code",
   "execution_count": 46,
   "metadata": {
    "collapsed": false
   },
   "outputs": [],
   "source": [
    "X_train, X_test, y_train, y_test, rf = irf_jupyter_utils.generate_rf_example(n_estimators=1000, \n",
    "                                                                             feature_weight=feature_weight1)"
   ]
  },
  {
   "cell_type": "code",
   "execution_count": 47,
   "metadata": {
    "collapsed": true
   },
   "outputs": [],
   "source": [
    "all_rf_tree_data = irf_utils.get_rf_tree_data(rf=rf,\n",
    "                                              X_train=X_train, y_train=y_train, \n",
    "                                              X_test=X_test, y_test=y_test)\n",
    "#all_rf_tree_data"
   ]
  },
  {
   "cell_type": "code",
   "execution_count": 48,
   "metadata": {
    "collapsed": false
   },
   "outputs": [
    {
     "name": "stdout",
     "output_type": "stream",
     "text": [
      "[ 0.0415338   0.01366645  0.05287091  0.05537852  0.00572123  0.01101832\n",
      "  0.04525511  0.08928869  0.00409541  0.00339203  0.01302611  0.0039895\n",
      "  0.01021391  0.03256535  0.00498974  0.00435811  0.00778621  0.00450661\n",
      "  0.00379767  0.00445639  0.10939255  0.01688089  0.14412127  0.12044069\n",
      "  0.01279928  0.01472586  0.03016603  0.12449986  0.00858419  0.00647933]\n"
     ]
    }
   ],
   "source": [
    "#feature importance \n",
    "feature_importances_rank_idx1 = all_rf_tree_data['feature_importances_rank_idx']\n",
    "feature_importances1 = all_rf_tree_data['feature_importances']\n",
    "\n",
    "print(feature_importances1)"
   ]
  },
  {
   "cell_type": "markdown",
   "metadata": {},
   "source": [
    "## When feature_weight is weighted, it should give the roughly same feature ranking."
   ]
  },
  {
   "cell_type": "code",
   "execution_count": 56,
   "metadata": {
    "collapsed": true
   },
   "outputs": [],
   "source": [
    "feature_weight2 = correct_feature_importance"
   ]
  },
  {
   "cell_type": "code",
   "execution_count": 57,
   "metadata": {
    "collapsed": false
   },
   "outputs": [],
   "source": [
    "X_train, X_test, y_train, y_test, rf = irf_jupyter_utils.generate_rf_example(n_estimators=1000, \n",
    "                                                                             feature_weight=feature_weight2)"
   ]
  },
  {
   "cell_type": "code",
   "execution_count": 58,
   "metadata": {
    "collapsed": true
   },
   "outputs": [],
   "source": [
    "all_rf_tree_data = irf_utils.get_rf_tree_data(rf=rf,\n",
    "                                              X_train=X_train, y_train=y_train, \n",
    "                                              X_test=X_test, y_test=y_test)\n",
    "#all_rf_tree_data"
   ]
  },
  {
   "cell_type": "code",
   "execution_count": 59,
   "metadata": {
    "collapsed": false
   },
   "outputs": [
    {
     "name": "stdout",
     "output_type": "stream",
     "text": [
      " 1. feature 22 (0.144121272) and feature 22 (0.362967269)\n",
      " 2. feature 27 (0.124499864) and feature 27 (0.188293202)\n",
      " 3. feature 23 (0.120440687) and feature 23 (0.150729617)\n",
      " 4. feature 20 (0.109392549) and feature  7 (0.099945902)\n",
      " 5. feature  7 (0.089288686) and feature 20 (0.093353878)\n",
      " 6. feature  3 (0.055378517) and feature 26 (0.012864982)\n",
      " 7. feature  2 (0.052870910) and feature  6 (0.012603343)\n",
      " 8. feature  6 (0.045255112) and feature  3 (0.012566934)\n",
      " 9. feature  0 (0.041533803) and feature  2 (0.010233424)\n",
      "10. feature 13 (0.032565353) and feature 21 (0.009941866)\n",
      "11. feature 26 (0.030166028) and feature 13 (0.009454457)\n",
      "12. feature 21 (0.016880889) and feature  1 (0.006836309)\n",
      "13. feature 25 (0.014725862) and feature  0 (0.006545199)\n",
      "14. feature  1 (0.013666447) and feature 24 (0.003600213)\n",
      "15. feature 10 (0.013026106) and feature 25 (0.003404557)\n",
      "16. feature 24 (0.012799277) and feature 10 (0.002887115)\n",
      "17. feature  5 (0.011018324) and feature 28 (0.001976389)\n",
      "18. feature 12 (0.010213907) and feature 12 (0.001932204)\n",
      "19. feature 28 (0.008584187) and feature 29 (0.001755179)\n",
      "20. feature 16 (0.007786206) and feature  5 (0.001429263)\n",
      "21. feature 29 (0.006479330) and feature 16 (0.001113038)\n",
      "22. feature  4 (0.005721232) and feature  4 (0.000997067)\n",
      "23. feature 14 (0.004989737) and feature 11 (0.000704047)\n",
      "24. feature 17 (0.004506607) and feature 18 (0.000688298)\n",
      "25. feature 19 (0.004456389) and feature 14 (0.000629995)\n",
      "26. feature 15 (0.004358114) and feature  8 (0.000604649)\n",
      "27. feature  8 (0.004095411) and feature 17 (0.000582948)\n",
      "28. feature 11 (0.003989504) and feature 19 (0.000560846)\n",
      "29. feature 18 (0.003797667) and feature 15 (0.000504888)\n",
      "30. feature  9 (0.003392026) and feature  9 (0.000292922)\n"
     ]
    }
   ],
   "source": [
    "#feature importance \n",
    "feature_importances_rank_idx2 = all_rf_tree_data['feature_importances_rank_idx']\n",
    "feature_importances2 = all_rf_tree_data['feature_importances']\n",
    "for f in range(X_train.shape[1]):\n",
    "    print(\"%2d. feature %2d (%10.9f) and feature %2d (%10.9f)\" % (f + 1\n",
    "                                   , feature_importances_rank_idx1[f]\n",
    "                                   , feature_importances1[feature_importances_rank_idx1[f]]\n",
    "                                   , feature_importances_rank_idx2[f]\n",
    "                                   , feature_importances2[feature_importances_rank_idx2[f]]))"
   ]
  }
 ],
 "metadata": {
  "anaconda-cloud": {},
  "kernelspec": {
   "display_name": "Python 3",
   "language": "python",
   "name": "python3"
  },
  "language_info": {
   "codemirror_mode": {
    "name": "ipython",
    "version": 3
   },
   "file_extension": ".py",
   "mimetype": "text/x-python",
   "name": "python",
   "nbconvert_exporter": "python",
   "pygments_lexer": "ipython3",
   "version": "3.5.2"
  }
 },
 "nbformat": 4,
 "nbformat_minor": 2
}
