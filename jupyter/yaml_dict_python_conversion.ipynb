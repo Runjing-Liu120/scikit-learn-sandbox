{
 "cells": [
  {
   "cell_type": "code",
   "execution_count": 74,
   "metadata": {},
   "outputs": [
    {
     "data": {
      "text/plain": [
       "<module 'utils.irf_jupyter_utils' from '/Users/shamindras/PERSONAL/LEARNING/REPOS/scikit-learn-sandbox/jupyter/utils/irf_jupyter_utils.py'>"
      ]
     },
     "execution_count": 74,
     "metadata": {},
     "output_type": "execute_result"
    }
   ],
   "source": [
    "# Import our custom utilities\n",
    "import os\n",
    "import yaml\n",
    "from imp import reload\n",
    "from utils import irf_jupyter_utils\n",
    "reload(irf_jupyter_utils)"
   ]
  },
  {
   "cell_type": "code",
   "execution_count": 75,
   "metadata": {},
   "outputs": [
    {
     "data": {
      "text/plain": [
       "{'N_features': [10, 40, 70],\n",
       " 'N_obs': [2000, 3000, 4000],\n",
       " 'n_estimators': [20],\n",
       " 'n_trials': 10,\n",
       " 'train_split_propn': 0.8}"
      ]
     },
     "execution_count": 75,
     "metadata": {},
     "output_type": "execute_result"
    }
   ],
   "source": [
    "out_test_dict = irf_jupyter_utils.yaml_to_dict(inp_yaml='model_specs_test.yaml')\n",
    "out_test_dict"
   ]
  },
  {
   "cell_type": "code",
   "execution_count": 78,
   "metadata": {},
   "outputs": [
    {
     "data": {
      "text/plain": [
       "{'N_features': [10, 40, 70],\n",
       " 'N_obs': [2000, 3000, 4000],\n",
       " 'n_estimators': [20],\n",
       " 'n_trials': 10,\n",
       " 'new_value': [4, 5, 6, 7, 8],\n",
       " 'train_split_propn': 0.8}"
      ]
     },
     "execution_count": 78,
     "metadata": {},
     "output_type": "execute_result"
    }
   ],
   "source": [
    "out_test_dict['new_value'] = list(range(4, 9))\n",
    "out_test_dict"
   ]
  },
  {
   "cell_type": "code",
   "execution_count": 79,
   "metadata": {
    "collapsed": true
   },
   "outputs": [],
   "source": [
    "dict_to_yaml(inp_dict=out_test_dict,\n",
    "             out_yaml_dir=\"./model/output\",\n",
    "             out_yaml_name='out_test_new')"
   ]
  },
  {
   "cell_type": "code",
   "execution_count": 72,
   "metadata": {},
   "outputs": [
    {
     "data": {
      "text/plain": [
       "{'N_features': [10, 40, 70],\n",
       " 'N_obs': [2000, 3000, 4000],\n",
       " 'n_estimators': [20],\n",
       " 'n_trials': 10,\n",
       " 'new_value': [4, 5, 6, 7, 8],\n",
       " 'train_split_propn': 0.8}"
      ]
     },
     "execution_count": 72,
     "metadata": {},
     "output_type": "execute_result"
    }
   ],
   "source": [
    "out_test_new = irf_jupyter_utils.yaml_to_dict(inp_yaml='./model/output/out_test_new.yaml')\n",
    "out_test_new"
   ]
  }
 ],
 "metadata": {
  "kernelspec": {
   "display_name": "Python 3",
   "language": "python",
   "name": "python3"
  },
  "language_info": {
   "codemirror_mode": {
    "name": "ipython",
    "version": 3
   },
   "file_extension": ".py",
   "mimetype": "text/x-python",
   "name": "python",
   "nbconvert_exporter": "python",
   "pygments_lexer": "ipython3",
   "version": "3.6.1"
  }
 },
 "nbformat": 4,
 "nbformat_minor": 2
}
