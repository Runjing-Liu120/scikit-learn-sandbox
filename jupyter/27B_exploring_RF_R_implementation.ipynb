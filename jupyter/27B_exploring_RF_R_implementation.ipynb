{
 "cells": [
  {
   "cell_type": "markdown",
   "metadata": {},
   "source": [
    "# Random Forest benchmarks in R"
   ]
  },
  {
   "cell_type": "code",
   "execution_count": 1,
   "metadata": {
    "scrolled": true
   },
   "outputs": [
    {
     "name": "stderr",
     "output_type": "stream",
     "text": [
      "randomForest 4.6-12\n",
      "Type rfNews() to see new features/changes/bug fixes.\n"
     ]
    }
   ],
   "source": [
    "source('utils/iRF_benchmarks_Rlib.R')"
   ]
  },
  {
   "cell_type": "markdown",
   "metadata": {},
   "source": [
    "## Load data"
   ]
  },
  {
   "cell_type": "code",
   "execution_count": 2,
   "metadata": {},
   "outputs": [
    {
     "data": {
      "text/html": [
       "<table>\n",
       "<thead><tr><th scope=col>y</th><th scope=col>x_0</th><th scope=col>x_1</th><th scope=col>x_2</th><th scope=col>x_3</th><th scope=col>x_4</th><th scope=col>x_5</th><th scope=col>x_6</th><th scope=col>x_7</th><th scope=col>x_8</th><th scope=col>⋯</th><th scope=col>x_20</th><th scope=col>x_21</th><th scope=col>x_22</th><th scope=col>x_23</th><th scope=col>x_24</th><th scope=col>x_25</th><th scope=col>x_26</th><th scope=col>x_27</th><th scope=col>x_28</th><th scope=col>x_29</th></tr></thead>\n",
       "<tbody>\n",
       "\t<tr><td>M      </td><td>17.99  </td><td>10.38  </td><td>122.80 </td><td>1001.0 </td><td>0.11840</td><td>0.27760</td><td>0.3001 </td><td>0.14710</td><td>0.2419 </td><td>⋯      </td><td>25.38  </td><td>17.33  </td><td>184.60 </td><td>2019.0 </td><td>0.1622 </td><td>0.6656 </td><td>0.7119 </td><td>0.2654 </td><td>0.4601 </td><td>0.11890</td></tr>\n",
       "\t<tr><td>M      </td><td>20.57  </td><td>17.77  </td><td>132.90 </td><td>1326.0 </td><td>0.08474</td><td>0.07864</td><td>0.0869 </td><td>0.07017</td><td>0.1812 </td><td>⋯      </td><td>24.99  </td><td>23.41  </td><td>158.80 </td><td>1956.0 </td><td>0.1238 </td><td>0.1866 </td><td>0.2416 </td><td>0.1860 </td><td>0.2750 </td><td>0.08902</td></tr>\n",
       "\t<tr><td>M      </td><td>19.69  </td><td>21.25  </td><td>130.00 </td><td>1203.0 </td><td>0.10960</td><td>0.15990</td><td>0.1974 </td><td>0.12790</td><td>0.2069 </td><td>⋯      </td><td>23.57  </td><td>25.53  </td><td>152.50 </td><td>1709.0 </td><td>0.1444 </td><td>0.4245 </td><td>0.4504 </td><td>0.2430 </td><td>0.3613 </td><td>0.08758</td></tr>\n",
       "\t<tr><td>M      </td><td>11.42  </td><td>20.38  </td><td> 77.58 </td><td> 386.1 </td><td>0.14250</td><td>0.28390</td><td>0.2414 </td><td>0.10520</td><td>0.2597 </td><td>⋯      </td><td>14.91  </td><td>26.50  </td><td> 98.87 </td><td> 567.7 </td><td>0.2098 </td><td>0.8663 </td><td>0.6869 </td><td>0.2575 </td><td>0.6638 </td><td>0.17300</td></tr>\n",
       "\t<tr><td>M      </td><td>20.29  </td><td>14.34  </td><td>135.10 </td><td>1297.0 </td><td>0.10030</td><td>0.13280</td><td>0.1980 </td><td>0.10430</td><td>0.1809 </td><td>⋯      </td><td>22.54  </td><td>16.67  </td><td>152.20 </td><td>1575.0 </td><td>0.1374 </td><td>0.2050 </td><td>0.4000 </td><td>0.1625 </td><td>0.2364 </td><td>0.07678</td></tr>\n",
       "\t<tr><td>M      </td><td>12.45  </td><td>15.70  </td><td> 82.57 </td><td> 477.1 </td><td>0.12780</td><td>0.17000</td><td>0.1578 </td><td>0.08089</td><td>0.2087 </td><td>⋯      </td><td>15.47  </td><td>23.75  </td><td>103.40 </td><td> 741.6 </td><td>0.1791 </td><td>0.5249 </td><td>0.5355 </td><td>0.1741 </td><td>0.3985 </td><td>0.12440</td></tr>\n",
       "</tbody>\n",
       "</table>\n"
      ],
      "text/latex": [
       "\\begin{tabular}{r|lllllllllllllllllllllllllllllll}\n",
       " y & x\\_0 & x\\_1 & x\\_2 & x\\_3 & x\\_4 & x\\_5 & x\\_6 & x\\_7 & x\\_8 & ⋯ & x\\_20 & x\\_21 & x\\_22 & x\\_23 & x\\_24 & x\\_25 & x\\_26 & x\\_27 & x\\_28 & x\\_29\\\\\n",
       "\\hline\n",
       "\t M       & 17.99   & 10.38   & 122.80  & 1001.0  & 0.11840 & 0.27760 & 0.3001  & 0.14710 & 0.2419  & ⋯       & 25.38   & 17.33   & 184.60  & 2019.0  & 0.1622  & 0.6656  & 0.7119  & 0.2654  & 0.4601  & 0.11890\\\\\n",
       "\t M       & 20.57   & 17.77   & 132.90  & 1326.0  & 0.08474 & 0.07864 & 0.0869  & 0.07017 & 0.1812  & ⋯       & 24.99   & 23.41   & 158.80  & 1956.0  & 0.1238  & 0.1866  & 0.2416  & 0.1860  & 0.2750  & 0.08902\\\\\n",
       "\t M       & 19.69   & 21.25   & 130.00  & 1203.0  & 0.10960 & 0.15990 & 0.1974  & 0.12790 & 0.2069  & ⋯       & 23.57   & 25.53   & 152.50  & 1709.0  & 0.1444  & 0.4245  & 0.4504  & 0.2430  & 0.3613  & 0.08758\\\\\n",
       "\t M       & 11.42   & 20.38   &  77.58  &  386.1  & 0.14250 & 0.28390 & 0.2414  & 0.10520 & 0.2597  & ⋯       & 14.91   & 26.50   &  98.87  &  567.7  & 0.2098  & 0.8663  & 0.6869  & 0.2575  & 0.6638  & 0.17300\\\\\n",
       "\t M       & 20.29   & 14.34   & 135.10  & 1297.0  & 0.10030 & 0.13280 & 0.1980  & 0.10430 & 0.1809  & ⋯       & 22.54   & 16.67   & 152.20  & 1575.0  & 0.1374  & 0.2050  & 0.4000  & 0.1625  & 0.2364  & 0.07678\\\\\n",
       "\t M       & 12.45   & 15.70   &  82.57  &  477.1  & 0.12780 & 0.17000 & 0.1578  & 0.08089 & 0.2087  & ⋯       & 15.47   & 23.75   & 103.40  &  741.6  & 0.1791  & 0.5249  & 0.5355  & 0.1741  & 0.3985  & 0.12440\\\\\n",
       "\\end{tabular}\n"
      ],
      "text/markdown": [
       "\n",
       "y | x_0 | x_1 | x_2 | x_3 | x_4 | x_5 | x_6 | x_7 | x_8 | ⋯ | x_20 | x_21 | x_22 | x_23 | x_24 | x_25 | x_26 | x_27 | x_28 | x_29 | \n",
       "|---|---|---|---|---|---|\n",
       "| M       | 17.99   | 10.38   | 122.80  | 1001.0  | 0.11840 | 0.27760 | 0.3001  | 0.14710 | 0.2419  | ⋯       | 25.38   | 17.33   | 184.60  | 2019.0  | 0.1622  | 0.6656  | 0.7119  | 0.2654  | 0.4601  | 0.11890 | \n",
       "| M       | 20.57   | 17.77   | 132.90  | 1326.0  | 0.08474 | 0.07864 | 0.0869  | 0.07017 | 0.1812  | ⋯       | 24.99   | 23.41   | 158.80  | 1956.0  | 0.1238  | 0.1866  | 0.2416  | 0.1860  | 0.2750  | 0.08902 | \n",
       "| M       | 19.69   | 21.25   | 130.00  | 1203.0  | 0.10960 | 0.15990 | 0.1974  | 0.12790 | 0.2069  | ⋯       | 23.57   | 25.53   | 152.50  | 1709.0  | 0.1444  | 0.4245  | 0.4504  | 0.2430  | 0.3613  | 0.08758 | \n",
       "| M       | 11.42   | 20.38   |  77.58  |  386.1  | 0.14250 | 0.28390 | 0.2414  | 0.10520 | 0.2597  | ⋯       | 14.91   | 26.50   |  98.87  |  567.7  | 0.2098  | 0.8663  | 0.6869  | 0.2575  | 0.6638  | 0.17300 | \n",
       "| M       | 20.29   | 14.34   | 135.10  | 1297.0  | 0.10030 | 0.13280 | 0.1980  | 0.10430 | 0.1809  | ⋯       | 22.54   | 16.67   | 152.20  | 1575.0  | 0.1374  | 0.2050  | 0.4000  | 0.1625  | 0.2364  | 0.07678 | \n",
       "| M       | 12.45   | 15.70   |  82.57  |  477.1  | 0.12780 | 0.17000 | 0.1578  | 0.08089 | 0.2087  | ⋯       | 15.47   | 23.75   | 103.40  |  741.6  | 0.1791  | 0.5249  | 0.5355  | 0.1741  | 0.3985  | 0.12440 | \n",
       "\n",
       "\n"
      ],
      "text/plain": [
       "  y x_0   x_1   x_2    x_3    x_4     x_5     x_6    x_7     x_8    ⋯ x_20 \n",
       "1 M 17.99 10.38 122.80 1001.0 0.11840 0.27760 0.3001 0.14710 0.2419 ⋯ 25.38\n",
       "2 M 20.57 17.77 132.90 1326.0 0.08474 0.07864 0.0869 0.07017 0.1812 ⋯ 24.99\n",
       "3 M 19.69 21.25 130.00 1203.0 0.10960 0.15990 0.1974 0.12790 0.2069 ⋯ 23.57\n",
       "4 M 11.42 20.38  77.58  386.1 0.14250 0.28390 0.2414 0.10520 0.2597 ⋯ 14.91\n",
       "5 M 20.29 14.34 135.10 1297.0 0.10030 0.13280 0.1980 0.10430 0.1809 ⋯ 22.54\n",
       "6 M 12.45 15.70  82.57  477.1 0.12780 0.17000 0.1578 0.08089 0.2087 ⋯ 15.47\n",
       "  x_21  x_22   x_23   x_24   x_25   x_26   x_27   x_28   x_29   \n",
       "1 17.33 184.60 2019.0 0.1622 0.6656 0.7119 0.2654 0.4601 0.11890\n",
       "2 23.41 158.80 1956.0 0.1238 0.1866 0.2416 0.1860 0.2750 0.08902\n",
       "3 25.53 152.50 1709.0 0.1444 0.4245 0.4504 0.2430 0.3613 0.08758\n",
       "4 26.50  98.87  567.7 0.2098 0.8663 0.6869 0.2575 0.6638 0.17300\n",
       "5 16.67 152.20 1575.0 0.1374 0.2050 0.4000 0.1625 0.2364 0.07678\n",
       "6 23.75 103.40  741.6 0.1791 0.5249 0.5355 0.1741 0.3985 0.12440"
      ]
     },
     "metadata": {},
     "output_type": "display_data"
    }
   ],
   "source": [
    "#load breast cancer data\n",
    "\n",
    "raw_data <- read.delim(\"http://ftp.cs.wisc.edu/math-prog/cpo-dataset/machine-learn/cancer/WDBC/WDBC.dat\", \n",
    "                       sep = \",\", header = FALSE)\n",
    "raw_data <- raw_data[, -1] # remove first column, its just an identifier\n",
    "\n",
    "# name the columns\n",
    "names(raw_data)[2:dim(raw_data)[2]] <- paste(\"x_\", 0:29, sep=\"\") \n",
    "names(raw_data)[1] <- 'y'\n",
    "\n",
    "head(raw_data)\n",
    "\n",
    "features <- raw_data[,-1]\n",
    "responses <- raw_data[,1]"
   ]
  },
  {
   "cell_type": "code",
   "execution_count": 2,
   "metadata": {
    "collapsed": true
   },
   "outputs": [],
   "source": [
    "# load splicing data\n",
    "\n",
    "splice.data <- read.table('Y_X_splicing.txt')\n",
    "idcs.high <- splice.data$psi > 0.7\n",
    "idcs.low <- splice.data$psi < 0.3\n",
    "splice.data$y <- rep(0, nrow(splice.data))\n",
    "splice.data$y[idcs.high] <- 1\n",
    "splice.data <- splice.data[idcs.high | idcs.low,]\n",
    "\n",
    "n.full <- nrow(splice.data)\n",
    "idcs.train <- sample(1:n.full, floor(n.full * 0.5))\n",
    "idcs.test <- (1:n.full)[-idcs.train]\n",
    "\n",
    "x <- splice.data[,!colnames(splice.data) %in% c('psi', 'y')]\n",
    "x <- x[,1:270]\n",
    "features <- as.matrix(x)\n",
    "responses <- as.factor(splice.data$y)"
   ]
  },
  {
   "cell_type": "markdown",
   "metadata": {},
   "source": [
    "## Call function to run benchmarks"
   ]
  },
  {
   "cell_type": "code",
   "execution_count": 3,
   "metadata": {
    "collapsed": true,
    "scrolled": true
   },
   "outputs": [],
   "source": [
    "train_split_propn = 0.8\n",
    "n_estimators = 20\n",
    "n_trials = 10\n",
    "\n",
    "benchmarks <- RF_benchmarks(features, responses, train_split_propn = train_split_propn, \\\n",
    "                            n_estimators = n_estimators, n_trials=n_trials)"
   ]
  },
  {
   "cell_type": "markdown",
   "metadata": {},
   "source": [
    "## Lets look at the results"
   ]
  },
  {
   "cell_type": "markdown",
   "metadata": {},
   "source": [
    "### Relevant parameters"
   ]
  },
  {
   "cell_type": "code",
   "execution_count": 4,
   "metadata": {},
   "outputs": [
    {
     "name": "stdout",
     "output_type": "stream",
     "text": [
      "Dimensions of full dataset (#samples , # features):  23823 270 \n",
      "Number of training samples:  19058 \n",
      "Number of test samples:  4765 \n",
      "number of trees in the random forest:  20"
     ]
    }
   ],
   "source": [
    "cat('Dimensions of full dataset (#samples , # features): ', dim(features), '\\n')\n",
    "cat('Number of training samples: ', round(dim(features)[1] * train_split_propn), '\\n')\n",
    "cat('Number of test samples: ', round(dim(features)[1]*(1-train_split_propn)),  '\\n')\n",
    "cat('number of trees in the random forest: ', n_estimators)"
   ]
  },
  {
   "cell_type": "markdown",
   "metadata": {},
   "source": [
    "### Timing and some accuracy scores across trials"
   ]
  },
  {
   "cell_type": "code",
   "execution_count": 5,
   "metadata": {},
   "outputs": [
    {
     "name": "stdout",
     "output_type": "stream",
     "text": [
      "[1] \"mean and std of various metrics across trials\"\n"
     ]
    },
    {
     "data": {
      "text/html": [
       "<dl>\n",
       "\t<dt>$times</dt>\n",
       "\t\t<dd><ol class=list-inline>\n",
       "\t<li>23.3010655879974</li>\n",
       "\t<li>0.854427392022546</li>\n",
       "</ol>\n",
       "</dd>\n",
       "\t<dt>$score</dt>\n",
       "\t\t<dd><ol class=list-inline>\n",
       "\t<li>0.902602854743913</li>\n",
       "\t<li>0.00202790046826048</li>\n",
       "</ol>\n",
       "</dd>\n",
       "\t<dt>$OOB_error</dt>\n",
       "\t\t<dd><ol class=list-inline>\n",
       "\t<li>0.0986906827909452</li>\n",
       "\t<li>0.00076880038582341</li>\n",
       "</ol>\n",
       "</dd>\n",
       "\t<dt>$class1_error</dt>\n",
       "\t\t<dd><ol class=list-inline>\n",
       "\t<li>0.781824927017824</li>\n",
       "\t<li>0.00303096076576515</li>\n",
       "</ol>\n",
       "</dd>\n",
       "\t<dt>$class2_error</dt>\n",
       "\t\t<dd><ol class=list-inline>\n",
       "\t<li>0.0091379140106072</li>\n",
       "\t<li>0.000679688621385331</li>\n",
       "</ol>\n",
       "</dd>\n",
       "</dl>\n"
      ],
      "text/latex": [
       "\\begin{description}\n",
       "\\item[\\$times] \\begin{enumerate*}\n",
       "\\item 23.3010655879974\n",
       "\\item 0.854427392022546\n",
       "\\end{enumerate*}\n",
       "\n",
       "\\item[\\$score] \\begin{enumerate*}\n",
       "\\item 0.902602854743913\n",
       "\\item 0.00202790046826048\n",
       "\\end{enumerate*}\n",
       "\n",
       "\\item[\\$OOB\\_error] \\begin{enumerate*}\n",
       "\\item 0.0986906827909452\n",
       "\\item 0.00076880038582341\n",
       "\\end{enumerate*}\n",
       "\n",
       "\\item[\\$class1\\_error] \\begin{enumerate*}\n",
       "\\item 0.781824927017824\n",
       "\\item 0.00303096076576515\n",
       "\\end{enumerate*}\n",
       "\n",
       "\\item[\\$class2\\_error] \\begin{enumerate*}\n",
       "\\item 0.0091379140106072\n",
       "\\item 0.000679688621385331\n",
       "\\end{enumerate*}\n",
       "\n",
       "\\end{description}\n"
      ],
      "text/markdown": [
       "$times\n",
       ":   1. 23.3010655879974\n",
       "2. 0.854427392022546\n",
       "\n",
       "\n",
       "\n",
       "$score\n",
       ":   1. 0.902602854743913\n",
       "2. 0.00202790046826048\n",
       "\n",
       "\n",
       "\n",
       "$OOB_error\n",
       ":   1. 0.0986906827909452\n",
       "2. 0.00076880038582341\n",
       "\n",
       "\n",
       "\n",
       "$class1_error\n",
       ":   1. 0.781824927017824\n",
       "2. 0.00303096076576515\n",
       "\n",
       "\n",
       "\n",
       "$class2_error\n",
       ":   1. 0.0091379140106072\n",
       "2. 0.000679688621385331\n",
       "\n",
       "\n",
       "\n",
       "\n",
       "\n"
      ],
      "text/plain": [
       "$times\n",
       "[1] 23.3010656  0.8544274\n",
       "\n",
       "$score\n",
       "[1] 0.9026029 0.0020279\n",
       "\n",
       "$OOB_error\n",
       "[1] 0.0986906828 0.0007688004\n",
       "\n",
       "$class1_error\n",
       "[1] 0.781824927 0.003030961\n",
       "\n",
       "$class2_error\n",
       "[1] 0.0091379140 0.0006796886\n"
      ]
     },
     "metadata": {},
     "output_type": "display_data"
    }
   ],
   "source": [
    "print('mean and std of various metrics across trials')\n",
    "benchmarks$metrics_summary"
   ]
  },
  {
   "cell_type": "markdown",
   "metadata": {},
   "source": [
    "### Stability of feature importances across trials"
   ]
  },
  {
   "cell_type": "code",
   "execution_count": 6,
   "metadata": {},
   "outputs": [
    {
     "name": "stdout",
     "output_type": "stream",
     "text": [
      "[1] \"top five feature importances across trials\"\n",
      "[1] 255 267 266 259 261\n",
      "[1] 255 259 267 266 263\n",
      "[1] 266 255 267 259 263\n",
      "[1] 267 255 259 263 266\n",
      "[1] 255 266 267 259 263\n",
      "[1] 267 255 259 266 261\n",
      "[1] 267 255 266 259 261\n",
      "[1] 255 267 266 259 263\n",
      "[1] 267 255 266 263 259\n",
      "[1] 266 255 267 259 263\n"
     ]
    }
   ],
   "source": [
    "print('top five feature importances across trials')\n",
    "\n",
    "for(i in 1:n_trials){ \n",
    "    # sort by feature importance\n",
    "    x <- benchmarks$feature_importance[[i]]\n",
    "    ord <- order(x, decreasing = TRUE)\n",
    "    print(ord[0:5] - 1) # -1 to compare with python output\n",
    "    #x <- x[ord, ]\n",
    "    #print(x[0:5])    \n",
    "    \n",
    "    }\n"
   ]
  },
  {
   "cell_type": "code",
   "execution_count": null,
   "metadata": {
    "collapsed": true
   },
   "outputs": [],
   "source": []
  }
 ],
 "metadata": {
  "kernelspec": {
   "display_name": "R",
   "language": "R",
   "name": "ir"
  },
  "language_info": {
   "codemirror_mode": "r",
   "file_extension": ".r",
   "mimetype": "text/x-r-source",
   "name": "R",
   "pygments_lexer": "r",
   "version": "3.4.0"
  }
 },
 "nbformat": 4,
 "nbformat_minor": 2
}
