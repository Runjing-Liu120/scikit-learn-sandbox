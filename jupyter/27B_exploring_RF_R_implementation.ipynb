{
 "cells": [
  {
   "cell_type": "markdown",
   "metadata": {},
   "source": [
    "# iRF benchmarks in R"
   ]
  },
  {
   "cell_type": "code",
   "execution_count": 1,
   "metadata": {
    "collapsed": false,
    "scrolled": false
   },
   "outputs": [
    {
     "name": "stderr",
     "output_type": "stream",
     "text": [
      "randomForest 4.6-12\n",
      "Type rfNews() to see new features/changes/bug fixes.\n",
      "Loading required package: foreach\n",
      "Loading required package: iterators\n",
      "Loading required package: AUC\n",
      "AUC 0.3.0\n",
      "Type AUCNews() to see the change log and ?AUC to get an overview.\n",
      "Loading required package: akima\n",
      "iRF 1.0.0\n",
      "\n",
      "Attaching package: ‘iRF’\n",
      "\n",
      "The following objects are masked from ‘package:randomForest’:\n",
      "\n",
      "    classCenter, combine, getTree, grow, importance, margin, MDSplot,\n",
      "    na.roughfix, outlier, partialPlot, randomForest, rfcv, rfImpute,\n",
      "    rfNews, treesize, tuneRF, varImpPlot, varUsed\n",
      "\n"
     ]
    }
   ],
   "source": [
    "source('utils/iRF_benchmarks_Rlib.R')\n",
    "library(iRF)"
   ]
  },
  {
   "cell_type": "markdown",
   "metadata": {},
   "source": [
    "## Load data"
   ]
  },
  {
   "cell_type": "code",
   "execution_count": 2,
   "metadata": {
    "collapsed": false,
    "scrolled": true
   },
   "outputs": [
    {
     "data": {
      "text/html": [
       "<table>\n",
       "<thead><tr><th scope=col>y</th><th scope=col>x_0</th><th scope=col>x_1</th><th scope=col>x_2</th><th scope=col>x_3</th><th scope=col>x_4</th><th scope=col>x_5</th><th scope=col>x_6</th><th scope=col>x_7</th><th scope=col>x_8</th><th scope=col>⋯</th><th scope=col>x_20</th><th scope=col>x_21</th><th scope=col>x_22</th><th scope=col>x_23</th><th scope=col>x_24</th><th scope=col>x_25</th><th scope=col>x_26</th><th scope=col>x_27</th><th scope=col>x_28</th><th scope=col>x_29</th></tr></thead>\n",
       "<tbody>\n",
       "\t<tr><td>M      </td><td>17.99  </td><td>10.38  </td><td>122.80 </td><td>1001.0 </td><td>0.11840</td><td>0.27760</td><td>0.3001 </td><td>0.14710</td><td>0.2419 </td><td>⋯      </td><td>25.38  </td><td>17.33  </td><td>184.60 </td><td>2019.0 </td><td>0.1622 </td><td>0.6656 </td><td>0.7119 </td><td>0.2654 </td><td>0.4601 </td><td>0.11890</td></tr>\n",
       "\t<tr><td>M      </td><td>20.57  </td><td>17.77  </td><td>132.90 </td><td>1326.0 </td><td>0.08474</td><td>0.07864</td><td>0.0869 </td><td>0.07017</td><td>0.1812 </td><td>⋯      </td><td>24.99  </td><td>23.41  </td><td>158.80 </td><td>1956.0 </td><td>0.1238 </td><td>0.1866 </td><td>0.2416 </td><td>0.1860 </td><td>0.2750 </td><td>0.08902</td></tr>\n",
       "\t<tr><td>M      </td><td>19.69  </td><td>21.25  </td><td>130.00 </td><td>1203.0 </td><td>0.10960</td><td>0.15990</td><td>0.1974 </td><td>0.12790</td><td>0.2069 </td><td>⋯      </td><td>23.57  </td><td>25.53  </td><td>152.50 </td><td>1709.0 </td><td>0.1444 </td><td>0.4245 </td><td>0.4504 </td><td>0.2430 </td><td>0.3613 </td><td>0.08758</td></tr>\n",
       "\t<tr><td>M      </td><td>11.42  </td><td>20.38  </td><td> 77.58 </td><td> 386.1 </td><td>0.14250</td><td>0.28390</td><td>0.2414 </td><td>0.10520</td><td>0.2597 </td><td>⋯      </td><td>14.91  </td><td>26.50  </td><td> 98.87 </td><td> 567.7 </td><td>0.2098 </td><td>0.8663 </td><td>0.6869 </td><td>0.2575 </td><td>0.6638 </td><td>0.17300</td></tr>\n",
       "\t<tr><td>M      </td><td>20.29  </td><td>14.34  </td><td>135.10 </td><td>1297.0 </td><td>0.10030</td><td>0.13280</td><td>0.1980 </td><td>0.10430</td><td>0.1809 </td><td>⋯      </td><td>22.54  </td><td>16.67  </td><td>152.20 </td><td>1575.0 </td><td>0.1374 </td><td>0.2050 </td><td>0.4000 </td><td>0.1625 </td><td>0.2364 </td><td>0.07678</td></tr>\n",
       "\t<tr><td>M      </td><td>12.45  </td><td>15.70  </td><td> 82.57 </td><td> 477.1 </td><td>0.12780</td><td>0.17000</td><td>0.1578 </td><td>0.08089</td><td>0.2087 </td><td>⋯      </td><td>15.47  </td><td>23.75  </td><td>103.40 </td><td> 741.6 </td><td>0.1791 </td><td>0.5249 </td><td>0.5355 </td><td>0.1741 </td><td>0.3985 </td><td>0.12440</td></tr>\n",
       "</tbody>\n",
       "</table>\n"
      ],
      "text/latex": [
       "\\begin{tabular}{r|lllllllllllllllllllllllllllllll}\n",
       " y & x\\_0 & x\\_1 & x\\_2 & x\\_3 & x\\_4 & x\\_5 & x\\_6 & x\\_7 & x\\_8 & ⋯ & x\\_20 & x\\_21 & x\\_22 & x\\_23 & x\\_24 & x\\_25 & x\\_26 & x\\_27 & x\\_28 & x\\_29\\\\\n",
       "\\hline\n",
       "\t M       & 17.99   & 10.38   & 122.80  & 1001.0  & 0.11840 & 0.27760 & 0.3001  & 0.14710 & 0.2419  & ⋯       & 25.38   & 17.33   & 184.60  & 2019.0  & 0.1622  & 0.6656  & 0.7119  & 0.2654  & 0.4601  & 0.11890\\\\\n",
       "\t M       & 20.57   & 17.77   & 132.90  & 1326.0  & 0.08474 & 0.07864 & 0.0869  & 0.07017 & 0.1812  & ⋯       & 24.99   & 23.41   & 158.80  & 1956.0  & 0.1238  & 0.1866  & 0.2416  & 0.1860  & 0.2750  & 0.08902\\\\\n",
       "\t M       & 19.69   & 21.25   & 130.00  & 1203.0  & 0.10960 & 0.15990 & 0.1974  & 0.12790 & 0.2069  & ⋯       & 23.57   & 25.53   & 152.50  & 1709.0  & 0.1444  & 0.4245  & 0.4504  & 0.2430  & 0.3613  & 0.08758\\\\\n",
       "\t M       & 11.42   & 20.38   &  77.58  &  386.1  & 0.14250 & 0.28390 & 0.2414  & 0.10520 & 0.2597  & ⋯       & 14.91   & 26.50   &  98.87  &  567.7  & 0.2098  & 0.8663  & 0.6869  & 0.2575  & 0.6638  & 0.17300\\\\\n",
       "\t M       & 20.29   & 14.34   & 135.10  & 1297.0  & 0.10030 & 0.13280 & 0.1980  & 0.10430 & 0.1809  & ⋯       & 22.54   & 16.67   & 152.20  & 1575.0  & 0.1374  & 0.2050  & 0.4000  & 0.1625  & 0.2364  & 0.07678\\\\\n",
       "\t M       & 12.45   & 15.70   &  82.57  &  477.1  & 0.12780 & 0.17000 & 0.1578  & 0.08089 & 0.2087  & ⋯       & 15.47   & 23.75   & 103.40  &  741.6  & 0.1791  & 0.5249  & 0.5355  & 0.1741  & 0.3985  & 0.12440\\\\\n",
       "\\end{tabular}\n"
      ],
      "text/markdown": [
       "\n",
       "y | x_0 | x_1 | x_2 | x_3 | x_4 | x_5 | x_6 | x_7 | x_8 | ⋯ | x_20 | x_21 | x_22 | x_23 | x_24 | x_25 | x_26 | x_27 | x_28 | x_29 | \n",
       "|---|---|---|---|---|---|\n",
       "| M       | 17.99   | 10.38   | 122.80  | 1001.0  | 0.11840 | 0.27760 | 0.3001  | 0.14710 | 0.2419  | ⋯       | 25.38   | 17.33   | 184.60  | 2019.0  | 0.1622  | 0.6656  | 0.7119  | 0.2654  | 0.4601  | 0.11890 | \n",
       "| M       | 20.57   | 17.77   | 132.90  | 1326.0  | 0.08474 | 0.07864 | 0.0869  | 0.07017 | 0.1812  | ⋯       | 24.99   | 23.41   | 158.80  | 1956.0  | 0.1238  | 0.1866  | 0.2416  | 0.1860  | 0.2750  | 0.08902 | \n",
       "| M       | 19.69   | 21.25   | 130.00  | 1203.0  | 0.10960 | 0.15990 | 0.1974  | 0.12790 | 0.2069  | ⋯       | 23.57   | 25.53   | 152.50  | 1709.0  | 0.1444  | 0.4245  | 0.4504  | 0.2430  | 0.3613  | 0.08758 | \n",
       "| M       | 11.42   | 20.38   |  77.58  |  386.1  | 0.14250 | 0.28390 | 0.2414  | 0.10520 | 0.2597  | ⋯       | 14.91   | 26.50   |  98.87  |  567.7  | 0.2098  | 0.8663  | 0.6869  | 0.2575  | 0.6638  | 0.17300 | \n",
       "| M       | 20.29   | 14.34   | 135.10  | 1297.0  | 0.10030 | 0.13280 | 0.1980  | 0.10430 | 0.1809  | ⋯       | 22.54   | 16.67   | 152.20  | 1575.0  | 0.1374  | 0.2050  | 0.4000  | 0.1625  | 0.2364  | 0.07678 | \n",
       "| M       | 12.45   | 15.70   |  82.57  |  477.1  | 0.12780 | 0.17000 | 0.1578  | 0.08089 | 0.2087  | ⋯       | 15.47   | 23.75   | 103.40  |  741.6  | 0.1791  | 0.5249  | 0.5355  | 0.1741  | 0.3985  | 0.12440 | \n",
       "\n",
       "\n"
      ],
      "text/plain": [
       "  y x_0   x_1   x_2    x_3    x_4     x_5     x_6    x_7     x_8    ⋯ x_20 \n",
       "1 M 17.99 10.38 122.80 1001.0 0.11840 0.27760 0.3001 0.14710 0.2419 ⋯ 25.38\n",
       "2 M 20.57 17.77 132.90 1326.0 0.08474 0.07864 0.0869 0.07017 0.1812 ⋯ 24.99\n",
       "3 M 19.69 21.25 130.00 1203.0 0.10960 0.15990 0.1974 0.12790 0.2069 ⋯ 23.57\n",
       "4 M 11.42 20.38  77.58  386.1 0.14250 0.28390 0.2414 0.10520 0.2597 ⋯ 14.91\n",
       "5 M 20.29 14.34 135.10 1297.0 0.10030 0.13280 0.1980 0.10430 0.1809 ⋯ 22.54\n",
       "6 M 12.45 15.70  82.57  477.1 0.12780 0.17000 0.1578 0.08089 0.2087 ⋯ 15.47\n",
       "  x_21  x_22   x_23   x_24   x_25   x_26   x_27   x_28   x_29   \n",
       "1 17.33 184.60 2019.0 0.1622 0.6656 0.7119 0.2654 0.4601 0.11890\n",
       "2 23.41 158.80 1956.0 0.1238 0.1866 0.2416 0.1860 0.2750 0.08902\n",
       "3 25.53 152.50 1709.0 0.1444 0.4245 0.4504 0.2430 0.3613 0.08758\n",
       "4 26.50  98.87  567.7 0.2098 0.8663 0.6869 0.2575 0.6638 0.17300\n",
       "5 16.67 152.20 1575.0 0.1374 0.2050 0.4000 0.1625 0.2364 0.07678\n",
       "6 23.75 103.40  741.6 0.1791 0.5249 0.5355 0.1741 0.3985 0.12440"
      ]
     },
     "metadata": {},
     "output_type": "display_data"
    }
   ],
   "source": [
    "#load breast cancer data\n",
    "\n",
    "raw_data <- read.delim(\"http://ftp.cs.wisc.edu/math-prog/cpo-dataset/machine-learn/cancer/WDBC/WDBC.dat\", \n",
    "                       sep = \",\", header = FALSE)\n",
    "raw_data <- raw_data[, -1] # remove first column, its just an identifier\n",
    "\n",
    "# name the columns\n",
    "names(raw_data)[2:dim(raw_data)[2]] <- paste(\"x_\", 0:29, sep=\"\") \n",
    "names(raw_data)[1] <- 'y'\n",
    "\n",
    "head(raw_data)\n",
    "\n",
    "features <- as.matrix(raw_data[,-1])\n",
    "responses <- rep(0,dim(features)[1])\n",
    "\n",
    "responses[raw_data[,1] == 'M'] <- 1\n",
    "responses <- as.factor(responses)\n",
    "\n"
   ]
  },
  {
   "cell_type": "code",
   "execution_count": 36,
   "metadata": {
    "collapsed": false
   },
   "outputs": [
    {
     "data": {
      "text/html": [
       "<table>\n",
       "<thead><tr><th></th><th scope=col>MYC_body_UTA</th><th scope=col>CTCF_body_UTA</th><th scope=col>POLR2A_body_UTA</th><th scope=col>ARID3A_body_Stanford</th><th scope=col>ATF1_body_HMS</th><th scope=col>ATF3_body_HMS</th><th scope=col>BACH1_body_Stanford</th><th scope=col>BDP1_body_HMS</th><th scope=col>BHLHE40_body_Stanford</th><th scope=col>BRF1_body_HMS</th><th scope=col>⋯</th><th scope=col>AUH_body_UCSD.1</th><th scope=col>IGF2BP1_body_UCSD.1</th><th scope=col>HNRNPM_body_UCSD.1</th><th scope=col>SLTM_body_UCSD.1</th><th scope=col>IGF2BP2_body_UCSD</th><th scope=col>IGF2BP2_body_UCSD.1</th><th scope=col>LARP7_body_UCSD.1</th><th scope=col>DDX42_body_UCSD.1</th><th scope=col>psi</th><th scope=col>y</th></tr></thead>\n",
       "<tbody>\n",
       "\t<tr><th scope=row>chr10_100177909_100178014_-</th><td>0       </td><td>0.0000  </td><td>0.0000  </td><td>0       </td><td>0       </td><td>0       </td><td>0       </td><td>0       </td><td> 0.00000</td><td>0       </td><td>⋯       </td><td>0       </td><td>0.000000</td><td>0       </td><td>0       </td><td>0.000000</td><td>0.000000</td><td>0       </td><td>0       </td><td>1.00000 </td><td>1       </td></tr>\n",
       "\t<tr><th scope=row>chr10_100179802_100180126_-</th><td>0       </td><td>0.0000  </td><td>0.0000  </td><td>0       </td><td>0       </td><td>0       </td><td>0       </td><td>0       </td><td> 0.00000</td><td>0       </td><td>⋯       </td><td>0       </td><td>0.000000</td><td>0       </td><td>0       </td><td>0.000000</td><td>0.000000</td><td>0       </td><td>0       </td><td>1.00000 </td><td>1       </td></tr>\n",
       "\t<tr><th scope=row>chr10_100185575_100185860_-</th><td>0       </td><td>1.4637  </td><td>0.0292  </td><td>0       </td><td>0       </td><td>0       </td><td>0       </td><td>0       </td><td>10.10235</td><td>0       </td><td>⋯       </td><td>0       </td><td>4.693925</td><td>0       </td><td>0       </td><td>1.707351</td><td>7.245618</td><td>0       </td><td>0       </td><td>1.00000 </td><td>1       </td></tr>\n",
       "\t<tr><th scope=row>chr10_100188908_100189399_-</th><td>0       </td><td>0.0000  </td><td>0.0000  </td><td>0       </td><td>0       </td><td>0       </td><td>0       </td><td>0       </td><td> 0.00000</td><td>0       </td><td>⋯       </td><td>0       </td><td>0.000000</td><td>0       </td><td>0       </td><td>0.000000</td><td>0.000000</td><td>0       </td><td>0       </td><td>1.00000 </td><td>1       </td></tr>\n",
       "\t<tr><th scope=row>chr10_100188913_100189399_-</th><td>0       </td><td>0.0000  </td><td>0.0000  </td><td>0       </td><td>0       </td><td>0       </td><td>0       </td><td>0       </td><td> 0.00000</td><td>0       </td><td>⋯       </td><td>0       </td><td>0.000000</td><td>0       </td><td>0       </td><td>0.000000</td><td>0.000000</td><td>0       </td><td>0       </td><td>1.00000 </td><td>1       </td></tr>\n",
       "\t<tr><th scope=row>chr10_100194843_100195171_-</th><td>0       </td><td>0.0000  </td><td>0.0000  </td><td>0       </td><td>0       </td><td>0       </td><td>0       </td><td>0       </td><td> 0.00000</td><td>0       </td><td>⋯       </td><td>0       </td><td>0.000000</td><td>0       </td><td>0       </td><td>2.118391</td><td>0.000000</td><td>0       </td><td>0       </td><td>0.81847 </td><td>1       </td></tr>\n",
       "</tbody>\n",
       "</table>\n"
      ],
      "text/latex": [
       "\\begin{tabular}{r|lllllllllllllllllllllllllllllllllllllllllllllllllllllllllllllllllllllllllllllllllllllllllllllllllllllllllllllllllllllllllllllllllllllllllllllllllllllllllllllllllllllllllllllllllllllllllllllllllllllllllllllllllllllllllllllllllllllllllllllllllllllllllllllllllllllllllllllllllllllllllllllllllllllllllllllllllll}\n",
       "  & MYC\\_body\\_UTA & CTCF\\_body\\_UTA & POLR2A\\_body\\_UTA & ARID3A\\_body\\_Stanford & ATF1\\_body\\_HMS & ATF3\\_body\\_HMS & BACH1\\_body\\_Stanford & BDP1\\_body\\_HMS & BHLHE40\\_body\\_Stanford & BRF1\\_body\\_HMS & ⋯ & AUH\\_body\\_UCSD.1 & IGF2BP1\\_body\\_UCSD.1 & HNRNPM\\_body\\_UCSD.1 & SLTM\\_body\\_UCSD.1 & IGF2BP2\\_body\\_UCSD & IGF2BP2\\_body\\_UCSD.1 & LARP7\\_body\\_UCSD.1 & DDX42\\_body\\_UCSD.1 & psi & y\\\\\n",
       "\\hline\n",
       "\tchr10\\_100177909\\_100178014\\_- & 0        & 0.0000   & 0.0000   & 0        & 0        & 0        & 0        & 0        &  0.00000 & 0        & ⋯        & 0        & 0.000000 & 0        & 0        & 0.000000 & 0.000000 & 0        & 0        & 1.00000  & 1       \\\\\n",
       "\tchr10\\_100179802\\_100180126\\_- & 0        & 0.0000   & 0.0000   & 0        & 0        & 0        & 0        & 0        &  0.00000 & 0        & ⋯        & 0        & 0.000000 & 0        & 0        & 0.000000 & 0.000000 & 0        & 0        & 1.00000  & 1       \\\\\n",
       "\tchr10\\_100185575\\_100185860\\_- & 0        & 1.4637   & 0.0292   & 0        & 0        & 0        & 0        & 0        & 10.10235 & 0        & ⋯        & 0        & 4.693925 & 0        & 0        & 1.707351 & 7.245618 & 0        & 0        & 1.00000  & 1       \\\\\n",
       "\tchr10\\_100188908\\_100189399\\_- & 0        & 0.0000   & 0.0000   & 0        & 0        & 0        & 0        & 0        &  0.00000 & 0        & ⋯        & 0        & 0.000000 & 0        & 0        & 0.000000 & 0.000000 & 0        & 0        & 1.00000  & 1       \\\\\n",
       "\tchr10\\_100188913\\_100189399\\_- & 0        & 0.0000   & 0.0000   & 0        & 0        & 0        & 0        & 0        &  0.00000 & 0        & ⋯        & 0        & 0.000000 & 0        & 0        & 0.000000 & 0.000000 & 0        & 0        & 1.00000  & 1       \\\\\n",
       "\tchr10\\_100194843\\_100195171\\_- & 0        & 0.0000   & 0.0000   & 0        & 0        & 0        & 0        & 0        &  0.00000 & 0        & ⋯        & 0        & 0.000000 & 0        & 0        & 2.118391 & 0.000000 & 0        & 0        & 0.81847  & 1       \\\\\n",
       "\\end{tabular}\n"
      ],
      "text/markdown": [
       "\n",
       "| <!--/--> | MYC_body_UTA | CTCF_body_UTA | POLR2A_body_UTA | ARID3A_body_Stanford | ATF1_body_HMS | ATF3_body_HMS | BACH1_body_Stanford | BDP1_body_HMS | BHLHE40_body_Stanford | BRF1_body_HMS | ⋯ | AUH_body_UCSD.1 | IGF2BP1_body_UCSD.1 | HNRNPM_body_UCSD.1 | SLTM_body_UCSD.1 | IGF2BP2_body_UCSD | IGF2BP2_body_UCSD.1 | LARP7_body_UCSD.1 | DDX42_body_UCSD.1 | psi | y | \n",
       "|---|---|---|---|---|---|\n",
       "| chr10_100177909_100178014_- | 0        | 0.0000   | 0.0000   | 0        | 0        | 0        | 0        | 0        |  0.00000 | 0        | ⋯        | 0        | 0.000000 | 0        | 0        | 0.000000 | 0.000000 | 0        | 0        | 1.00000  | 1        | \n",
       "| chr10_100179802_100180126_- | 0        | 0.0000   | 0.0000   | 0        | 0        | 0        | 0        | 0        |  0.00000 | 0        | ⋯        | 0        | 0.000000 | 0        | 0        | 0.000000 | 0.000000 | 0        | 0        | 1.00000  | 1        | \n",
       "| chr10_100185575_100185860_- | 0        | 1.4637   | 0.0292   | 0        | 0        | 0        | 0        | 0        | 10.10235 | 0        | ⋯        | 0        | 4.693925 | 0        | 0        | 1.707351 | 7.245618 | 0        | 0        | 1.00000  | 1        | \n",
       "| chr10_100188908_100189399_- | 0        | 0.0000   | 0.0000   | 0        | 0        | 0        | 0        | 0        |  0.00000 | 0        | ⋯        | 0        | 0.000000 | 0        | 0        | 0.000000 | 0.000000 | 0        | 0        | 1.00000  | 1        | \n",
       "| chr10_100188913_100189399_- | 0        | 0.0000   | 0.0000   | 0        | 0        | 0        | 0        | 0        |  0.00000 | 0        | ⋯        | 0        | 0.000000 | 0        | 0        | 0.000000 | 0.000000 | 0        | 0        | 1.00000  | 1        | \n",
       "| chr10_100194843_100195171_- | 0        | 0.0000   | 0.0000   | 0        | 0        | 0        | 0        | 0        |  0.00000 | 0        | ⋯        | 0        | 0.000000 | 0        | 0        | 2.118391 | 0.000000 | 0        | 0        | 0.81847  | 1        | \n",
       "\n",
       "\n"
      ],
      "text/plain": [
       "                            MYC_body_UTA CTCF_body_UTA POLR2A_body_UTA\n",
       "chr10_100177909_100178014_- 0            0.0000        0.0000         \n",
       "chr10_100179802_100180126_- 0            0.0000        0.0000         \n",
       "chr10_100185575_100185860_- 0            1.4637        0.0292         \n",
       "chr10_100188908_100189399_- 0            0.0000        0.0000         \n",
       "chr10_100188913_100189399_- 0            0.0000        0.0000         \n",
       "chr10_100194843_100195171_- 0            0.0000        0.0000         \n",
       "                            ARID3A_body_Stanford ATF1_body_HMS ATF3_body_HMS\n",
       "chr10_100177909_100178014_- 0                    0             0            \n",
       "chr10_100179802_100180126_- 0                    0             0            \n",
       "chr10_100185575_100185860_- 0                    0             0            \n",
       "chr10_100188908_100189399_- 0                    0             0            \n",
       "chr10_100188913_100189399_- 0                    0             0            \n",
       "chr10_100194843_100195171_- 0                    0             0            \n",
       "                            BACH1_body_Stanford BDP1_body_HMS\n",
       "chr10_100177909_100178014_- 0                   0            \n",
       "chr10_100179802_100180126_- 0                   0            \n",
       "chr10_100185575_100185860_- 0                   0            \n",
       "chr10_100188908_100189399_- 0                   0            \n",
       "chr10_100188913_100189399_- 0                   0            \n",
       "chr10_100194843_100195171_- 0                   0            \n",
       "                            BHLHE40_body_Stanford BRF1_body_HMS ⋯\n",
       "chr10_100177909_100178014_-  0.00000              0             ⋯\n",
       "chr10_100179802_100180126_-  0.00000              0             ⋯\n",
       "chr10_100185575_100185860_- 10.10235              0             ⋯\n",
       "chr10_100188908_100189399_-  0.00000              0             ⋯\n",
       "chr10_100188913_100189399_-  0.00000              0             ⋯\n",
       "chr10_100194843_100195171_-  0.00000              0             ⋯\n",
       "                            AUH_body_UCSD.1 IGF2BP1_body_UCSD.1\n",
       "chr10_100177909_100178014_- 0               0.000000           \n",
       "chr10_100179802_100180126_- 0               0.000000           \n",
       "chr10_100185575_100185860_- 0               4.693925           \n",
       "chr10_100188908_100189399_- 0               0.000000           \n",
       "chr10_100188913_100189399_- 0               0.000000           \n",
       "chr10_100194843_100195171_- 0               0.000000           \n",
       "                            HNRNPM_body_UCSD.1 SLTM_body_UCSD.1\n",
       "chr10_100177909_100178014_- 0                  0               \n",
       "chr10_100179802_100180126_- 0                  0               \n",
       "chr10_100185575_100185860_- 0                  0               \n",
       "chr10_100188908_100189399_- 0                  0               \n",
       "chr10_100188913_100189399_- 0                  0               \n",
       "chr10_100194843_100195171_- 0                  0               \n",
       "                            IGF2BP2_body_UCSD IGF2BP2_body_UCSD.1\n",
       "chr10_100177909_100178014_- 0.000000          0.000000           \n",
       "chr10_100179802_100180126_- 0.000000          0.000000           \n",
       "chr10_100185575_100185860_- 1.707351          7.245618           \n",
       "chr10_100188908_100189399_- 0.000000          0.000000           \n",
       "chr10_100188913_100189399_- 0.000000          0.000000           \n",
       "chr10_100194843_100195171_- 2.118391          0.000000           \n",
       "                            LARP7_body_UCSD.1 DDX42_body_UCSD.1 psi     y\n",
       "chr10_100177909_100178014_- 0                 0                 1.00000 1\n",
       "chr10_100179802_100180126_- 0                 0                 1.00000 1\n",
       "chr10_100185575_100185860_- 0                 0                 1.00000 1\n",
       "chr10_100188908_100189399_- 0                 0                 1.00000 1\n",
       "chr10_100188913_100189399_- 0                 0                 1.00000 1\n",
       "chr10_100194843_100195171_- 0                 0                 0.81847 1"
      ]
     },
     "metadata": {},
     "output_type": "display_data"
    }
   ],
   "source": [
    "# load splicing data\n",
    "\n",
    "splice.data <- read.table('Y_X_splicing.txt')\n",
    "idcs.high <- splice.data$psi > 0.7\n",
    "idcs.low <- splice.data$psi < 0.3\n",
    "splice.data$y <- rep(0, nrow(splice.data))\n",
    "splice.data$y[idcs.high] <- 1\n",
    "splice.data <- splice.data[idcs.high | idcs.low,]\n",
    "\n",
    "n.full <- nrow(splice.data)\n",
    "idcs.train <- sample(1:n.full, floor(n.full * 0.5))\n",
    "idcs.test <- (1:n.full)[-idcs.train]\n",
    "\n",
    "x <- splice.data[,!colnames(splice.data) %in% c('psi', 'y')]\n",
    "x <- x[,1:270]\n",
    "features <- as.matrix(x)\n",
    "responses <- as.factor(splice.data$y)\n",
    "\n",
    "head(splice.data)"
   ]
  },
  {
   "cell_type": "markdown",
   "metadata": {},
   "source": [
    "## Call function to run benchmarks"
   ]
  },
  {
   "cell_type": "code",
   "execution_count": 6,
   "metadata": {
    "collapsed": true,
    "scrolled": true
   },
   "outputs": [],
   "source": [
    "train_split_propn = 0.8\n",
    "n_estimators = 100\n",
    "n_trials = 10\n",
    "\n",
    "benchmarks <- RF_benchmarks(features, responses, train_split_propn = train_split_propn, \n",
    "                            n_estimators = n_estimators, n_trials=n_trials)"
   ]
  },
  {
   "cell_type": "markdown",
   "metadata": {},
   "source": [
    "## Lets look at the results"
   ]
  },
  {
   "cell_type": "markdown",
   "metadata": {},
   "source": [
    "### Relevant parameters"
   ]
  },
  {
   "cell_type": "code",
   "execution_count": 7,
   "metadata": {
    "collapsed": false
   },
   "outputs": [
    {
     "name": "stdout",
     "output_type": "stream",
     "text": [
      "Dimensions of full dataset (#samples , # features):  569 30 \n",
      "Number of training samples:  455 \n",
      "Number of test samples:  114 \n",
      "number of trees in the random forest:  100"
     ]
    }
   ],
   "source": [
    "cat('Dimensions of full dataset (#samples , # features): ', dim(features), '\\n')\n",
    "cat('Number of training samples: ', round(dim(features)[1] * train_split_propn), '\\n')\n",
    "cat('Number of test samples: ', round(dim(features)[1]*(1-train_split_propn)),  '\\n')\n",
    "cat('number of trees in the random forest: ', n_estimators)"
   ]
  },
  {
   "cell_type": "markdown",
   "metadata": {},
   "source": [
    "### Timing and some accuracy scores across trials"
   ]
  },
  {
   "cell_type": "code",
   "execution_count": 8,
   "metadata": {
    "collapsed": false
   },
   "outputs": [
    {
     "name": "stdout",
     "output_type": "stream",
     "text": [
      "[1] \"mean and std of various metrics across trials\"\n"
     ]
    },
    {
     "data": {
      "text/html": [
       "<dl>\n",
       "\t<dt>$times</dt>\n",
       "\t\t<dd><ol class=list-inline>\n",
       "\t<li>0.0803373336791992</li>\n",
       "\t<li>0.0785077796444217</li>\n",
       "</ol>\n",
       "</dd>\n",
       "\t<dt>$score</dt>\n",
       "\t\t<dd><ol class=list-inline>\n",
       "\t<li>0.974561403508772</li>\n",
       "\t<li>0.00497935273857495</li>\n",
       "</ol>\n",
       "</dd>\n",
       "\t<dt>$OOB_error</dt>\n",
       "\t\t<dd><ol class=list-inline>\n",
       "\t<li>0.0424175824175824</li>\n",
       "\t<li>0.00463916196307328</li>\n",
       "</ol>\n",
       "</dd>\n",
       "\t<dt>$class1_error</dt>\n",
       "\t\t<dd><ol class=list-inline>\n",
       "\t<li>0.0275735294117647</li>\n",
       "\t<li>0.00527103263911926</li>\n",
       "</ol>\n",
       "</dd>\n",
       "\t<dt>$class2_error</dt>\n",
       "\t\t<dd><ol class=list-inline>\n",
       "\t<li>0.0644808743169399</li>\n",
       "\t<li>0.00846553736875938</li>\n",
       "</ol>\n",
       "</dd>\n",
       "</dl>\n"
      ],
      "text/latex": [
       "\\begin{description}\n",
       "\\item[\\$times] \\begin{enumerate*}\n",
       "\\item 0.0803373336791992\n",
       "\\item 0.0785077796444217\n",
       "\\end{enumerate*}\n",
       "\n",
       "\\item[\\$score] \\begin{enumerate*}\n",
       "\\item 0.974561403508772\n",
       "\\item 0.00497935273857495\n",
       "\\end{enumerate*}\n",
       "\n",
       "\\item[\\$OOB\\_error] \\begin{enumerate*}\n",
       "\\item 0.0424175824175824\n",
       "\\item 0.00463916196307328\n",
       "\\end{enumerate*}\n",
       "\n",
       "\\item[\\$class1\\_error] \\begin{enumerate*}\n",
       "\\item 0.0275735294117647\n",
       "\\item 0.00527103263911926\n",
       "\\end{enumerate*}\n",
       "\n",
       "\\item[\\$class2\\_error] \\begin{enumerate*}\n",
       "\\item 0.0644808743169399\n",
       "\\item 0.00846553736875938\n",
       "\\end{enumerate*}\n",
       "\n",
       "\\end{description}\n"
      ],
      "text/markdown": [
       "$times\n",
       ":   1. 0.0803373336791992\n",
       "2. 0.0785077796444217\n",
       "\n",
       "\n",
       "\n",
       "$score\n",
       ":   1. 0.974561403508772\n",
       "2. 0.00497935273857495\n",
       "\n",
       "\n",
       "\n",
       "$OOB_error\n",
       ":   1. 0.0424175824175824\n",
       "2. 0.00463916196307328\n",
       "\n",
       "\n",
       "\n",
       "$class1_error\n",
       ":   1. 0.0275735294117647\n",
       "2. 0.00527103263911926\n",
       "\n",
       "\n",
       "\n",
       "$class2_error\n",
       ":   1. 0.0644808743169399\n",
       "2. 0.00846553736875938\n",
       "\n",
       "\n",
       "\n",
       "\n",
       "\n"
      ],
      "text/plain": [
       "$times\n",
       "[1] 0.08033733 0.07850778\n",
       "\n",
       "$score\n",
       "[1] 0.974561404 0.004979353\n",
       "\n",
       "$OOB_error\n",
       "[1] 0.042417582 0.004639162\n",
       "\n",
       "$class1_error\n",
       "[1] 0.027573529 0.005271033\n",
       "\n",
       "$class2_error\n",
       "[1] 0.064480874 0.008465537\n"
      ]
     },
     "metadata": {},
     "output_type": "display_data"
    }
   ],
   "source": [
    "print('mean and std of various metrics across trials')\n",
    "benchmarks$metrics_summary"
   ]
  },
  {
   "cell_type": "markdown",
   "metadata": {},
   "source": [
    "### Stability of feature importances across trials"
   ]
  },
  {
   "cell_type": "code",
   "execution_count": 9,
   "metadata": {
    "collapsed": false,
    "scrolled": true
   },
   "outputs": [
    {
     "name": "stdout",
     "output_type": "stream",
     "text": [
      "[1] \"top five feature importances across trials\"\n",
      " [1] 27 22 23  7 20  6  2  0  3 26\n",
      " [1] 23  7 22 27 20  0  3  6 26  2\n",
      " [1] 22 27 23  7 20  3  2 13  6 26\n",
      " [1] 27 23 22  7 20  3 26  2 13  6\n",
      " [1] 20 23 22 27  7  2  6 13  0 26\n",
      " [1] 22 23 27  7 20  3  0  2  6 26\n",
      " [1] 20 23 27 22  7 26  6  0  2  3\n",
      " [1] 23 27 22 20  3  7  2  0 26 13\n",
      " [1] 22 23 27 20  7  6  2  3  0 13\n",
      " [1] 22 27 23 20  7  2  3 13  6  0\n"
     ]
    }
   ],
   "source": [
    "print('top five feature importances across trials')\n",
    "\n",
    "for(i in 1:n_trials){ \n",
    "    # sort by feature importance\n",
    "    x <- benchmarks$feature_importance[[i]]\n",
    "    ord <- order(x, decreasing = TRUE)\n",
    "    print(ord[0:10] - 1) # -1 to compare with python output\n",
    "    #x <- x[ord, ]\n",
    "    #print(x[0:5])    \n",
    "    \n",
    "    }\n"
   ]
  },
  {
   "cell_type": "markdown",
   "metadata": {},
   "source": [
    "# iRF benchmarks"
   ]
  },
  {
   "cell_type": "code",
   "execution_count": 3,
   "metadata": {
    "collapsed": false
   },
   "outputs": [
    {
     "name": "stdout",
     "output_type": "stream",
     "text": [
      "[1] \"iteration =  1\"\n",
      "finding interactions ... b = 1;  \n",
      "b = 2;  \n",
      "b = 3;  \n",
      "b = 4;  \n",
      "b = 5;  \n",
      "b = 6;  \n",
      "b = 7;  \n",
      "b = 8;  \n",
      "b = 9;  \n",
      "b = 10;  \n",
      "b = 11;  \n",
      "b = 12;  \n",
      "b = 13;  \n",
      "b = 14;  \n",
      "b = 15;  \n",
      "b = 16;  \n",
      "b = 17;  \n",
      "b = 18;  \n",
      "b = 19;  \n",
      "b = 20;  \n",
      "b = 21;  \n",
      "b = 22;  \n",
      "b = 23;  \n",
      "b = 24;  \n",
      "b = 25;  \n",
      "b = 26;  \n",
      "b = 27;  \n",
      "b = 28;  \n",
      "b = 29;  \n",
      "b = 30;  \n",
      "[1] \"AUROC:  0.98\"\n",
      "[1] \"iteration =  2\"\n",
      "finding interactions ... b = 1;  \n",
      "b = 2;  \n",
      "b = 3;  \n",
      "b = 4;  \n",
      "b = 5;  \n",
      "b = 6;  \n",
      "b = 7;  \n",
      "b = 8;  \n",
      "b = 9;  \n",
      "b = 10;  \n",
      "b = 11;  \n",
      "b = 12;  \n",
      "b = 13;  \n",
      "b = 14;  \n",
      "b = 15;  \n",
      "b = 16;  \n",
      "b = 17;  \n",
      "b = 18;  \n",
      "b = 19;  \n",
      "b = 20;  \n",
      "b = 21;  \n",
      "b = 22;  \n",
      "b = 23;  \n",
      "b = 24;  \n",
      "b = 25;  \n",
      "b = 26;  \n",
      "b = 27;  \n",
      "b = 28;  \n",
      "b = 29;  \n",
      "b = 30;  \n",
      "[1] \"AUROC:  0.98\"\n",
      "[1] \"iteration =  3\"\n",
      "finding interactions ... b = 1;  \n",
      "b = 2;  \n",
      "b = 3;  \n",
      "b = 4;  \n",
      "b = 5;  \n",
      "b = 6;  \n",
      "b = 7;  \n",
      "b = 8;  \n",
      "b = 9;  \n",
      "b = 10;  \n",
      "b = 11;  \n",
      "b = 12;  \n",
      "b = 13;  \n",
      "b = 14;  \n",
      "b = 15;  \n",
      "b = 16;  \n",
      "b = 17;  \n",
      "b = 18;  \n",
      "b = 19;  \n",
      "b = 20;  \n",
      "b = 21;  \n",
      "b = 22;  \n",
      "b = 23;  \n",
      "b = 24;  \n",
      "b = 25;  \n",
      "b = 26;  \n",
      "b = 27;  \n",
      "b = 28;  \n",
      "b = 29;  \n",
      "b = 30;  \n",
      "[1] \"AUROC:  0.98\"\n",
      "[1] \"iteration =  4\"\n",
      "finding interactions ... b = 1;  \n",
      "b = 2;  \n",
      "b = 3;  \n",
      "b = 4;  \n",
      "b = 5;  \n",
      "b = 6;  \n",
      "b = 7;  \n",
      "b = 8;  \n",
      "b = 9;  \n",
      "b = 10;  \n",
      "b = 11;  \n",
      "b = 12;  \n",
      "b = 13;  \n",
      "b = 14;  \n",
      "b = 15;  \n",
      "b = 16;  \n",
      "b = 17;  \n",
      "b = 18;  \n",
      "b = 19;  \n",
      "b = 20;  \n",
      "b = 21;  \n",
      "b = 22;  \n",
      "b = 23;  \n",
      "b = 24;  \n",
      "b = 25;  \n",
      "b = 26;  \n",
      "b = 27;  \n",
      "b = 28;  \n",
      "b = 29;  \n",
      "b = 30;  \n",
      "[1] \"AUROC:  0.98\"\n",
      "[1] \"iteration =  5\"\n",
      "finding interactions ... b = 1;  \n",
      "b = 2;  \n",
      "b = 3;  \n",
      "b = 4;  \n",
      "b = 5;  \n",
      "b = 6;  \n",
      "b = 7;  \n",
      "b = 8;  \n",
      "b = 9;  \n",
      "b = 10;  \n",
      "b = 11;  \n",
      "b = 12;  \n",
      "b = 13;  \n",
      "b = 14;  \n",
      "b = 15;  \n",
      "b = 16;  \n",
      "b = 17;  \n",
      "b = 18;  \n",
      "b = 19;  \n",
      "b = 20;  \n",
      "b = 21;  \n",
      "b = 22;  \n",
      "b = 23;  \n",
      "b = 24;  \n",
      "b = 25;  \n",
      "b = 26;  \n",
      "b = 27;  \n",
      "b = 28;  \n",
      "b = 29;  \n",
      "b = 30;  \n",
      "[1] \"AUROC:  0.98\"\n"
     ]
    }
   ],
   "source": [
    "n_trials <- 1\n",
    "iRF_bm <- iRF_benchmarks(features, responses, n_trials=n_trials,\n",
    "                   K=5,\n",
    "                   train_split_propn=0.8,\n",
    "                   n_estimators=20,\n",
    "                   B=30,\n",
    "                   M=20,\n",
    "                   max_depth=5,\n",
    "                   noisy_split=False,\n",
    "                   num_splits=2,\n",
    "                   seed=2018)\n",
    "\n"
   ]
  },
  {
   "cell_type": "markdown",
   "metadata": {},
   "source": [
    "### Timing and some accuracy scores across trials\n",
    "These are metrics on the random forest at iteration K"
   ]
  },
  {
   "cell_type": "code",
   "execution_count": 4,
   "metadata": {
    "collapsed": false
   },
   "outputs": [
    {
     "name": "stdout",
     "output_type": "stream",
     "text": [
      "[1] \"mean and std of various metrics across trials\"\n"
     ]
    },
    {
     "data": {
      "text/html": [
       "<dl>\n",
       "\t<dt>$times</dt>\n",
       "\t\t<dd><ol class=list-inline>\n",
       "\t<li>3.17939321994781</li>\n",
       "\t<li>&lt;NA&gt;</li>\n",
       "</ol>\n",
       "</dd>\n",
       "\t<dt>$score</dt>\n",
       "\t\t<dd><ol class=list-inline>\n",
       "\t<li>0.947368421052632</li>\n",
       "\t<li>&lt;NA&gt;</li>\n",
       "</ol>\n",
       "</dd>\n",
       "</dl>\n"
      ],
      "text/latex": [
       "\\begin{description}\n",
       "\\item[\\$times] \\begin{enumerate*}\n",
       "\\item 3.17939321994781\n",
       "\\item <NA>\n",
       "\\end{enumerate*}\n",
       "\n",
       "\\item[\\$score] \\begin{enumerate*}\n",
       "\\item 0.947368421052632\n",
       "\\item <NA>\n",
       "\\end{enumerate*}\n",
       "\n",
       "\\end{description}\n"
      ],
      "text/markdown": [
       "$times\n",
       ":   1. 3.17939321994781\n",
       "2. &lt;NA&gt;\n",
       "\n",
       "\n",
       "\n",
       "$score\n",
       ":   1. 0.947368421052632\n",
       "2. &lt;NA&gt;\n",
       "\n",
       "\n",
       "\n",
       "\n",
       "\n"
      ],
      "text/plain": [
       "$times\n",
       "[1] 3.179393       NA\n",
       "\n",
       "$score\n",
       "[1] 0.9473684        NA\n"
      ]
     },
     "metadata": {},
     "output_type": "display_data"
    }
   ],
   "source": [
    "print('mean and std of various metrics across trials')\n",
    "iRF_bm$metrics_summary"
   ]
  },
  {
   "cell_type": "markdown",
   "metadata": {},
   "source": [
    "### Lets look the stability of feature importances across trials\n",
    "Again, feature importances are measured for the last forest"
   ]
  },
  {
   "cell_type": "code",
   "execution_count": 5,
   "metadata": {
    "collapsed": false
   },
   "outputs": [
    {
     "name": "stdout",
     "output_type": "stream",
     "text": [
      "[1] \"top five feature importances across trials\"\n",
      " [1] 22 23 27 21  7  1 13 20 10  0\n"
     ]
    }
   ],
   "source": [
    "print('top five feature importances across trials')\n",
    "\n",
    "for(i in 1:n_trials){ \n",
    "    # sort by feature importance\n",
    "    x <- iRF_bm$feature_importance[[i]]\n",
    "    ord <- order(x, decreasing = TRUE)\n",
    "    print(ord[0:10] - 1) # -1 to compare with python output\n",
    "    #x <- x[ord, ]\n",
    "    #print(x[0:5])    \n",
    "    \n",
    "    }"
   ]
  },
  {
   "cell_type": "markdown",
   "metadata": {},
   "source": [
    "### Finally, lets examine the discovered interactions across trials "
   ]
  },
  {
   "cell_type": "code",
   "execution_count": 11,
   "metadata": {
    "collapsed": false
   },
   "outputs": [
    {
     "name": "stdout",
     "output_type": "stream",
     "text": [
      "              x_22               x_23               x_21               x_27 \n",
      "        1.00000000         0.90000000         0.66666667         0.66666667 \n",
      "               x_7          x_21_x_22          x_22_x_23          x_23_x_27 \n",
      "        0.53333333         0.50000000         0.50000000         0.50000000 \n",
      "         x_21_x_23          x_22_x_27           x_7_x_22           x_7_x_21 \n",
      "        0.46666667         0.46666667         0.33333333         0.30000000 \n",
      "          x_7_x_23               x_20                x_1           x_7_x_27 \n",
      "        0.30000000         0.26666667         0.23333333         0.23333333 \n",
      "          x_1_x_23          x_21_x_27           x_1_x_22      x_7_x_21_x_22 \n",
      "        0.20000000         0.16666667         0.16666667         0.16666667 \n",
      "         x_20_x_21          x_20_x_27     x_21_x_22_x_23          x_20_x_22 \n",
      "        0.13333333         0.13333333         0.10000000         0.06666667 \n",
      "     x_7_x_21_x_23      x_7_x_22_x_23      x_7_x_23_x_27     x_20_x_21_x_22 \n",
      "        0.06666667         0.06666667         0.06666667         0.03333333 \n",
      "     x_1_x_21_x_22     x_21_x_22_x_27            x_1_x_7       x_1_x_7_x_23 \n",
      "        0.03333333         0.03333333         0.03333333         0.03333333 \n",
      "          x_7_x_20 x_7_x_21_x_22_x_23      x_7_x_21_x_27      x_7_x_22_x_27 \n",
      "        0.03333333         0.03333333         0.03333333         0.03333333 \n"
     ]
    },
    {
     "data": {
      "image/png": "[encoded data removed]",
      "text/plain": [
       "plot without title"
      ]
     },
     "metadata": {},
     "output_type": "display_data"
    }
   ],
   "source": [
    "for(i in 1:n_trials){ \n",
    "    # sort by feature importance\n",
    "    x <- iRF_bm$stability_all[[i]]\n",
    "    print(x)\n",
    "    }\n",
    "barplot(x)"
   ]
  },
  {
   "cell_type": "code",
   "execution_count": null,
   "metadata": {
    "collapsed": true
   },
   "outputs": [],
   "source": []
  }
 ],
 "metadata": {
  "kernelspec": {
   "display_name": "R",
   "language": "R",
   "name": "ir"
  },
  "language_info": {
   "codemirror_mode": "r",
   "file_extension": ".r",
   "mimetype": "text/x-r-source",
   "name": "R",
   "pygments_lexer": "r",
   "version": "3.4.0"
  }
 },
 "nbformat": 4,
 "nbformat_minor": 2
}
