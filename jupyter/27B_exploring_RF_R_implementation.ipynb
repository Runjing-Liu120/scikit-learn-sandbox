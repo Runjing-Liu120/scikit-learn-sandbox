{
 "cells": [
  {
   "cell_type": "markdown",
   "metadata": {},
   "source": [
    "# Random Forest benchmarks in R"
   ]
  },
  {
   "cell_type": "code",
   "execution_count": 1,
   "metadata": {
    "collapsed": false
   },
   "outputs": [
    {
     "name": "stderr",
     "output_type": "stream",
     "text": [
      "randomForest 4.6-12\n",
      "Type rfNews() to see new features/changes/bug fixes.\n"
     ]
    }
   ],
   "source": [
    "library(randomForest)"
   ]
  },
  {
   "cell_type": "markdown",
   "metadata": {},
   "source": [
    "## Load data"
   ]
  },
  {
   "cell_type": "code",
   "execution_count": 2,
   "metadata": {
    "collapsed": false
   },
   "outputs": [
    {
     "data": {
      "text/html": [
       "<table>\n",
       "<thead><tr><th scope=col>y</th><th scope=col>x_0</th><th scope=col>x_1</th><th scope=col>x_2</th><th scope=col>x_3</th><th scope=col>x_4</th><th scope=col>x_5</th><th scope=col>x_6</th><th scope=col>x_7</th><th scope=col>x_8</th><th scope=col>⋯</th><th scope=col>x_20</th><th scope=col>x_21</th><th scope=col>x_22</th><th scope=col>x_23</th><th scope=col>x_24</th><th scope=col>x_25</th><th scope=col>x_26</th><th scope=col>x_27</th><th scope=col>x_28</th><th scope=col>x_29</th></tr></thead>\n",
       "<tbody>\n",
       "\t<tr><td>M      </td><td>17.99  </td><td>10.38  </td><td>122.80 </td><td>1001.0 </td><td>0.11840</td><td>0.27760</td><td>0.3001 </td><td>0.14710</td><td>0.2419 </td><td>⋯      </td><td>25.38  </td><td>17.33  </td><td>184.60 </td><td>2019.0 </td><td>0.1622 </td><td>0.6656 </td><td>0.7119 </td><td>0.2654 </td><td>0.4601 </td><td>0.11890</td></tr>\n",
       "\t<tr><td>M      </td><td>20.57  </td><td>17.77  </td><td>132.90 </td><td>1326.0 </td><td>0.08474</td><td>0.07864</td><td>0.0869 </td><td>0.07017</td><td>0.1812 </td><td>⋯      </td><td>24.99  </td><td>23.41  </td><td>158.80 </td><td>1956.0 </td><td>0.1238 </td><td>0.1866 </td><td>0.2416 </td><td>0.1860 </td><td>0.2750 </td><td>0.08902</td></tr>\n",
       "\t<tr><td>M      </td><td>19.69  </td><td>21.25  </td><td>130.00 </td><td>1203.0 </td><td>0.10960</td><td>0.15990</td><td>0.1974 </td><td>0.12790</td><td>0.2069 </td><td>⋯      </td><td>23.57  </td><td>25.53  </td><td>152.50 </td><td>1709.0 </td><td>0.1444 </td><td>0.4245 </td><td>0.4504 </td><td>0.2430 </td><td>0.3613 </td><td>0.08758</td></tr>\n",
       "\t<tr><td>M      </td><td>11.42  </td><td>20.38  </td><td> 77.58 </td><td> 386.1 </td><td>0.14250</td><td>0.28390</td><td>0.2414 </td><td>0.10520</td><td>0.2597 </td><td>⋯      </td><td>14.91  </td><td>26.50  </td><td> 98.87 </td><td> 567.7 </td><td>0.2098 </td><td>0.8663 </td><td>0.6869 </td><td>0.2575 </td><td>0.6638 </td><td>0.17300</td></tr>\n",
       "\t<tr><td>M      </td><td>20.29  </td><td>14.34  </td><td>135.10 </td><td>1297.0 </td><td>0.10030</td><td>0.13280</td><td>0.1980 </td><td>0.10430</td><td>0.1809 </td><td>⋯      </td><td>22.54  </td><td>16.67  </td><td>152.20 </td><td>1575.0 </td><td>0.1374 </td><td>0.2050 </td><td>0.4000 </td><td>0.1625 </td><td>0.2364 </td><td>0.07678</td></tr>\n",
       "\t<tr><td>M      </td><td>12.45  </td><td>15.70  </td><td> 82.57 </td><td> 477.1 </td><td>0.12780</td><td>0.17000</td><td>0.1578 </td><td>0.08089</td><td>0.2087 </td><td>⋯      </td><td>15.47  </td><td>23.75  </td><td>103.40 </td><td> 741.6 </td><td>0.1791 </td><td>0.5249 </td><td>0.5355 </td><td>0.1741 </td><td>0.3985 </td><td>0.12440</td></tr>\n",
       "</tbody>\n",
       "</table>\n"
      ],
      "text/latex": [
       "\\begin{tabular}{r|lllllllllllllllllllllllllllllll}\n",
       " y & x\\_0 & x\\_1 & x\\_2 & x\\_3 & x\\_4 & x\\_5 & x\\_6 & x\\_7 & x\\_8 & ⋯ & x\\_20 & x\\_21 & x\\_22 & x\\_23 & x\\_24 & x\\_25 & x\\_26 & x\\_27 & x\\_28 & x\\_29\\\\\n",
       "\\hline\n",
       "\t M       & 17.99   & 10.38   & 122.80  & 1001.0  & 0.11840 & 0.27760 & 0.3001  & 0.14710 & 0.2419  & ⋯       & 25.38   & 17.33   & 184.60  & 2019.0  & 0.1622  & 0.6656  & 0.7119  & 0.2654  & 0.4601  & 0.11890\\\\\n",
       "\t M       & 20.57   & 17.77   & 132.90  & 1326.0  & 0.08474 & 0.07864 & 0.0869  & 0.07017 & 0.1812  & ⋯       & 24.99   & 23.41   & 158.80  & 1956.0  & 0.1238  & 0.1866  & 0.2416  & 0.1860  & 0.2750  & 0.08902\\\\\n",
       "\t M       & 19.69   & 21.25   & 130.00  & 1203.0  & 0.10960 & 0.15990 & 0.1974  & 0.12790 & 0.2069  & ⋯       & 23.57   & 25.53   & 152.50  & 1709.0  & 0.1444  & 0.4245  & 0.4504  & 0.2430  & 0.3613  & 0.08758\\\\\n",
       "\t M       & 11.42   & 20.38   &  77.58  &  386.1  & 0.14250 & 0.28390 & 0.2414  & 0.10520 & 0.2597  & ⋯       & 14.91   & 26.50   &  98.87  &  567.7  & 0.2098  & 0.8663  & 0.6869  & 0.2575  & 0.6638  & 0.17300\\\\\n",
       "\t M       & 20.29   & 14.34   & 135.10  & 1297.0  & 0.10030 & 0.13280 & 0.1980  & 0.10430 & 0.1809  & ⋯       & 22.54   & 16.67   & 152.20  & 1575.0  & 0.1374  & 0.2050  & 0.4000  & 0.1625  & 0.2364  & 0.07678\\\\\n",
       "\t M       & 12.45   & 15.70   &  82.57  &  477.1  & 0.12780 & 0.17000 & 0.1578  & 0.08089 & 0.2087  & ⋯       & 15.47   & 23.75   & 103.40  &  741.6  & 0.1791  & 0.5249  & 0.5355  & 0.1741  & 0.3985  & 0.12440\\\\\n",
       "\\end{tabular}\n"
      ],
      "text/markdown": [
       "\n",
       "y | x_0 | x_1 | x_2 | x_3 | x_4 | x_5 | x_6 | x_7 | x_8 | ⋯ | x_20 | x_21 | x_22 | x_23 | x_24 | x_25 | x_26 | x_27 | x_28 | x_29 | \n",
       "|---|---|---|---|---|---|\n",
       "| M       | 17.99   | 10.38   | 122.80  | 1001.0  | 0.11840 | 0.27760 | 0.3001  | 0.14710 | 0.2419  | ⋯       | 25.38   | 17.33   | 184.60  | 2019.0  | 0.1622  | 0.6656  | 0.7119  | 0.2654  | 0.4601  | 0.11890 | \n",
       "| M       | 20.57   | 17.77   | 132.90  | 1326.0  | 0.08474 | 0.07864 | 0.0869  | 0.07017 | 0.1812  | ⋯       | 24.99   | 23.41   | 158.80  | 1956.0  | 0.1238  | 0.1866  | 0.2416  | 0.1860  | 0.2750  | 0.08902 | \n",
       "| M       | 19.69   | 21.25   | 130.00  | 1203.0  | 0.10960 | 0.15990 | 0.1974  | 0.12790 | 0.2069  | ⋯       | 23.57   | 25.53   | 152.50  | 1709.0  | 0.1444  | 0.4245  | 0.4504  | 0.2430  | 0.3613  | 0.08758 | \n",
       "| M       | 11.42   | 20.38   |  77.58  |  386.1  | 0.14250 | 0.28390 | 0.2414  | 0.10520 | 0.2597  | ⋯       | 14.91   | 26.50   |  98.87  |  567.7  | 0.2098  | 0.8663  | 0.6869  | 0.2575  | 0.6638  | 0.17300 | \n",
       "| M       | 20.29   | 14.34   | 135.10  | 1297.0  | 0.10030 | 0.13280 | 0.1980  | 0.10430 | 0.1809  | ⋯       | 22.54   | 16.67   | 152.20  | 1575.0  | 0.1374  | 0.2050  | 0.4000  | 0.1625  | 0.2364  | 0.07678 | \n",
       "| M       | 12.45   | 15.70   |  82.57  |  477.1  | 0.12780 | 0.17000 | 0.1578  | 0.08089 | 0.2087  | ⋯       | 15.47   | 23.75   | 103.40  |  741.6  | 0.1791  | 0.5249  | 0.5355  | 0.1741  | 0.3985  | 0.12440 | \n",
       "\n",
       "\n"
      ],
      "text/plain": [
       "  y x_0   x_1   x_2    x_3    x_4     x_5     x_6    x_7     x_8    ⋯ x_20 \n",
       "1 M 17.99 10.38 122.80 1001.0 0.11840 0.27760 0.3001 0.14710 0.2419 ⋯ 25.38\n",
       "2 M 20.57 17.77 132.90 1326.0 0.08474 0.07864 0.0869 0.07017 0.1812 ⋯ 24.99\n",
       "3 M 19.69 21.25 130.00 1203.0 0.10960 0.15990 0.1974 0.12790 0.2069 ⋯ 23.57\n",
       "4 M 11.42 20.38  77.58  386.1 0.14250 0.28390 0.2414 0.10520 0.2597 ⋯ 14.91\n",
       "5 M 20.29 14.34 135.10 1297.0 0.10030 0.13280 0.1980 0.10430 0.1809 ⋯ 22.54\n",
       "6 M 12.45 15.70  82.57  477.1 0.12780 0.17000 0.1578 0.08089 0.2087 ⋯ 15.47\n",
       "  x_21  x_22   x_23   x_24   x_25   x_26   x_27   x_28   x_29   \n",
       "1 17.33 184.60 2019.0 0.1622 0.6656 0.7119 0.2654 0.4601 0.11890\n",
       "2 23.41 158.80 1956.0 0.1238 0.1866 0.2416 0.1860 0.2750 0.08902\n",
       "3 25.53 152.50 1709.0 0.1444 0.4245 0.4504 0.2430 0.3613 0.08758\n",
       "4 26.50  98.87  567.7 0.2098 0.8663 0.6869 0.2575 0.6638 0.17300\n",
       "5 16.67 152.20 1575.0 0.1374 0.2050 0.4000 0.1625 0.2364 0.07678\n",
       "6 23.75 103.40  741.6 0.1791 0.5249 0.5355 0.1741 0.3985 0.12440"
      ]
     },
     "metadata": {},
     "output_type": "display_data"
    },
    {
     "name": "stdout",
     "output_type": "stream",
     "text": [
      "number of samples:  569 \n",
      "number of features:  30 \n"
     ]
    }
   ],
   "source": [
    "# load breast cancer data\n",
    "raw_data <- read.delim(\"http://ftp.cs.wisc.edu/math-prog/cpo-dataset/machine-learn/cancer/WDBC/WDBC.dat\", \n",
    "                       sep = \",\", header = FALSE)\n",
    "\n",
    "raw_data <- raw_data[, -1] # remove first column, its just an identifier\n",
    "names(raw_data)[2:dim(raw_data)[2]] <- paste(\"x_\", 0:29, sep=\"\")\n",
    "names(raw_data)[1] <- 'y'\n",
    "\n",
    "head(raw_data)\n",
    "\n",
    "N_obs <- dim(raw_data)[1]\n",
    "N_features <- dim(raw_data)[2] - 1\n",
    "\n",
    "cat('number of samples: ', N_obs, '\\n')\n",
    "cat('number of features: ', N_features, '\\n')\n",
    "\n",
    "# split data into training and testing\n",
    "\n",
    "train_split_propn=0.9\n",
    "training_index <- sample(N_obs, round(train_split_propn * N_obs), replace = FALSE)\n",
    "\n",
    "data_train <- raw_data[training_index, ]\n",
    "data_test <- raw_data[-training_index, ]\n",
    "\n",
    "#print(head(data_train))\n",
    "#print(dim(X_train))\n",
    "#print(length(y_train))\n",
    "#print(dim(X_test))\n",
    "#print(length(y_test))"
   ]
  },
  {
   "cell_type": "markdown",
   "metadata": {},
   "source": [
    "## Random forest benchmarks"
   ]
  },
  {
   "cell_type": "code",
   "execution_count": 3,
   "metadata": {
    "collapsed": false
   },
   "outputs": [
    {
     "name": "stdout",
     "output_type": "stream",
     "text": [
      "number of trees:  10 \n",
      "time to fit rf:  0.02900767 (seconds) \n",
      "accuracy:  0.9473684"
     ]
    }
   ],
   "source": [
    "ntree <- 10\n",
    "\n",
    "# fit random forest\n",
    "t0 <- Sys.time()\n",
    "rf <- randomForest(y ~ ., data = data_train, ntree = ntree)\n",
    "t_rf <- Sys.time() - t0\n",
    "\n",
    "# prediction accuracy \n",
    "score <- mean(predict(rf, data_test[,-1]) == data_test[,1])\n",
    "\n",
    "cat('number of trees: ', ntree, '\\n')\n",
    "cat('time to fit rf: ', t_rf, '(seconds) \\n')\n",
    "cat('accuracy: ', score)"
   ]
  },
  {
   "cell_type": "code",
   "execution_count": 4,
   "metadata": {
    "collapsed": false
   },
   "outputs": [
    {
     "data": {
      "image/png": "[encoded data removed]",
      "text/plain": [
       "Plot with title “rf”"
      ]
     },
     "metadata": {},
     "output_type": "display_data"
    }
   ],
   "source": [
    "# importance(rf)\n",
    "varImpPlot(rf)"
   ]
  },
  {
   "cell_type": "markdown",
   "metadata": {},
   "source": [
    "# Explore Ranger"
   ]
  },
  {
   "cell_type": "code",
   "execution_count": 63,
   "metadata": {
    "collapsed": false
   },
   "outputs": [],
   "source": [
    "library(ranger)"
   ]
  },
  {
   "cell_type": "code",
   "execution_count": 64,
   "metadata": {
    "collapsed": false
   },
   "outputs": [
    {
     "name": "stdout",
     "output_type": "stream",
     "text": [
      "number of trees:  10 \n",
      "time to fit rf:  0.01431036 (seconds) \n",
      "accuracy:  1"
     ]
    }
   ],
   "source": [
    "# Fit random forest using ranger\n",
    "t0 <-Sys.time()\n",
    "ranger_rf <- ranger(y ~ ., data = raw_data, num.trees = ntree, write.forest = TRUE, importance = \"impurity\")\n",
    "t_ranger <- Sys.time() - t0\n",
    "\n",
    "ranger_predict <- predict(ranger_rf, data_test[,-1])\n",
    "score_ranger <- mean(ranger_predict$predictions == data_test[,1])\n",
    "\n",
    "cat('number of trees: ', ntree, '\\n')\n",
    "cat('time to fit rf: ', t_ranger, '(seconds) \\n')\n",
    "cat('accuracy: ', score_ranger)"
   ]
  },
  {
   "cell_type": "code",
   "execution_count": 65,
   "metadata": {
    "collapsed": false
   },
   "outputs": [
    {
     "data": {
      "image/png": "[encoded data removed]",
      "text/plain": [
       "plot without title"
      ]
     },
     "metadata": {},
     "output_type": "display_data"
    }
   ],
   "source": [
    "barplot(ranger_rf$variable.importance[order(ranger_rf$variable.importance)], horiz = TRUE, las=2)"
   ]
  },
  {
   "cell_type": "code",
   "execution_count": null,
   "metadata": {
    "collapsed": true
   },
   "outputs": [],
   "source": []
  }
 ],
 "metadata": {
  "kernelspec": {
   "display_name": "R",
   "language": "R",
   "name": "ir"
  },
  "language_info": {
   "codemirror_mode": "r",
   "file_extension": ".r",
   "mimetype": "text/x-r-source",
   "name": "R",
   "pygments_lexer": "r",
   "version": "3.4.0"
  }
 },
 "nbformat": 4,
 "nbformat_minor": 2
}
