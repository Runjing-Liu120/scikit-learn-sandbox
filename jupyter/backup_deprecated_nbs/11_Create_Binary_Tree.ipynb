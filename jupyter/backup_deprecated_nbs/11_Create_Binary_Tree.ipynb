{
 "cells": [
  {
   "cell_type": "markdown",
   "metadata": {},
   "source": [
    "## Create a Binary Tree\n",
    "* The following code is taken from the [O'reilly data structures with Python tutorial](http://shop.oreilly.com/product/0636920041405.do)on Binary trees\n",
    "* It is just used as an example of best practices which can be adapted similarly for the Random Intersection Tree/ Node classes we will create"
   ]
  },
  {
   "cell_type": "markdown",
   "metadata": {},
   "source": [
    "### List Recursion"
   ]
  },
  {
   "cell_type": "code",
   "execution_count": 1,
   "metadata": {
    "code_folding": [],
    "collapsed": true
   },
   "outputs": [],
   "source": [
    "# Step by Step version\n",
    "def search(aList, target):\n",
    "    for v in aList:\n",
    "        if target == v:\n",
    "            return True\n",
    "    return False"
   ]
  },
  {
   "cell_type": "code",
   "execution_count": 2,
   "metadata": {
    "collapsed": true
   },
   "outputs": [],
   "source": [
    "# Recursive approach\n",
    "def searchRecursive(aList, target):\n",
    "    if len(aList) == 0:\n",
    "        return False\n",
    "    if aList[0] == target:\n",
    "        return True\n",
    "    return searchRecursive(aList[1:], target)"
   ]
  },
  {
   "cell_type": "code",
   "execution_count": 7,
   "metadata": {
    "collapsed": true
   },
   "outputs": [],
   "source": [
    "max_val   = 1000\n",
    "newList   = range(max_val)\n",
    "newTarget = max_val"
   ]
  },
  {
   "cell_type": "code",
   "execution_count": 8,
   "metadata": {},
   "outputs": [
    {
     "name": "stdout",
     "output_type": "stream",
     "text": [
      "38.8 µs ± 810 ns per loop (mean ± std. dev. of 7 runs, 10000 loops each)\n"
     ]
    }
   ],
   "source": [
    "%timeit search(aList = newList, target = max_val)"
   ]
  },
  {
   "cell_type": "code",
   "execution_count": 9,
   "metadata": {},
   "outputs": [
    {
     "name": "stdout",
     "output_type": "stream",
     "text": [
      "676 µs ± 5.69 µs per loop (mean ± std. dev. of 7 runs, 1000 loops each)\n"
     ]
    }
   ],
   "source": [
    "%timeit searchRecursive(aList = newList, target = max_val)"
   ]
  },
  {
   "cell_type": "markdown",
   "metadata": {},
   "source": [
    "### Comments\n",
    "* The recursive approach in this example is about 18 times slower than the iterative approach\n",
    "* There is a recursion limit issue, which is needs to be considered in recursive algorithms"
   ]
  },
  {
   "cell_type": "markdown",
   "metadata": {},
   "source": [
    "## Linked Node example"
   ]
  },
  {
   "cell_type": "code",
   "execution_count": 11,
   "metadata": {
    "collapsed": true
   },
   "outputs": [],
   "source": [
    "class LinkedNode:\n",
    "    def __init__(self, value):\n",
    "        self.value = value\n",
    "        self.next  = None"
   ]
  },
  {
   "cell_type": "code",
   "execution_count": 12,
   "metadata": {
    "collapsed": true
   },
   "outputs": [],
   "source": [
    "def search(n, value):\n",
    "    # Base case\n",
    "    if n is None:\n",
    "        return False\n",
    "    \n",
    "    # Action and recursive step\n",
    "    if n.value == value:\n",
    "        return True\n",
    "    return search(n.next, value)"
   ]
  },
  {
   "cell_type": "code",
   "execution_count": 13,
   "metadata": {
    "collapsed": true
   },
   "outputs": [],
   "source": [
    "def sumList(n):\n",
    "    # base case\n",
    "    if n is None:\n",
    "        return 0\n",
    "    \n",
    "    # Action and recursive step\n",
    "    return n.value + sumList(n.next)"
   ]
  },
  {
   "cell_type": "code",
   "execution_count": 14,
   "metadata": {
    "collapsed": true
   },
   "outputs": [],
   "source": [
    "class BinaryNode:\n",
    "    def __init__(self, value):\n",
    "        self.value = value\n",
    "        self.left  = None\n",
    "        self.value = None\n",
    "    \n",
    "class BinaryTree:\n",
    "    def __init__(self):\n",
    "        self.root = None"
   ]
  },
  {
   "cell_type": "markdown",
   "metadata": {},
   "source": [
    "## Implement the Binary Tree"
   ]
  },
  {
   "cell_type": "code",
   "execution_count": 49,
   "metadata": {},
   "outputs": [],
   "source": [
    "class BinaryNode:\n",
    "    # Don't initially know what the left and right nodes\n",
    "    # are\n",
    "    def __init__(self, value):\n",
    "        self.value = value\n",
    "        self.left  = None\n",
    "        self.right = None\n",
    "        \n",
    "    def add(self, value):\n",
    "        if value <= self.value:\n",
    "            # add to left\n",
    "            self.left = self.addToSubTree(self.left, value)\n",
    "        elif value > self.value:\n",
    "            # add to right\n",
    "            self.right = self.addToSubTree(self.right, value)\n",
    "    \n",
    "    def addToSubTree(self, parent, value):\n",
    "        if parent is None:\n",
    "            return BinaryNode(value)\n",
    "        parent.add(value)\n",
    "        return parent\n",
    "    \n",
    "    def remove(self, value):\n",
    "        if value < self.value:\n",
    "            self.left = self.removeFromParent(self.left, value)\n",
    "        elif value > self.value:\n",
    "            self.right = self.removeFromParent(self.right, value)\n",
    "        else:\n",
    "            # what if left subtree is empty\n",
    "            if self.left is None:\n",
    "                    return self.right\n",
    "            # find the largest value in the left subtree\n",
    "            child = self.left\n",
    "            while child.right:\n",
    "                child = child.right\n",
    "            # find the largest value in the left subtree\n",
    "            childKey = child.value\n",
    "            self.left = self.removeFromParent(self.left, childKey)\n",
    "            self.value = childKey\n",
    "            \n",
    "        return self\n",
    "    \n",
    "    def removeFromParent(self, parent, value):\n",
    "        if parent:\n",
    "            return parent.remove(value)\n",
    "        return None\n",
    "\n",
    "class BinaryTree:    \n",
    "    def __init__(self):\n",
    "        self.root = None\n",
    "        \n",
    "    # add value to BT\n",
    "    def add(self, value):\n",
    "        if self.root == None:\n",
    "            self.root = BinaryNode(value)\n",
    "        else:\n",
    "            self.root.add(value)\n",
    "    \n",
    "    # remove value from BT\n",
    "    def remove(self, value):\n",
    "        if self.root is not None:\n",
    "            self.root = BinaryNode(value)\n",
    "        else:\n",
    "            self.root.add(value)\n",
    "    \n",
    "    def __contains__(self, target):\n",
    "        node = self.root\n",
    "        while node is not None:\n",
    "            if target < node.value:\n",
    "                node = node.left\n",
    "            elif target > node.value:\n",
    "                node = node.right\n",
    "            else:\n",
    "                return True       \n",
    "        return False"
   ]
  },
  {
   "cell_type": "code",
   "execution_count": 41,
   "metadata": {
    "collapsed": true
   },
   "outputs": [],
   "source": [
    "b = BinaryTree()\n",
    "b.root"
   ]
  },
  {
   "cell_type": "code",
   "execution_count": 42,
   "metadata": {
    "collapsed": true
   },
   "outputs": [],
   "source": [
    "b.add(7)"
   ]
  },
  {
   "cell_type": "code",
   "execution_count": 43,
   "metadata": {},
   "outputs": [
    {
     "data": {
      "text/plain": [
       "<__main__.BinaryNode at 0x111f32208>"
      ]
     },
     "execution_count": 43,
     "metadata": {},
     "output_type": "execute_result"
    }
   ],
   "source": [
    "b.root"
   ]
  },
  {
   "cell_type": "code",
   "execution_count": 44,
   "metadata": {},
   "outputs": [
    {
     "data": {
      "text/plain": [
       "7"
      ]
     },
     "execution_count": 44,
     "metadata": {},
     "output_type": "execute_result"
    }
   ],
   "source": [
    "b.root.value"
   ]
  },
  {
   "cell_type": "code",
   "execution_count": 45,
   "metadata": {
    "collapsed": true
   },
   "outputs": [],
   "source": [
    "b.add(1)"
   ]
  },
  {
   "cell_type": "code",
   "execution_count": 46,
   "metadata": {},
   "outputs": [
    {
     "data": {
      "text/plain": [
       "7"
      ]
     },
     "execution_count": 46,
     "metadata": {},
     "output_type": "execute_result"
    }
   ],
   "source": [
    "b.root.value"
   ]
  },
  {
   "cell_type": "code",
   "execution_count": 47,
   "metadata": {
    "collapsed": true
   },
   "outputs": [],
   "source": [
    "b.root.right"
   ]
  },
  {
   "cell_type": "code",
   "execution_count": 48,
   "metadata": {},
   "outputs": [
    {
     "data": {
      "text/plain": [
       "True"
      ]
     },
     "execution_count": 48,
     "metadata": {},
     "output_type": "execute_result"
    }
   ],
   "source": [
    "1 in b"
   ]
  },
  {
   "cell_type": "code",
   "execution_count": 50,
   "metadata": {
    "collapsed": true
   },
   "outputs": [],
   "source": [
    "b = BinaryTree()"
   ]
  },
  {
   "cell_type": "code",
   "execution_count": 51,
   "metadata": {
    "collapsed": true
   },
   "outputs": [],
   "source": [
    "b.add(1)"
   ]
  },
  {
   "cell_type": "code",
   "execution_count": 53,
   "metadata": {},
   "outputs": [
    {
     "data": {
      "text/plain": [
       "1"
      ]
     },
     "execution_count": 53,
     "metadata": {},
     "output_type": "execute_result"
    }
   ],
   "source": [
    "b.root.value"
   ]
  },
  {
   "cell_type": "code",
   "execution_count": 54,
   "metadata": {},
   "outputs": [
    {
     "data": {
      "text/plain": [
       "True"
      ]
     },
     "execution_count": 54,
     "metadata": {},
     "output_type": "execute_result"
    }
   ],
   "source": [
    "1 in b"
   ]
  },
  {
   "cell_type": "code",
   "execution_count": 58,
   "metadata": {
    "collapsed": true
   },
   "outputs": [],
   "source": [
    "b.remove(1)"
   ]
  },
  {
   "cell_type": "code",
   "execution_count": 59,
   "metadata": {},
   "outputs": [
    {
     "data": {
      "text/plain": [
       "<__main__.BinaryTree at 0x111e66b38>"
      ]
     },
     "execution_count": 59,
     "metadata": {},
     "output_type": "execute_result"
    }
   ],
   "source": [
    "b"
   ]
  },
  {
   "cell_type": "code",
   "execution_count": 60,
   "metadata": {},
   "outputs": [
    {
     "data": {
      "text/plain": [
       "True"
      ]
     },
     "execution_count": 60,
     "metadata": {},
     "output_type": "execute_result"
    }
   ],
   "source": [
    "1 in b"
   ]
  },
  {
   "cell_type": "code",
   "execution_count": null,
   "metadata": {
    "collapsed": true
   },
   "outputs": [],
   "source": []
  }
 ],
 "metadata": {
  "kernelspec": {
   "display_name": "Python 3",
   "language": "python",
   "name": "python3"
  },
  "language_info": {
   "codemirror_mode": {
    "name": "ipython",
    "version": 3
   },
   "file_extension": ".py",
   "mimetype": "text/x-python",
   "name": "python",
   "nbconvert_exporter": "python",
   "pygments_lexer": "ipython3",
   "version": "3.6.1"
  }
 },
 "nbformat": 4,
 "nbformat_minor": 2
}
