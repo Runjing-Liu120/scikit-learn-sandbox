{
 "cells": [
  {
   "cell_type": "markdown",
   "metadata": {},
   "source": [
    "## Key Requirements for the iRF scikit-learn implementation\n",
    "\n",
    "* The following is a documentation of the main requirements for the iRF implementation"
   ]
  },
  {
   "cell_type": "markdown",
   "metadata": {},
   "source": [
    "## Typical Setup\n"
   ]
  },
  {
   "cell_type": "markdown",
   "metadata": {},
   "source": [
    "### Import the required dependencies\n",
    "\n",
    "* In particular `irf_utils` and `irf_jupyter_utils`"
   ]
  },
  {
   "cell_type": "code",
   "execution_count": 1,
   "metadata": {
    "scrolled": true
   },
   "outputs": [
    {
     "data": {
      "text/plain": [
       "<module 'utils.irf_utils' from '/home/runjing_liu/Documents/iRF/scikit-learn-sandbox/jupyter/utils/irf_utils.py'>"
      ]
     },
     "execution_count": 1,
     "metadata": {},
     "output_type": "execute_result"
    }
   ],
   "source": [
    "%matplotlib inline\n",
    "import matplotlib.pyplot as plt\n",
    "\n",
    "from sklearn.datasets import load_breast_cancer\n",
    "import numpy as np\n",
    "from functools import reduce\n",
    "\n",
    "# Needed for the scikit-learn wrapper function\n",
    "from sklearn.utils import resample\n",
    "from sklearn.ensemble import RandomForestClassifier\n",
    "from math import ceil\n",
    "\n",
    "# Import our custom utilities\n",
    "from imp import reload\n",
    "from utils import irf_jupyter_utils\n",
    "from utils import irf_utils\n",
    "reload(irf_jupyter_utils)\n",
    "reload(irf_utils)"
   ]
  },
  {
   "cell_type": "markdown",
   "metadata": {},
   "source": [
    "## Step 1: Fit the Initial Random Forest\n",
    "\n",
    "* Just fit every feature with equal weights per the usual random forest code e.g. DecisionForestClassifier in scikit-learn"
   ]
  },
  {
   "cell_type": "code",
   "execution_count": 2,
   "metadata": {
    "collapsed": true
   },
   "outputs": [],
   "source": [
    "load_breast_cancer = load_breast_cancer()"
   ]
  },
  {
   "cell_type": "code",
   "execution_count": 3,
   "metadata": {
    "collapsed": true
   },
   "outputs": [],
   "source": [
    "X_train, X_test, y_train, y_test, rf = irf_jupyter_utils.generate_rf_example(n_estimators=20, \n",
    "                                                                             feature_weight=None)"
   ]
  },
  {
   "cell_type": "markdown",
   "metadata": {},
   "source": [
    "## Check out the data"
   ]
  },
  {
   "cell_type": "code",
   "execution_count": 4,
   "metadata": {},
   "outputs": [
    {
     "name": "stdout",
     "output_type": "stream",
     "text": [
      "Training feature dimensions:\n",
      "(512, 30)\n",
      "\n",
      "\n",
      "Training outcome dimensions:\n",
      "(512,)\n",
      "\n",
      "\n",
      "Test feature dimensions:\n",
      "(57, 30)\n",
      "\n",
      "\n",
      "Test outcome dimensions:\n",
      "(57,)\n",
      "\n",
      "\n",
      "first 2 rows of the training set features:\n",
      "[[  1.98900000e+01   2.02600000e+01   1.30500000e+02   1.21400000e+03\n",
      "    1.03700000e-01   1.31000000e-01   1.41100000e-01   9.43100000e-02\n",
      "    1.80200000e-01   6.18800000e-02   5.07900000e-01   8.73700000e-01\n",
      "    3.65400000e+00   5.97000000e+01   5.08900000e-03   2.30300000e-02\n",
      "    3.05200000e-02   1.17800000e-02   1.05700000e-02   3.39100000e-03\n",
      "    2.37300000e+01   2.52300000e+01   1.60500000e+02   1.64600000e+03\n",
      "    1.41700000e-01   3.30900000e-01   4.18500000e-01   1.61300000e-01\n",
      "    2.54900000e-01   9.13600000e-02]\n",
      " [  2.01800000e+01   1.95400000e+01   1.33800000e+02   1.25000000e+03\n",
      "    1.13300000e-01   1.48900000e-01   2.13300000e-01   1.25900000e-01\n",
      "    1.72400000e-01   6.05300000e-02   4.33100000e-01   1.00100000e+00\n",
      "    3.00800000e+00   5.24900000e+01   9.08700000e-03   2.71500000e-02\n",
      "    5.54600000e-02   1.91000000e-02   2.45100000e-02   4.00500000e-03\n",
      "    2.20300000e+01   2.50700000e+01   1.46000000e+02   1.47900000e+03\n",
      "    1.66500000e-01   2.94200000e-01   5.30800000e-01   2.17300000e-01\n",
      "    3.03200000e-01   8.07500000e-02]]\n",
      "\n",
      "\n",
      "first 2 rows of the training set outcomes:\n",
      "[0 0]\n"
     ]
    }
   ],
   "source": [
    "print(\"Training feature dimensions\", X_train.shape, sep = \":\\n\")\n",
    "print(\"\\n\")\n",
    "print(\"Training outcome dimensions\", y_train.shape, sep = \":\\n\")\n",
    "print(\"\\n\")\n",
    "print(\"Test feature dimensions\", X_test.shape, sep = \":\\n\")\n",
    "print(\"\\n\")\n",
    "print(\"Test outcome dimensions\", y_test.shape, sep = \":\\n\")\n",
    "print(\"\\n\")\n",
    "print(\"first 2 rows of the training set features\", X_train[:2], sep = \":\\n\")\n",
    "print(\"\\n\")\n",
    "print(\"first 2 rows of the training set outcomes\", y_train[:2], sep = \":\\n\")"
   ]
  },
  {
   "cell_type": "markdown",
   "metadata": {},
   "source": [
    "## Step 2: Get all Random Forest and Decision Tree Data\n",
    "\n",
    "* Extract in a single dictionary the random forest data and for all of it's decision trees\n",
    "* This is as required for RIT purposes"
   ]
  },
  {
   "cell_type": "code",
   "execution_count": 5,
   "metadata": {
    "collapsed": true
   },
   "outputs": [],
   "source": [
    "all_rf_tree_data = irf_utils.get_rf_tree_data(\n",
    "    rf=rf, X_train=X_train, X_test=X_test, y_test=y_test)"
   ]
  },
  {
   "cell_type": "markdown",
   "metadata": {},
   "source": [
    "## STEP 3: Get the RIT data and produce RITs"
   ]
  },
  {
   "cell_type": "code",
   "execution_count": 6,
   "metadata": {
    "collapsed": true
   },
   "outputs": [],
   "source": [
    "np.random.seed(12)\n",
    "all_rit_tree_data = irf_utils.get_rit_tree_data(\n",
    "    all_rf_tree_data=all_rf_tree_data,\n",
    "    bin_class_type=1,\n",
    "    M=100,\n",
    "    max_depth=2,\n",
    "    noisy_split=False,\n",
    "    num_splits=2)"
   ]
  },
  {
   "cell_type": "markdown",
   "metadata": {},
   "source": [
    "# Perform Manual CHECKS on the `irf_utils`\n",
    "* These should be converted to unit tests and checked with `nosetests -v test_irf_utils.py`"
   ]
  },
  {
   "cell_type": "markdown",
   "metadata": {},
   "source": [
    "# Step 4: Plot some Data"
   ]
  },
  {
   "cell_type": "markdown",
   "metadata": {},
   "source": [
    "### List Ranked Feature Importances"
   ]
  },
  {
   "cell_type": "code",
   "execution_count": 7,
   "metadata": {},
   "outputs": [
    {
     "name": "stdout",
     "output_type": "stream",
     "text": [
      "Feature ranking:\n",
      "1. feature 20 (0.269505)\n",
      "2. feature 23 (0.166292)\n",
      "3. feature 22 (0.125083)\n",
      "4. feature 27 (0.095908)\n",
      "5. feature 7 (0.047362)\n",
      "6. feature 6 (0.041892)\n",
      "7. feature 3 (0.038964)\n",
      "8. feature 26 (0.038608)\n",
      "9. feature 0 (0.037853)\n",
      "10. feature 24 (0.015405)\n",
      "11. feature 28 (0.013661)\n",
      "12. feature 21 (0.012163)\n",
      "13. feature 1 (0.011433)\n",
      "14. feature 25 (0.009299)\n",
      "15. feature 2 (0.009179)\n",
      "16. feature 10 (0.007583)\n",
      "17. feature 13 (0.007535)\n",
      "18. feature 29 (0.006910)\n",
      "19. feature 12 (0.006683)\n",
      "20. feature 4 (0.005703)\n",
      "21. feature 17 (0.005578)\n",
      "22. feature 15 (0.004319)\n",
      "23. feature 16 (0.003881)\n",
      "24. feature 9 (0.003759)\n",
      "25. feature 5 (0.003555)\n",
      "26. feature 19 (0.003329)\n",
      "27. feature 14 (0.002782)\n",
      "28. feature 8 (0.002763)\n",
      "29. feature 18 (0.001688)\n",
      "30. feature 11 (0.001323)\n"
     ]
    }
   ],
   "source": [
    "# Print the feature ranking\n",
    "print(\"Feature ranking:\")\n",
    "\n",
    "feature_importances_rank_idx = all_rf_tree_data['feature_importances_rank_idx']\n",
    "feature_importances = all_rf_tree_data['feature_importances']\n",
    "\n",
    "for f in range(X_train.shape[1]):\n",
    "    print(\"%d. feature %d (%f)\" % (f + 1\n",
    "                                   , feature_importances_rank_idx[f]\n",
    "                                   , feature_importances[feature_importances_rank_idx[f]]))"
   ]
  },
  {
   "cell_type": "markdown",
   "metadata": {},
   "source": [
    "### Plot Ranked Feature Importances"
   ]
  },
  {
   "cell_type": "code",
   "execution_count": 8,
   "metadata": {},
   "outputs": [
    {
     "data": {
      "image/png": "[encoded data removed]",
      "text/plain": [
       "<matplotlib.figure.Figure at 0x7effc563cfd0>"
      ]
     },
     "metadata": {},
     "output_type": "display_data"
    }
   ],
   "source": [
    "# Plot the feature importances of the forest\n",
    "feature_importances_std = all_rf_tree_data['feature_importances_std']\n",
    "\n",
    "plt.figure()\n",
    "plt.title(\"Feature importances\")\n",
    "plt.bar(range(X_train.shape[1])\n",
    "        , feature_importances[feature_importances_rank_idx]\n",
    "        , color=\"r\"\n",
    "        , yerr = feature_importances_std[feature_importances_rank_idx], align=\"center\")\n",
    "plt.xticks(range(X_train.shape[1]), feature_importances_rank_idx)\n",
    "plt.xlim([-1, X_train.shape[1]])\n",
    "plt.show()"
   ]
  },
  {
   "cell_type": "markdown",
   "metadata": {},
   "source": [
    "## Decision Tree 0 (First) - Get output"
   ]
  },
  {
   "cell_type": "markdown",
   "metadata": {},
   "source": [
    "### Check the output against the decision tree graph"
   ]
  },
  {
   "cell_type": "code",
   "execution_count": 9,
   "metadata": {
    "collapsed": true
   },
   "outputs": [],
   "source": [
    "# Now plot the trees individually\n",
    "#irf_jupyter_utils.draw_tree(decision_tree = all_rf_tree_data['rf_obj'].estimators_[0])"
   ]
  },
  {
   "cell_type": "markdown",
   "metadata": {},
   "source": [
    "## Compare to our dict of extracted data from the tree"
   ]
  },
  {
   "cell_type": "code",
   "execution_count": 10,
   "metadata": {
    "collapsed": true
   },
   "outputs": [],
   "source": [
    "#irf_jupyter_utils.pretty_print_dict(inp_dict = all_rf_tree_data['dtree0'])"
   ]
  },
  {
   "cell_type": "code",
   "execution_count": 11,
   "metadata": {
    "code_folding": []
   },
   "outputs": [
    {
     "data": {
      "text/plain": [
       "512"
      ]
     },
     "execution_count": 11,
     "metadata": {},
     "output_type": "execute_result"
    }
   ],
   "source": [
    "# Count the number of samples passing through the leaf nodes\n",
    "sum(all_rf_tree_data['dtree0']['tot_leaf_node_values'])"
   ]
  },
  {
   "cell_type": "markdown",
   "metadata": {},
   "source": [
    "### Check output against the diagram"
   ]
  },
  {
   "cell_type": "code",
   "execution_count": 12,
   "metadata": {
    "collapsed": true
   },
   "outputs": [],
   "source": [
    "#irf_jupyter_utils.pretty_print_dict(inp_dict = all_rf_tree_data['dtree0']['all_leaf_paths_features'])"
   ]
  },
  {
   "cell_type": "markdown",
   "metadata": {},
   "source": [
    "# Run the iRF function"
   ]
  },
  {
   "cell_type": "code",
   "execution_count": 13,
   "metadata": {},
   "outputs": [],
   "source": [
    "all_rf_weights, all_K_iter_rf_data, all_rf_bootstrap_output, all_rit_bootstrap_output, stability_score =\\\n",
    "irf_utils.run_iRF(X_train=X_train,\n",
    "        X_test=X_test,\n",
    "        y_train=y_train,\n",
    "        y_test=y_test,\n",
    "        K=5,\n",
    "        n_estimators=20,\n",
    "        B=30,\n",
    "        random_state_classifier=2018,\n",
    "        propn_n_samples=.2,\n",
    "        bin_class_type=1,\n",
    "        M=20,\n",
    "        max_depth=5,\n",
    "        noisy_split=False,\n",
    "        num_splits=2,\n",
    "        n_estimators_bootstrap=5)\n"
   ]
  },
  {
   "cell_type": "markdown",
   "metadata": {},
   "source": [
    "# Examine the stability scores"
   ]
  },
  {
   "cell_type": "code",
   "execution_count": 15,
   "metadata": {
    "scrolled": false
   },
   "outputs": [
    {
     "data": {
      "image/png": "[encoded data removed]",
      "text/plain": [
       "<matplotlib.figure.Figure at 0x7effc563c550>"
      ]
     },
     "metadata": {},
     "output_type": "display_data"
    }
   ],
   "source": [
    "irf_utils._get_histogram(stability_score, sort = True)"
   ]
  },
  {
   "cell_type": "markdown",
   "metadata": {},
   "source": [
    "# Examine feature importances\n",
    "In particular, let us see how they change over the K iterations of random forest"
   ]
  },
  {
   "cell_type": "code",
   "execution_count": 16,
   "metadata": {
    "scrolled": false
   },
   "outputs": [
    {
     "data": {
      "image/png": "[encoded data removed]",
      "text/plain": [
       "<matplotlib.figure.Figure at 0x7effc2fffc88>"
      ]
     },
     "metadata": {},
     "output_type": "display_data"
    },
    {
     "data": {
      "image/png": "[encoded data removed]",
      "text/plain": [
       "<matplotlib.figure.Figure at 0x7effc2fe1e10>"
      ]
     },
     "metadata": {},
     "output_type": "display_data"
    },
    {
     "data": {
      "image/png": "[encoded data removed]",
      "text/plain": [
       "<matplotlib.figure.Figure at 0x7effc2cff358>"
      ]
     },
     "metadata": {},
     "output_type": "display_data"
    },
    {
     "data": {
      "image/png": "[encoded data removed]",
      "text/plain": [
       "<matplotlib.figure.Figure at 0x7effc2de7390>"
      ]
     },
     "metadata": {},
     "output_type": "display_data"
    },
    {
     "data": {
      "image/png": "[encoded data removed]",
      "text/plain": [
       "<matplotlib.figure.Figure at 0x7effc2d72748>"
      ]
     },
     "metadata": {},
     "output_type": "display_data"
    }
   ],
   "source": [
    "for k in range(5): \n",
    "    \n",
    "    iteration = \"rf_iter{}\".format(k)\n",
    "    \n",
    "    feature_importances_std = all_K_iter_rf_data[iteration]['feature_importances_std']\n",
    "    feature_importances_rank_idx = all_K_iter_rf_data[iteration]['feature_importances_rank_idx']\n",
    "    feature_importances = all_K_iter_rf_data[iteration]['feature_importances']\n",
    "\n",
    "    plt.figure(figsize=(8, 6))\n",
    "    title = \"Feature importances; iteration = {}\".format(k)\n",
    "    plt.title(title)\n",
    "    plt.bar(range(X_train.shape[1])\n",
    "            , feature_importances[feature_importances_rank_idx]\n",
    "            , color=\"r\"\n",
    "            , yerr = feature_importances_std[feature_importances_rank_idx], align=\"center\")\n",
    "    plt.xticks(range(X_train.shape[1]), feature_importances_rank_idx, rotation='vertical')\n",
    "    plt.xlim([-1, X_train.shape[1]])\n",
    "    plt.show()\n",
    "    \n",
    "    \n",
    "    "
   ]
  },
  {
   "cell_type": "markdown",
   "metadata": {},
   "source": [
    "Note that after 5 iterations, the most important features were found to be 22, 27, 7, and 23. \n",
    "\n",
    "Now also recall that the most stable interactions were found to be '22_27', '7_22', '7_22_27', '23_27', '7_27', '22_23_27'\n",
    "\n",
    "Given the overlap between these two plots, the results are not unreasonable here. "
   ]
  },
  {
   "cell_type": "markdown",
   "metadata": {},
   "source": [
    "## Run iRF for just 1 iteration - should be the uniform sampling version\n",
    "\n",
    "This is just a sanity check: the feature importances from iRF after 1 iteration should match the feature importance from running a standard RF"
   ]
  },
  {
   "cell_type": "code",
   "execution_count": 17,
   "metadata": {},
   "outputs": [
    {
     "name": "stdout",
     "output_type": "stream",
     "text": [
      "[ 0.0378531   0.01143301  0.00917885  0.0389645   0.00570286  0.00355542\n",
      "  0.04189169  0.04736217  0.00276282  0.00375928  0.00758323  0.00132309\n",
      "  0.00668335  0.00753545  0.0027825   0.0043194   0.00388132  0.00557761\n",
      "  0.00168787  0.00332904  0.26950483  0.01216281  0.12508337  0.16629184\n",
      "  0.01540501  0.00929946  0.03860752  0.0959075   0.01366094  0.00691016]\n"
     ]
    }
   ],
   "source": [
    "all_K_iter_rf_data.keys()\n",
    "print(all_K_iter_rf_data['rf_iter0']['feature_importances'])"
   ]
  },
  {
   "cell_type": "markdown",
   "metadata": {},
   "source": [
    "Compare to the original single fitted random forest"
   ]
  },
  {
   "cell_type": "code",
   "execution_count": 18,
   "metadata": {
    "scrolled": true
   },
   "outputs": [
    {
     "name": "stdout",
     "output_type": "stream",
     "text": [
      "[ 0.0378531   0.01143301  0.00917885  0.0389645   0.00570286  0.00355542\n",
      "  0.04189169  0.04736217  0.00276282  0.00375928  0.00758323  0.00132309\n",
      "  0.00668335  0.00753545  0.0027825   0.0043194   0.00388132  0.00557761\n",
      "  0.00168787  0.00332904  0.26950483  0.01216281  0.12508337  0.16629184\n",
      "  0.01540501  0.00929946  0.03860752  0.0959075   0.01366094  0.00691016]\n"
     ]
    }
   ],
   "source": [
    "rf = RandomForestClassifier(n_estimators=20, random_state=2018)\n",
    "rf.fit(X=X_train, y=y_train)\n",
    "print(rf.feature_importances_)"
   ]
  },
  {
   "cell_type": "markdown",
   "metadata": {},
   "source": [
    "And they match perfectly as expected. "
   ]
  },
  {
   "cell_type": "markdown",
   "metadata": {},
   "source": [
    "## End Wrapper test"
   ]
  },
  {
   "cell_type": "code",
   "execution_count": null,
   "metadata": {
    "collapsed": true
   },
   "outputs": [],
   "source": []
  }
 ],
 "metadata": {
  "kernelspec": {
   "display_name": "Python 3",
   "language": "python",
   "name": "python3"
  },
  "language_info": {
   "codemirror_mode": {
    "name": "ipython",
    "version": 3
   },
   "file_extension": ".py",
   "mimetype": "text/x-python",
   "name": "python",
   "nbconvert_exporter": "python",
   "pygments_lexer": "ipython3",
   "version": "3.5.3"
  }
 },
 "nbformat": 4,
 "nbformat_minor": 2
}
