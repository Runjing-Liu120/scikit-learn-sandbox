{
 "cells": [
  {
   "cell_type": "markdown",
   "metadata": {},
   "source": [
    "## Key Requirements for the iRF scikit-learn implementation\n",
    "\n",
    "* The following is a documentation of the main requirements for the iRF implementation"
   ]
  },
  {
   "cell_type": "markdown",
   "metadata": {},
   "source": [
    "## Typical Setup\n"
   ]
  },
  {
   "cell_type": "markdown",
   "metadata": {},
   "source": [
    "### Import the required dependencies\n",
    "\n",
    "* In particular `irf_utils` and `irf_jupyter_utils`"
   ]
  },
  {
   "cell_type": "code",
   "execution_count": 36,
   "metadata": {
    "scrolled": true
   },
   "outputs": [
    {
     "data": {
      "text/plain": [
       "<module 'utils.irf_utils' from '/home/runjing_liu/Documents/iRF/scikit-learn-sandbox/jupyter/utils/irf_utils.py'>"
      ]
     },
     "execution_count": 36,
     "metadata": {},
     "output_type": "execute_result"
    }
   ],
   "source": [
    "%matplotlib inline\n",
    "import matplotlib.pyplot as plt\n",
    "\n",
    "from sklearn.datasets import load_breast_cancer\n",
    "import numpy as np\n",
    "from functools import reduce\n",
    "\n",
    "# Needed for the scikit-learn wrapper function\n",
    "from sklearn.utils import resample\n",
    "from sklearn.ensemble import RandomForestClassifier\n",
    "from math import ceil\n",
    "\n",
    "# Import our custom utilities\n",
    "from imp import reload\n",
    "from utils import irf_jupyter_utils\n",
    "from utils import irf_utils\n",
    "reload(irf_jupyter_utils)\n",
    "reload(irf_utils)"
   ]
  },
  {
   "cell_type": "markdown",
   "metadata": {},
   "source": [
    "## Step 1: Fit the Initial Random Forest\n",
    "\n",
    "* Just fit every feature with equal weights per the usual random forest code e.g. DecisionForestClassifier in scikit-learn"
   ]
  },
  {
   "cell_type": "code",
   "execution_count": 37,
   "metadata": {
    "collapsed": true
   },
   "outputs": [],
   "source": [
    "load_breast_cancer = load_breast_cancer()"
   ]
  },
  {
   "cell_type": "code",
   "execution_count": 56,
   "metadata": {
    "collapsed": true
   },
   "outputs": [],
   "source": [
    "X_train, X_test, y_train, y_test, rf = irf_jupyter_utils.generate_rf_example(n_estimators=20, \n",
    "                                                                             feature_weight=None)"
   ]
  },
  {
   "cell_type": "markdown",
   "metadata": {},
   "source": [
    "## Check out the data"
   ]
  },
  {
   "cell_type": "code",
   "execution_count": 39,
   "metadata": {},
   "outputs": [
    {
     "name": "stdout",
     "output_type": "stream",
     "text": [
      "Training feature dimensions:\n",
      "(512, 30)\n",
      "\n",
      "\n",
      "Training outcome dimensions:\n",
      "(512,)\n",
      "\n",
      "\n",
      "Test feature dimensions:\n",
      "(57, 30)\n",
      "\n",
      "\n",
      "Test outcome dimensions:\n",
      "(57,)\n",
      "\n",
      "\n",
      "first 2 rows of the training set features:\n",
      "[[  1.98900000e+01   2.02600000e+01   1.30500000e+02   1.21400000e+03\n",
      "    1.03700000e-01   1.31000000e-01   1.41100000e-01   9.43100000e-02\n",
      "    1.80200000e-01   6.18800000e-02   5.07900000e-01   8.73700000e-01\n",
      "    3.65400000e+00   5.97000000e+01   5.08900000e-03   2.30300000e-02\n",
      "    3.05200000e-02   1.17800000e-02   1.05700000e-02   3.39100000e-03\n",
      "    2.37300000e+01   2.52300000e+01   1.60500000e+02   1.64600000e+03\n",
      "    1.41700000e-01   3.30900000e-01   4.18500000e-01   1.61300000e-01\n",
      "    2.54900000e-01   9.13600000e-02]\n",
      " [  2.01800000e+01   1.95400000e+01   1.33800000e+02   1.25000000e+03\n",
      "    1.13300000e-01   1.48900000e-01   2.13300000e-01   1.25900000e-01\n",
      "    1.72400000e-01   6.05300000e-02   4.33100000e-01   1.00100000e+00\n",
      "    3.00800000e+00   5.24900000e+01   9.08700000e-03   2.71500000e-02\n",
      "    5.54600000e-02   1.91000000e-02   2.45100000e-02   4.00500000e-03\n",
      "    2.20300000e+01   2.50700000e+01   1.46000000e+02   1.47900000e+03\n",
      "    1.66500000e-01   2.94200000e-01   5.30800000e-01   2.17300000e-01\n",
      "    3.03200000e-01   8.07500000e-02]]\n",
      "\n",
      "\n",
      "first 2 rows of the training set outcomes:\n",
      "[0 0]\n"
     ]
    }
   ],
   "source": [
    "print(\"Training feature dimensions\", X_train.shape, sep = \":\\n\")\n",
    "print(\"\\n\")\n",
    "print(\"Training outcome dimensions\", y_train.shape, sep = \":\\n\")\n",
    "print(\"\\n\")\n",
    "print(\"Test feature dimensions\", X_test.shape, sep = \":\\n\")\n",
    "print(\"\\n\")\n",
    "print(\"Test outcome dimensions\", y_test.shape, sep = \":\\n\")\n",
    "print(\"\\n\")\n",
    "print(\"first 2 rows of the training set features\", X_train[:2], sep = \":\\n\")\n",
    "print(\"\\n\")\n",
    "print(\"first 2 rows of the training set outcomes\", y_train[:2], sep = \":\\n\")"
   ]
  },
  {
   "cell_type": "markdown",
   "metadata": {},
   "source": [
    "## Step 2: Get all Random Forest and Decision Tree Data\n",
    "\n",
    "* Extract in a single dictionary the random forest data and for all of it's decision trees\n",
    "* This is as required for RIT purposes"
   ]
  },
  {
   "cell_type": "code",
   "execution_count": 40,
   "metadata": {
    "collapsed": true
   },
   "outputs": [],
   "source": [
    "all_rf_tree_data = irf_utils.get_rf_tree_data(\n",
    "    rf=rf, X_train=X_train, X_test=X_test, y_test=y_test)"
   ]
  },
  {
   "cell_type": "markdown",
   "metadata": {},
   "source": [
    "## STEP 3: Get the RIT data and produce RITs"
   ]
  },
  {
   "cell_type": "code",
   "execution_count": 41,
   "metadata": {
    "collapsed": true
   },
   "outputs": [],
   "source": [
    "np.random.seed(12)\n",
    "all_rit_tree_data = irf_utils.get_rit_tree_data(\n",
    "    all_rf_tree_data=all_rf_tree_data,\n",
    "    bin_class_type=1,\n",
    "    M=100,\n",
    "    max_depth=2,\n",
    "    noisy_split=False,\n",
    "    num_splits=2)"
   ]
  },
  {
   "cell_type": "markdown",
   "metadata": {},
   "source": [
    "# Perform Manual CHECKS on the `irf_utils`\n",
    "* These should be converted to unit tests and checked with `nosetests -v test_irf_utils.py`"
   ]
  },
  {
   "cell_type": "markdown",
   "metadata": {},
   "source": [
    "# Step 4: Plot some Data"
   ]
  },
  {
   "cell_type": "markdown",
   "metadata": {},
   "source": [
    "### List Ranked Feature Importances"
   ]
  },
  {
   "cell_type": "code",
   "execution_count": 42,
   "metadata": {},
   "outputs": [
    {
     "name": "stdout",
     "output_type": "stream",
     "text": [
      "Feature ranking:\n",
      "1. feature 22 (0.141571)\n",
      "2. feature 23 (0.118066)\n",
      "3. feature 27 (0.118023)\n",
      "4. feature 20 (0.116496)\n",
      "5. feature 7 (0.083462)\n",
      "6. feature 3 (0.053727)\n",
      "7. feature 2 (0.046495)\n",
      "8. feature 0 (0.046333)\n",
      "9. feature 6 (0.046172)\n",
      "10. feature 13 (0.037305)\n",
      "11. feature 26 (0.033145)\n",
      "12. feature 21 (0.018278)\n",
      "13. feature 25 (0.015116)\n",
      "14. feature 5 (0.014100)\n",
      "15. feature 10 (0.013705)\n",
      "16. feature 1 (0.012798)\n",
      "17. feature 24 (0.011960)\n",
      "18. feature 12 (0.011029)\n",
      "19. feature 28 (0.009534)\n",
      "20. feature 29 (0.006791)\n",
      "21. feature 4 (0.006139)\n",
      "22. feature 16 (0.005647)\n",
      "23. feature 17 (0.005003)\n",
      "24. feature 14 (0.004568)\n",
      "25. feature 11 (0.004414)\n",
      "26. feature 18 (0.004412)\n",
      "27. feature 19 (0.004295)\n",
      "28. feature 15 (0.003972)\n",
      "29. feature 9 (0.003792)\n",
      "30. feature 8 (0.003654)\n"
     ]
    }
   ],
   "source": [
    "# Print the feature ranking\n",
    "print(\"Feature ranking:\")\n",
    "\n",
    "feature_importances_rank_idx = all_rf_tree_data['feature_importances_rank_idx']\n",
    "feature_importances = all_rf_tree_data['feature_importances']\n",
    "\n",
    "for f in range(X_train.shape[1]):\n",
    "    print(\"%d. feature %d (%f)\" % (f + 1\n",
    "                                   , feature_importances_rank_idx[f]\n",
    "                                   , feature_importances[feature_importances_rank_idx[f]]))"
   ]
  },
  {
   "cell_type": "markdown",
   "metadata": {},
   "source": [
    "### Plot Ranked Feature Importances"
   ]
  },
  {
   "cell_type": "code",
   "execution_count": 43,
   "metadata": {},
   "outputs": [
    {
     "data": {
      "image/png": "[encoded data removed]",
      "text/plain": [
       "<matplotlib.figure.Figure at 0x7efbee4f4438>"
      ]
     },
     "metadata": {},
     "output_type": "display_data"
    }
   ],
   "source": [
    "# Plot the feature importances of the forest\n",
    "feature_importances_std = all_rf_tree_data['feature_importances_std']\n",
    "\n",
    "plt.figure()\n",
    "plt.title(\"Feature importances\")\n",
    "plt.bar(range(X_train.shape[1])\n",
    "        , feature_importances[feature_importances_rank_idx]\n",
    "        , color=\"r\"\n",
    "        , yerr = feature_importances_std[feature_importances_rank_idx], align=\"center\")\n",
    "plt.xticks(range(X_train.shape[1]), feature_importances_rank_idx)\n",
    "plt.xlim([-1, X_train.shape[1]])\n",
    "plt.show()"
   ]
  },
  {
   "cell_type": "markdown",
   "metadata": {},
   "source": [
    "## Decision Tree 0 (First) - Get output"
   ]
  },
  {
   "cell_type": "markdown",
   "metadata": {},
   "source": [
    "### Check the output against the decision tree graph"
   ]
  },
  {
   "cell_type": "code",
   "execution_count": 44,
   "metadata": {
    "collapsed": true
   },
   "outputs": [],
   "source": [
    "# Now plot the trees individually\n",
    "#irf_jupyter_utils.draw_tree(decision_tree = all_rf_tree_data['rf_obj'].estimators_[0])"
   ]
  },
  {
   "cell_type": "markdown",
   "metadata": {},
   "source": [
    "## Compare to our dict of extracted data from the tree"
   ]
  },
  {
   "cell_type": "code",
   "execution_count": 45,
   "metadata": {
    "collapsed": true
   },
   "outputs": [],
   "source": [
    "#irf_jupyter_utils.pretty_print_dict(inp_dict = all_rf_tree_data['dtree0'])"
   ]
  },
  {
   "cell_type": "code",
   "execution_count": 46,
   "metadata": {
    "code_folding": []
   },
   "outputs": [
    {
     "data": {
      "text/plain": [
       "512"
      ]
     },
     "execution_count": 46,
     "metadata": {},
     "output_type": "execute_result"
    }
   ],
   "source": [
    "# Count the number of samples passing through the leaf nodes\n",
    "sum(all_rf_tree_data['dtree0']['tot_leaf_node_values'])"
   ]
  },
  {
   "cell_type": "markdown",
   "metadata": {},
   "source": [
    "### Check output against the diagram"
   ]
  },
  {
   "cell_type": "code",
   "execution_count": 47,
   "metadata": {
    "collapsed": true
   },
   "outputs": [],
   "source": [
    "#irf_jupyter_utils.pretty_print_dict(inp_dict = all_rf_tree_data['dtree0']['all_leaf_paths_features'])"
   ]
  },
  {
   "cell_type": "markdown",
   "metadata": {},
   "source": [
    "# Run the iRF function"
   ]
  },
  {
   "cell_type": "code",
   "execution_count": 48,
   "metadata": {},
   "outputs": [],
   "source": [
    "all_rf_weights, all_K_iter_rf_data, all_rf_bootstrap_output, all_rit_bootstrap_output, stability_score =\\\n",
    "irf_utils.run_iRF(X_train=X_train,\n",
    "        X_test=X_test,\n",
    "        y_train=y_train,\n",
    "        y_test=y_test,\n",
    "        K=5,\n",
    "        n_estimators=20,\n",
    "        B=30,\n",
    "        random_state_classifier=2018,\n",
    "        propn_n_samples=.2,\n",
    "        bin_class_type=1,\n",
    "        M=20,\n",
    "        max_depth=5,\n",
    "        noisy_split=False,\n",
    "        num_splits=2,\n",
    "        n_estimators_bootstrap=5)\n"
   ]
  },
  {
   "cell_type": "code",
   "execution_count": 49,
   "metadata": {},
   "outputs": [
    {
     "data": {
      "text/plain": [
       "array([  1.17370989e-02,   7.65485253e-03,   3.50243273e-03,\n",
       "         8.55239388e-03,   3.64838213e-03,   0.00000000e+00,\n",
       "         1.58059939e-01,   1.67038013e-01,   5.45548310e-05,\n",
       "         3.03473961e-03,   2.85186993e-03,   0.00000000e+00,\n",
       "         3.47262741e-03,   2.25011228e-03,   1.68434435e-03,\n",
       "         0.00000000e+00,   9.20144905e-04,   3.66362643e-03,\n",
       "         1.44133057e-03,   0.00000000e+00,   2.71356235e-01,\n",
       "         2.54186595e-02,   3.55478999e-01,   2.88644422e-01,\n",
       "         7.91716497e-03,   4.15066017e-03,   1.35126367e-02,\n",
       "         2.06776415e-01,   8.09767440e-03,   3.53276537e-03])"
      ]
     },
     "execution_count": 49,
     "metadata": {},
     "output_type": "execute_result"
    }
   ],
   "source": [
    "all_K_iter_rf_data['rf_iter1']['feature_importances_std']"
   ]
  },
  {
   "cell_type": "markdown",
   "metadata": {},
   "source": [
    "# Examine the stability scores"
   ]
  },
  {
   "cell_type": "code",
   "execution_count": 50,
   "metadata": {
    "scrolled": false
   },
   "outputs": [
    {
     "data": {
      "image/png": "[encoded data removed]",
      "text/plain": [
       "<matplotlib.figure.Figure at 0x7efbf088fa20>"
      ]
     },
     "metadata": {},
     "output_type": "display_data"
    }
   ],
   "source": [
    "irf_utils._get_histogram(stability_score, sort = True)"
   ]
  },
  {
   "cell_type": "markdown",
   "metadata": {},
   "source": [
    "# Examine feature importances\n",
    "In particular, let us see how they change over the K iterations of random forest"
   ]
  },
  {
   "cell_type": "code",
   "execution_count": 51,
   "metadata": {
    "scrolled": false
   },
   "outputs": [
    {
     "data": {
      "image/png": "[encoded data removed]",
      "text/plain": [
       "<matplotlib.figure.Figure at 0x7efbee08d128>"
      ]
     },
     "metadata": {},
     "output_type": "display_data"
    },
    {
     "data": {
      "image/png": "[encoded data removed]",
      "text/plain": [
       "<matplotlib.figure.Figure at 0x7efbee222cf8>"
      ]
     },
     "metadata": {},
     "output_type": "display_data"
    },
    {
     "data": {
      "image/png": "[encoded data removed]",
      "text/plain": [
       "<matplotlib.figure.Figure at 0x7efbee4a00b8>"
      ]
     },
     "metadata": {},
     "output_type": "display_data"
    },
    {
     "data": {
      "image/png": "[encoded data removed]",
      "text/plain": [
       "<matplotlib.figure.Figure at 0x7efbf0a66b00>"
      ]
     },
     "metadata": {},
     "output_type": "display_data"
    },
    {
     "data": {
      "image/png": "[encoded data removed]",
      "text/plain": [
       "<matplotlib.figure.Figure at 0x7efbf0a4eb38>"
      ]
     },
     "metadata": {},
     "output_type": "display_data"
    }
   ],
   "source": [
    "for k in range(5): \n",
    "    \n",
    "    iteration = \"rf_iter{}\".format(k)\n",
    "    \n",
    "    feature_importances_std = all_K_iter_rf_data[iteration]['feature_importances_std']\n",
    "    feature_importances_rank_idx = all_K_iter_rf_data[iteration]['feature_importances_rank_idx']\n",
    "    feature_importances = all_K_iter_rf_data[iteration]['feature_importances']\n",
    "\n",
    "    plt.figure(figsize=(8, 6))\n",
    "    title = \"Feature importances; iteration = {}\".format(k)\n",
    "    plt.title(title)\n",
    "    plt.bar(range(X_train.shape[1])\n",
    "            , feature_importances[feature_importances_rank_idx]\n",
    "            , color=\"r\"\n",
    "            , yerr = feature_importances_std[feature_importances_rank_idx], align=\"center\")\n",
    "    plt.xticks(range(X_train.shape[1]), feature_importances_rank_idx, rotation='vertical')\n",
    "    plt.xlim([-1, X_train.shape[1]])\n",
    "    plt.show()\n",
    "    \n",
    "    \n",
    "    "
   ]
  },
  {
   "cell_type": "markdown",
   "metadata": {},
   "source": [
    "Note that after 5 iterations, the most important features were found to be 22, 27, 7, and 23. \n",
    "\n",
    "Now also recall that the most stable interactions were found to be '22_27', '7_22', '7_22_27', '23_27', '7_27', '22_23_27'\n",
    "\n",
    "Given the overlap between these two plots, the results are not unreasonable here. "
   ]
  },
  {
   "cell_type": "markdown",
   "metadata": {},
   "source": [
    "## Run iRF for just 1 iteration - should be the uniform sampling version\n",
    "\n",
    "This is just a sanity check: the feature importances from iRF after 1 iteration should match the feature importance from running a standard RF"
   ]
  },
  {
   "cell_type": "code",
   "execution_count": 52,
   "metadata": {},
   "outputs": [
    {
     "name": "stdout",
     "output_type": "stream",
     "text": [
      "[ 0.0378531   0.01143301  0.00917885  0.0389645   0.00570286  0.00355542\n",
      "  0.04189169  0.04736217  0.00276282  0.00375928  0.00758323  0.00132309\n",
      "  0.00668335  0.00753545  0.0027825   0.0043194   0.00388132  0.00557761\n",
      "  0.00168787  0.00332904  0.26950483  0.01216281  0.12508337  0.16629184\n",
      "  0.01540501  0.00929946  0.03860752  0.0959075   0.01366094  0.00691016]\n"
     ]
    }
   ],
   "source": [
    "all_K_iter_rf_data.keys()\n",
    "print(all_K_iter_rf_data['rf_iter0']['feature_importances'])"
   ]
  },
  {
   "cell_type": "markdown",
   "metadata": {},
   "source": [
    "Compare to the original single fitted random forest (top of the notebook)!"
   ]
  },
  {
   "cell_type": "code",
   "execution_count": 60,
   "metadata": {
    "scrolled": true
   },
   "outputs": [
    {
     "name": "stdout",
     "output_type": "stream",
     "text": [
      "[ 0.0378531   0.01143301  0.00917885  0.0389645   0.00570286  0.00355542\n",
      "  0.04189169  0.04736217  0.00276282  0.00375928  0.00758323  0.00132309\n",
      "  0.00668335  0.00753545  0.0027825   0.0043194   0.00388132  0.00557761\n",
      "  0.00168787  0.00332904  0.26950483  0.01216281  0.12508337  0.16629184\n",
      "  0.01540501  0.00929946  0.03860752  0.0959075   0.01366094  0.00691016]\n"
     ]
    }
   ],
   "source": [
    "rf = RandomForestClassifier(n_estimators=20, random_state=2018)\n",
    "rf.fit(X=X_train, y=y_train)\n",
    "print(rf.feature_importances_)"
   ]
  },
  {
   "cell_type": "markdown",
   "metadata": {},
   "source": [
    "And they match perfectly as expected. "
   ]
  },
  {
   "cell_type": "markdown",
   "metadata": {},
   "source": [
    "## These look like they match closely as required!"
   ]
  },
  {
   "cell_type": "code",
   "execution_count": 22,
   "metadata": {},
   "outputs": [
    {
     "data": {
      "text/plain": [
       "[0.03785310470431957,\n",
       " 0.011433014482771538,\n",
       " 0.009178847665561797,\n",
       " 0.038964497097170335,\n",
       " 0.005702864300092174,\n",
       " 0.0035554200305757616,\n",
       " 0.041891686998428004,\n",
       " 0.04736216645722789,\n",
       " 0.0027628245777236277,\n",
       " 0.003759277392257268,\n",
       " 0.0075832267680531916,\n",
       " 0.0013230930451214183,\n",
       " 0.006683350681223972,\n",
       " 0.007535448498366222,\n",
       " 0.0027824980670987315,\n",
       " 0.0043193967779257,\n",
       " 0.0038813156721859963,\n",
       " 0.005577613495435727,\n",
       " 0.0016878723423762096,\n",
       " 0.003329040950739148,\n",
       " 0.2695048270955845,\n",
       " 0.012162811436513673,\n",
       " 0.1250833695561254,\n",
       " 0.16629184413751788,\n",
       " 0.015405008680302696,\n",
       " 0.00929945634990437,\n",
       " 0.03860751552331201,\n",
       " 0.09590750167873455,\n",
       " 0.013660944440826783,\n",
       " 0.006910161096523803]"
      ]
     },
     "execution_count": 22,
     "metadata": {},
     "output_type": "execute_result"
    }
   ],
   "source": [
    "rf_weight5 = np.ndarray.tolist(all_rf_weights['rf_weight1'])\n",
    "rf_weight5"
   ]
  },
  {
   "cell_type": "markdown",
   "metadata": {},
   "source": [
    "#"
   ]
  },
  {
   "cell_type": "code",
   "execution_count": 25,
   "metadata": {},
   "outputs": [
    {
     "data": {
      "text/plain": [
       "[0,\n",
       " 1,\n",
       " 2,\n",
       " 3,\n",
       " 4,\n",
       " 5,\n",
       " 6,\n",
       " 7,\n",
       " 8,\n",
       " 9,\n",
       " 10,\n",
       " 11,\n",
       " 12,\n",
       " 13,\n",
       " 14,\n",
       " 15,\n",
       " 16,\n",
       " 17,\n",
       " 18,\n",
       " 19,\n",
       " 20,\n",
       " 21,\n",
       " 22,\n",
       " 23,\n",
       " 24,\n",
       " 25,\n",
       " 26,\n",
       " 27,\n",
       " 28,\n",
       " 29]"
      ]
     },
     "execution_count": 25,
     "metadata": {},
     "output_type": "execute_result"
    }
   ],
   "source": [
    "sorted([i for i, e in enumerate(rf_weight5) if e != 0])"
   ]
  },
  {
   "cell_type": "markdown",
   "metadata": {},
   "source": [
    "## End Wrapper test"
   ]
  }
 ],
 "metadata": {
  "kernelspec": {
   "display_name": "Python 3",
   "language": "python",
   "name": "python3"
  },
  "language_info": {
   "codemirror_mode": {
    "name": "ipython",
    "version": 3
   },
   "file_extension": ".py",
   "mimetype": "text/x-python",
   "name": "python",
   "nbconvert_exporter": "python",
   "pygments_lexer": "ipython3",
   "version": "3.5.3"
  }
 },
 "nbformat": 4,
 "nbformat_minor": 2
}
