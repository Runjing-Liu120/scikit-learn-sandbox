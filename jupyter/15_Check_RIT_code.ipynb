{
 "cells": [
  {
   "cell_type": "markdown",
   "metadata": {},
   "source": [
    "## Key Requirements for the iRF scikit-learn implementation\n",
    "\n",
    "* The following is a documentation of the main requirements for the iRF implementation"
   ]
  },
  {
   "cell_type": "markdown",
   "metadata": {},
   "source": [
    "## Typical Setup\n"
   ]
  },
  {
   "cell_type": "code",
   "execution_count": 9,
   "metadata": {},
   "outputs": [
    {
     "data": {
      "text/plain": [
       "<module 'utils.irf_utils' from '/Users/shamindras/PERSONAL/LEARNING/REPOS/scikit-learn-sandbox/jupyter/utils/irf_utils.py'>"
      ]
     },
     "execution_count": 9,
     "metadata": {},
     "output_type": "execute_result"
    }
   ],
   "source": [
    "%matplotlib inline\n",
    "import matplotlib.pyplot as plt\n",
    "\n",
    "from sklearn.datasets import load_iris\n",
    "from sklearn.datasets import load_breast_cancer\n",
    "import numpy as np\n",
    "from functools import reduce\n",
    "\n",
    "# Import our custom utilities\n",
    "from imp import reload\n",
    "from utils import irf_jupyter_utils\n",
    "from utils import irf_utils\n",
    "reload(irf_jupyter_utils)\n",
    "reload(irf_utils)"
   ]
  },
  {
   "cell_type": "code",
   "execution_count": 10,
   "metadata": {},
   "outputs": [],
   "source": [
    "np.random.seed(12)\n",
    "tree = irf_utils.build_tree(feature_paths=irf_utils.select_random_path(), \n",
    "                            max_depth=3, \n",
    "                            noisy_split=False, \n",
    "                            num_splits=5)"
   ]
  },
  {
   "cell_type": "code",
   "execution_count": 11,
   "metadata": {},
   "outputs": [
    {
     "name": "stdout",
     "output_type": "stream",
     "text": [
      "Root:\n",
      " [ 0  1  4  5  6  8 12 13 14 16 17 19 23 24 25 30 31 33 34 35 37 39 40 41 42\n",
      " 43 44 45 46 49 52 53 54 55 56 57 58 59 60 61 62 63 64 65 66 67 68 71 72 73\n",
      " 74 76 78 79 80 83 84 85 86 87 89 90 92 93 96 97 99]\n"
     ]
    }
   ],
   "source": [
    "print(\"Root:\\n\", tree._val)\n",
    "#print(\"Some child:\\n\", tree.children[0].children[1]._val)"
   ]
  },
  {
   "cell_type": "code",
   "execution_count": 12,
   "metadata": {},
   "outputs": [],
   "source": [
    "# If noisy split is False, this should pass\n",
    "assert(len(tree) == 1 + 5 + 5**2)\n",
    "#assert(len(tree) == 6)"
   ]
  },
  {
   "cell_type": "code",
   "execution_count": 13,
   "metadata": {},
   "outputs": [
    {
     "data": {
      "text/plain": [
       "[(0, <utils.irf_utils.RITTree at 0x11b554400>),\n",
       " (1, <utils.irf_utils.RITNode at 0x11b554358>),\n",
       " (2, <utils.irf_utils.RITNode at 0x11b5545c0>),\n",
       " (3, <utils.irf_utils.RITNode at 0x11b12ab00>),\n",
       " (4, <utils.irf_utils.RITNode at 0x11b5545f8>),\n",
       " (5, <utils.irf_utils.RITNode at 0x110b29048>),\n",
       " (6, <utils.irf_utils.RITNode at 0x11b554908>),\n",
       " (7, <utils.irf_utils.RITNode at 0x11b554978>),\n",
       " (8, <utils.irf_utils.RITNode at 0x11b554588>),\n",
       " (9, <utils.irf_utils.RITNode at 0x11b5540b8>),\n",
       " (10, <utils.irf_utils.RITNode at 0x11b5549b0>),\n",
       " (11, <utils.irf_utils.RITNode at 0x11b5547f0>),\n",
       " (12, <utils.irf_utils.RITNode at 0x11b554860>),\n",
       " (13, <utils.irf_utils.RITNode at 0x11b554630>),\n",
       " (14, <utils.irf_utils.RITNode at 0x11b5549e8>),\n",
       " (15, <utils.irf_utils.RITNode at 0x11b554b00>),\n",
       " (16, <utils.irf_utils.RITNode at 0x11b554ac8>),\n",
       " (17, <utils.irf_utils.RITNode at 0x11b554f28>),\n",
       " (18, <utils.irf_utils.RITNode at 0x11b554e10>),\n",
       " (19, <utils.irf_utils.RITNode at 0x11b554e80>),\n",
       " (20, <utils.irf_utils.RITNode at 0x11b554ef0>),\n",
       " (21, <utils.irf_utils.RITNode at 0x11b554eb8>),\n",
       " (22, <utils.irf_utils.RITNode at 0x11b554e48>),\n",
       " (23, <utils.irf_utils.RITNode at 0x11b554dd8>),\n",
       " (24, <utils.irf_utils.RITNode at 0x11b554da0>),\n",
       " (25, <utils.irf_utils.RITNode at 0x11b554b70>),\n",
       " (26, <utils.irf_utils.RITNode at 0x11b554c18>),\n",
       " (27, <utils.irf_utils.RITNode at 0x11b554be0>),\n",
       " (28, <utils.irf_utils.RITNode at 0x11b554a58>),\n",
       " (29, <utils.irf_utils.RITNode at 0x118da3550>),\n",
       " (30, <utils.irf_utils.RITNode at 0x11b5a4198>)]"
      ]
     },
     "execution_count": 13,
     "metadata": {},
     "output_type": "execute_result"
    }
   ],
   "source": [
    "list(tree.traverse_depth_first())"
   ]
  },
  {
   "cell_type": "code",
   "execution_count": 49,
   "metadata": {},
   "outputs": [
    {
     "name": "stdout",
     "output_type": "stream",
     "text": [
      "[6, 8, 9, 10, 12, 14, 15, 19, 22, 23, 24, 25, 26, 29, 30, 32, 34, 36, 37, 40, 41, 42]\n"
     ]
    }
   ],
   "source": [
    "from sklearn.datasets import load_breast_cancer\n",
    "from sklearn.model_selection import train_test_split\n",
    "from sklearn.ensemble import RandomForestClassifier\n",
    "raw_data = load_breast_cancer()\n",
    "X_train, X_test, y_train, y_test = train_test_split(\n",
    "    raw_data.data, raw_data.target, train_size=0.9,\n",
    "    random_state=2017)\n",
    "rf = RandomForestClassifier(\n",
    "    n_estimators=10, random_state=2018)\n",
    "rf.fit(X=X_train, y=y_train)\n",
    "estimator0 = rf.estimators_[0]\n",
    "estimator0_out = irf_utils.get_tree_data(X_train=X_train,\n",
    "                                 dtree=estimator0,\n",
    "                                 root_node_id=0)\n",
    "print(estimator0_out['all_leaf_nodes'])"
   ]
  },
  {
   "cell_type": "code",
   "execution_count": 50,
   "metadata": {},
   "outputs": [
    {
     "data": {
      "text/plain": [
       "<module 'utils.irf_utils' from '/Users/shamindras/PERSONAL/LEARNING/REPOS/scikit-learn-sandbox/jupyter/utils/irf_utils.py'>"
      ]
     },
     "execution_count": 50,
     "metadata": {},
     "output_type": "execute_result"
    }
   ],
   "source": [
    "# Import our custom utilities\n",
    "from imp import reload\n",
    "from utils import irf_jupyter_utils\n",
    "from utils import irf_utils\n",
    "reload(irf_jupyter_utils)\n",
    "reload(irf_utils)"
   ]
  },
  {
   "cell_type": "code",
   "execution_count": 51,
   "metadata": {},
   "outputs": [],
   "source": [
    "estimator0_out_fltr = irf_utils.filter_leaves_classifier(dtree_data=estimator0_out,bin_class_type=1)"
   ]
  },
  {
   "cell_type": "code",
   "execution_count": 52,
   "metadata": {},
   "outputs": [
    {
     "data": {
      "text/plain": [
       "{'f_leaf_nodes_depths': [6, 7, 5, 6, 6, 8, 7, 4, 4, 5, 6, 3],\n",
       " 'f_tot_leaf_node_values': [239, 8, 8, 2, 27, 1, 10, 7, 2, 2, 1, 6],\n",
       " 'f_uniq_feature_paths': [array([ 1,  5,  6, 13, 23, 26]),\n",
       "  array([ 1,  5,  6,  9, 13, 23, 26]),\n",
       "  array([ 1,  6, 22, 23, 26]),\n",
       "  array([ 1,  6, 13, 22, 23, 26]),\n",
       "  array([ 1,  3, 23, 26, 27]),\n",
       "  array([ 1,  3, 17, 19, 23, 26, 27]),\n",
       "  array([ 1,  3, 19, 23, 26, 27]),\n",
       "  array([ 3, 18, 23, 26]),\n",
       "  array([ 3,  8, 23, 26]),\n",
       "  array([ 3,  8, 22, 23, 26]),\n",
       "  array([ 3,  4,  8, 22, 23, 26]),\n",
       "  array([22, 23, 26])]}"
      ]
     },
     "execution_count": 52,
     "metadata": {},
     "output_type": "execute_result"
    }
   ],
   "source": [
    "estimator0_out_fltr"
   ]
  },
  {
   "cell_type": "code",
   "execution_count": 53,
   "metadata": {},
   "outputs": [
    {
     "name": "stdout",
     "output_type": "stream",
     "text": [
      "Total Number of classes:\n",
      "22\n",
      "Total Number of 1-value classes:\n",
      "12\n"
     ]
    }
   ],
   "source": [
    "print(\"Total Number of classes\", len(estimator0_out['all_leaf_node_classes']), sep=\":\\n\")\n",
    "print(\"Total Number of 1-value classes\", sum(estimator0_out['all_leaf_node_classes']), sep=\":\\n\")"
   ]
  },
  {
   "cell_type": "code",
   "execution_count": 55,
   "metadata": {},
   "outputs": [
    {
     "name": "stdout",
     "output_type": "stream",
     "text": [
      "Total Number of 1-value classes:\n",
      "12\n"
     ]
    }
   ],
   "source": [
    "print(\"Total Number of 1-value classes\", len(estimator0_out_fltr['f_leaf_nodes_depths']), sep=\":\\n\")"
   ]
  },
  {
   "cell_type": "code",
   "execution_count": null,
   "metadata": {
    "collapsed": true
   },
   "outputs": [],
   "source": []
  }
 ],
 "metadata": {
  "kernelspec": {
   "display_name": "Python 3",
   "language": "python",
   "name": "python3"
  },
  "language_info": {
   "codemirror_mode": {
    "name": "ipython",
    "version": 3
   },
   "file_extension": ".py",
   "mimetype": "text/x-python",
   "name": "python",
   "nbconvert_exporter": "python",
   "pygments_lexer": "ipython3",
   "version": "3.6.1"
  }
 },
 "nbformat": 4,
 "nbformat_minor": 2
}
