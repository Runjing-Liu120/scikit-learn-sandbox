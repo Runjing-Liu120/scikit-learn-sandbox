{
 "cells": [
  {
   "cell_type": "markdown",
   "metadata": {},
   "source": [
    "# Random Forest Performance Benchmarks"
   ]
  },
  {
   "cell_type": "code",
   "execution_count": 8,
   "metadata": {},
   "outputs": [
    {
     "data": {
      "text/plain": [
       "<module 'utils.irf_utils' from '/home/runjing_liu/Documents/iRF/scikit-learn-sandbox/jupyter/utils/irf_utils.py'>"
      ]
     },
     "execution_count": 8,
     "metadata": {},
     "output_type": "execute_result"
    }
   ],
   "source": [
    "import numpy as np\n",
    "import time\n",
    "\n",
    "import matplotlib.pyplot as plt\n",
    "\n",
    "from sklearn import tree\n",
    "from sklearn.model_selection import train_test_split\n",
    "from sklearn.ensemble import RandomForestClassifier\n",
    "from IPython.display import display, Image\n",
    "from sklearn.datasets import load_breast_cancer\n",
    "\n",
    "# Import our custom utilities\n",
    "from imp import reload\n",
    "from utils import irf_jupyter_utils\n",
    "from utils import irf_utils\n",
    "from utils import iRF_benchmarks_lib\n",
    "reload(irf_jupyter_utils)\n",
    "reload(irf_utils)"
   ]
  },
  {
   "cell_type": "markdown",
   "metadata": {},
   "source": [
    "## Load data"
   ]
  },
  {
   "cell_type": "code",
   "execution_count": 9,
   "metadata": {},
   "outputs": [],
   "source": [
    "# load breast cancer data\n",
    "#raw_data = load_breast_cancer()\n",
    "#responses = raw_data.target\n",
    "#features = raw_data.data\n",
    "\n",
    "features = np.loadtxt('data/breast_cancer_features.csv', delimiter=',')\n",
    "responses = np.loadtxt('data/breast_cancer_responses.csv', delimiter=',')"
   ]
  },
  {
   "cell_type": "code",
   "execution_count": 3,
   "metadata": {
    "collapsed": true
   },
   "outputs": [],
   "source": [
    "# load splicing data\n",
    "# assumes Y_X_splicing.txt is in same folder as this notebook\n",
    "data = np.loadtxt('Y_X_splicing.txt', skiprows = 1, usecols = range(1,307))\n",
    "indices_high = data[:,-1] > 0.7\n",
    "indices_low = data[:,-1] < 0.3\n",
    "\n",
    "responses = np.zeros(np.shape(data)[0])\n",
    "responses[indices_high] = 1\n",
    "\n",
    "features = data[:, 0:270]\n",
    "\n",
    "# keep data with high or low responses\n",
    "responses = responses[np.logical_or(indices_high, indices_low)] \n",
    "features = features[np.logical_or(indices_high, indices_low), :] \n"
   ]
  },
  {
   "cell_type": "markdown",
   "metadata": {},
   "source": [
    "## Call function to compute benchmarks"
   ]
  },
  {
   "cell_type": "code",
   "execution_count": 3,
   "metadata": {},
   "outputs": [
    {
     "name": "stdout",
     "output_type": "stream",
     "text": [
      "[10]\n",
      "{'n_trials': [10], 'N_features': [30], 'N_obs': [569], 'train_split_propn': [0.8], 'n_estimators': [20]}\n",
      "{'n_trials': [10], 'N_features': [30], 'N_obs': [569], 'train_split_propn': [0.8], 'n_estimators': [20]}\n"
     ]
    },
    {
     "data": {
      "text/plain": [
       "'\\nn_trials = 10 # number of times to run random forest for our benchmarks\\nn_estimators = 500 # number of trees in the random forest\\ntrain_split_propn = 0.8\\n\\nmetrics_all, metrics_summary, feature_importances =             iRF_benchmarks_lib.RF_benchmarks(features, responses, \\n                                    n_trials = n_trials,\\n                                    train_split_propn = train_split_propn, \\n                                    n_estimators=n_estimators,\\n                                    seed = 2017)\\n'"
      ]
     },
     "execution_count": 3,
     "metadata": {},
     "output_type": "execute_result"
    }
   ],
   "source": [
    "n_trials = 10 # number of times to run random forest for our benchmarks\n",
    "n_estimators = 20 # number of trees in the random forest\n",
    "train_split_propn = 0.8\n",
    "\n",
    "specs = {'n_trials': n_trials,\n",
    "         'n_estimators': n_estimators,\n",
    "         'train_split_propn': train_split_propn, \n",
    "         'N_obs': np.shape(features)[0], # use all data points\n",
    "         'N_features': np.shape(features)[1] # use all features\n",
    "        }\n",
    "\n",
    "rf_bm = iRF_benchmarks_lib.consolidate_bm_RF(features, responses, specs, seed = 2017)\n",
    "\n",
    "print(specs)\n",
    "\n",
    "\n",
    "\n",
    "\"\"\"\n",
    "n_trials = 10 # number of times to run random forest for our benchmarks\n",
    "n_estimators = 500 # number of trees in the random forest\n",
    "train_split_propn = 0.8\n",
    "\n",
    "metrics_all, metrics_summary, feature_importances = \\\n",
    "            iRF_benchmarks_lib.RF_benchmarks(features, responses, \n",
    "                                    n_trials = n_trials,\n",
    "                                    train_split_propn = train_split_propn, \n",
    "                                    n_estimators=n_estimators,\n",
    "                                    seed = 2017)\n",
    "\"\"\"\n"
   ]
  },
  {
   "cell_type": "markdown",
   "metadata": {},
   "source": [
    "## Lets look at the results"
   ]
  },
  {
   "cell_type": "markdown",
   "metadata": {},
   "source": [
    "### Relevant parameters"
   ]
  },
  {
   "cell_type": "code",
   "execution_count": 4,
   "metadata": {},
   "outputs": [
    {
     "name": "stdout",
     "output_type": "stream",
     "text": [
      "Dimensions of full dataset (#samples , # features):  (569, 30)\n",
      "Number of training samples:  455.0\n",
      "Number of test samples:  114.0\n",
      "number of trees in the random forest:  20\n"
     ]
    }
   ],
   "source": [
    "print('Dimensions of full dataset (#samples , # features): ', np.shape(features))\n",
    "print('Number of training samples: ', np.round(np.shape(features)[0] * specs['train_split_propn'][0]))\n",
    "print('Number of test samples: ', np.round(np.shape(features)[0]*(1-specs['train_split_propn'][0])))\n",
    "print('number of trees in the random forest: ', specs['n_estimators'][0])"
   ]
  },
  {
   "cell_type": "markdown",
   "metadata": {},
   "source": [
    "### Timing and some accuracy scores across trials"
   ]
  },
  {
   "cell_type": "code",
   "execution_count": 5,
   "metadata": {},
   "outputs": [
    {
     "name": "stdout",
     "output_type": "stream",
     "text": [
      "time (seconds) to compute RF [mean, std]:  [0.038280487060546875, 0.0068557931241411494]\n",
      "accuracy_score [mean, std]:  [0.95964912280701764, 0.0070175438596491446]\n",
      "hammming_loss [mean, std]:  [0.040350877192982457, 0.0070175438596491221]\n"
     ]
    }
   ],
   "source": [
    "print('time (seconds) to compute RF [mean, std]: ', rf_bm[0]['metrics_summary']['time'])\n",
    "print('accuracy_score [mean, std]: ', rf_bm[0]['metrics_summary']['accuracy_score'])\n",
    "print('hammming_loss [mean, std]: ', rf_bm[0]['metrics_summary']['hamming_loss'])"
   ]
  },
  {
   "cell_type": "markdown",
   "metadata": {},
   "source": [
    "### Lets look the stability of feature importances across trials"
   ]
  },
  {
   "cell_type": "code",
   "execution_count": 6,
   "metadata": {},
   "outputs": [
    {
     "name": "stdout",
     "output_type": "stream",
     "text": [
      "top five feature importances across trials\n",
      "trial0:  [23 22  7 27 20  2  0  6 21 10]\n",
      "trial1:  [27 23 20 22  7  3 26  0 16 13]\n",
      "trial2:  [20 27 23  3 26 22  7 12  6 21]\n",
      "trial3:  [27  7 22 20 23 13  3 26  0 21]\n",
      "trial4:  [27 20 22  6  2 25 13  3 21  5]\n",
      "trial5:  [20 27 23  7 22 25  0 13 10  2]\n",
      "trial6:  [27 22  2 23  3  7  6 26 13 25]\n",
      "trial7:  [20  7 27 22  0 26 13  2 12 21]\n",
      "trial8:  [27 23 20  7 22  0  3  6 25 24]\n",
      "trial9:  [ 7 20 27 23 22  2  3 26 21 13]\n"
     ]
    }
   ],
   "source": [
    "print('top five feature importances across trials')\n",
    "\n",
    "for i in range(n_trials): \n",
    "    # sort by feature importance\n",
    "    importances_rank = np.argsort(rf_bm[0]['feature_importances'][i])[::-1]\n",
    "    print('trial' + str(i) + ': ', importances_rank[0:10])"
   ]
  },
  {
   "cell_type": "markdown",
   "metadata": {},
   "source": [
    "## Lets look at how the RF benchmarks varies as a function of n_estimators"
   ]
  },
  {
   "cell_type": "code",
   "execution_count": 7,
   "metadata": {},
   "outputs": [
    {
     "name": "stdout",
     "output_type": "stream",
     "text": [
      "n_estimators\n",
      "[20, 50, 100, 150, 200, 300, 400, 500]\n",
      "{'n_trials': [10, 10, 10, 10, 10, 10, 10, 10], 'N_features': [30, 30, 30, 30, 30, 30, 30, 30], 'N_obs': [569, 569, 569, 569, 569, 569, 569, 569], 'train_split_propn': [0.8, 0.8, 0.8, 0.8, 0.8, 0.8, 0.8, 0.8], 'n_estimators': [20, 50, 100, 150, 200, 300, 400, 500]}\n"
     ]
    }
   ],
   "source": [
    "n_trials = 10 # number of times to run random forest for our benchmarks\n",
    "n_estimators = [20, 50, 100, 150, 200, 300, 400, 500] # number of trees in the random forest\n",
    "train_split_propn = 0.8\n",
    "\n",
    "specs = {'n_trials': n_trials,\n",
    "         'n_estimators': n_estimators,\n",
    "         'train_split_propn': train_split_propn, \n",
    "         'N_obs': np.shape(features)[0], # use all data points\n",
    "         'N_features': np.shape(features)[1] # use all features\n",
    "        }\n",
    "\n",
    "rf_bm = iRF_benchmarks_lib.consolidate_bm_RF(features, responses, specs, seed = 2017)\n"
   ]
  },
  {
   "cell_type": "code",
   "execution_count": 10,
   "metadata": {},
   "outputs": [
    {
     "data": {
      "image/png": "[encoded data removed]",
      "text/plain": [
       "<matplotlib.figure.Figure at 0x7fbf2b703a90>"
      ]
     },
     "metadata": {},
     "output_type": "display_data"
    },
    {
     "data": {
      "image/png": "[encoded data removed]",
      "text/plain": [
       "<matplotlib.figure.Figure at 0x7fbf2b71beb8>"
      ]
     },
     "metadata": {},
     "output_type": "display_data"
    }
   ],
   "source": [
    "iRF_benchmarks_lib.plot_bm_RF(rf_bm, specs, 'n_estimators', 'time')\n",
    "iRF_benchmarks_lib.plot_bm_RF(rf_bm, specs, 'n_estimators', 'accuracy_score')"
   ]
  },
  {
   "cell_type": "markdown",
   "metadata": {
    "collapsed": true
   },
   "source": [
    "## iRF benchmarks"
   ]
  },
  {
   "cell_type": "markdown",
   "metadata": {},
   "source": [
    "### Call function to compute iRF benchmarks"
   ]
  },
  {
   "cell_type": "code",
   "execution_count": 7,
   "metadata": {},
   "outputs": [],
   "source": [
    "n_trials = 2\n",
    "\n",
    "train_split_propn = 0.8\n",
    "n_estimators = 20\n",
    "n_bootstraps = 20\n",
    "n_RIT = 20\n",
    "max_depth = 5\n",
    "n_estimators_bootstrap = 5\n",
    "\n",
    "iRF_specs = {'n_trials': n_trials, \n",
    "            'n_iter': n_estimators, \n",
    "            'train_split_propn': train_split_propn, \n",
    "            'n_estimators': n_estimators, \n",
    "            'n_bootstraps': n_bootstraps, \n",
    "            'propn_n_samples': 0.2, \n",
    "            'bin_class_type': 1, \n",
    "            'n_RIT': n_RIT,\n",
    "            'max_depth': max_depth, \n",
    "            'noisy_split': False, \n",
    "            'num_splits': 2, \n",
    "            'n_estimators_bootstrap': n_estimators_bootstrap, \n",
    "            'N_obs': np.shape(features)[0], # use all data points\n",
    "            'N_features': np.shape(features)[1] # use all features\n",
    "}\n",
    "\n"
   ]
  },
  {
   "cell_type": "code",
   "execution_count": null,
   "metadata": {},
   "outputs": [
    {
     "name": "stdout",
     "output_type": "stream",
     "text": [
      "[2]\n",
      "{'N_features': [30], 'n_RIT': [20], 'n_trials': [2], 'n_iter': [20], 'train_split_propn': [0.8], 'bin_class_type': [1], 'n_bootstraps': [20], 'propn_n_samples': [0.2], 'max_depth': [5], 'noisy_split': [False], 'N_obs': [569], 'num_splits': [2], 'n_estimators': [20], 'n_estimators_bootstrap': [5]}\n"
     ]
    }
   ],
   "source": [
    "iRF_bm = iRF_benchmarks_lib.consolidate_bm_iRF(features, responses, iRF_specs, seed = None)"
   ]
  },
  {
   "cell_type": "markdown",
   "metadata": {},
   "source": [
    "## Lets look at the results"
   ]
  },
  {
   "cell_type": "markdown",
   "metadata": {},
   "source": [
    "### Relevant parameters"
   ]
  },
  {
   "cell_type": "code",
   "execution_count": 5,
   "metadata": {},
   "outputs": [
    {
     "name": "stdout",
     "output_type": "stream",
     "text": [
      "Dimensions of full dataset (#samples , # features):  (569, 30)\n",
      "Number of training samples:  455.0\n",
      "Number of test samples:  114.0\n",
      "\n",
      "\n",
      "number of trees in full random forest:  20\n",
      "number of bootstrap samples:  20\n",
      "number of trees in RIT:  20\n",
      "max depth of RIT:  5\n",
      "number of trees is RF bootstrap:  5\n"
     ]
    }
   ],
   "source": [
    "print('Dimensions of full dataset (#samples , # features): ', np.shape(features))\n",
    "print('Number of training samples: ', np.round(np.shape(features)[0] * train_split_propn))\n",
    "print('Number of test samples: ', np.round(np.shape(features)[0]*(1-train_split_propn)))\n",
    "\n",
    "print('\\n')\n",
    "\n",
    "print('number of trees in full random forest: ', n_estimators)\n",
    "print('number of bootstrap samples: ', n_bootstraps)\n",
    "print('number of trees in RIT: ', n_RIT)\n",
    "print('max depth of RIT: ', max_depth)\n",
    "print('number of trees is RF bootstrap: ', n_estimators_bootstrap)\n"
   ]
  },
  {
   "cell_type": "markdown",
   "metadata": {},
   "source": [
    "### Timing and some accuracy scores across trials\n",
    "These are metrics on the random forest at iteration K"
   ]
  },
  {
   "cell_type": "code",
   "execution_count": 6,
   "metadata": {},
   "outputs": [
    {
     "name": "stdout",
     "output_type": "stream",
     "text": [
      "time (seconds) to compute iRF [mean, std]:  [4.5889672438303633, 0.20403090285112635]\n",
      "\n",
      "\n",
      "accuracy_score [mean, std]:  [0.95906432748538017, 0.01490941378243504]\n",
      "hammming_loss [mean, std]:  [0.040935672514619881, 0.014909413782435042]\n"
     ]
    }
   ],
   "source": [
    "print('time (seconds) to compute iRF [mean, std]: ', iRF_bm[0]['metrics_summary']['time'])\n",
    "print('\\n')\n",
    "print('accuracy_score [mean, std]: ', iRF_bm[0]['metrics_summary']['accuracy_score'])\n",
    "print('hammming_loss [mean, std]: ', iRF_bm[0]['metrics_summary']['hamming_loss'])"
   ]
  },
  {
   "cell_type": "markdown",
   "metadata": {},
   "source": [
    "### Lets look the stability of feature importances across trials"
   ]
  },
  {
   "cell_type": "markdown",
   "metadata": {},
   "source": [
    "Again, feature importances are measured for the last forest"
   ]
  },
  {
   "cell_type": "code",
   "execution_count": 7,
   "metadata": {},
   "outputs": [
    {
     "name": "stdout",
     "output_type": "stream",
     "text": [
      "top five important features across trials\n",
      "trial0:  [22 27  7 20 23]\n",
      "trial1:  [27 22 23  7 21]\n",
      "trial2:  [22 27  7 20 21]\n"
     ]
    }
   ],
   "source": [
    "print('top five important features across trials')\n",
    "\n",
    "for i in range(n_trials): \n",
    "    importances_rank = np.argsort(iRF_bm[0]['feature_importances'][i])[::-1]\n",
    "    print('trial' + str(i) + ': ', importances_rank[0:5])"
   ]
  },
  {
   "cell_type": "markdown",
   "metadata": {},
   "source": [
    "### Finally, lets examine the discovered interactions across trials "
   ]
  },
  {
   "cell_type": "code",
   "execution_count": 8,
   "metadata": {},
   "outputs": [
    {
     "name": "stdout",
     "output_type": "stream",
     "text": [
      "top five stable interactions across trials\n",
      "trial0:  ['7', '22', '22_27', '27', '20_27']\n",
      "trial1:  ['27', '22', '23', '22_27', '7']\n",
      "trial2:  ['7', '22', '22_27', '7_20', '27']\n"
     ]
    }
   ],
   "source": [
    "print('top five stable interactions across trials')\n",
    "\n",
    "for i in range(n_trials): \n",
    "    \n",
    "    # sort by stability\n",
    "    stability = sorted(iRF_bm[0]['stability_all'][i].values(), reverse=True)\n",
    "    interactions = sorted(iRF_bm[0]['stability_all'][i], key=iRF_bm[0]['stability_all'][i].get, reverse=True)\n",
    "\n",
    "    print('trial' + str(i) + ': ', interactions[0:5])"
   ]
  },
  {
   "cell_type": "markdown",
   "metadata": {},
   "source": [
    "## Lets look at how the RF benchmarks varies as a function of n_estimators"
   ]
  },
  {
   "cell_type": "code",
   "execution_count": null,
   "metadata": {},
   "outputs": [
    {
     "name": "stdout",
     "output_type": "stream",
     "text": [
      "n_estimators\n",
      "[20, 50, 100]\n",
      "{'n_bootstraps': [20, 20, 20], 'N_features': [30, 30, 30], 'n_RIT': [20, 20, 20], 'noisy_split': [False, False, False], 'n_trials': [3, 3, 3], 'n_estimators': [20, 50, 100], 'n_estimators_bootstrap': [5, 5, 5], 'num_splits': [2, 2, 2], 'propn_n_samples': [0.2, 0.2, 0.2], 'max_depth': [5, 5, 5], 'train_split_propn': [0.8, 0.8, 0.8], 'N_obs': [569, 569, 569], 'bin_class_type': [1, 1, 1], 'n_iter': [5, 5, 5]}\n"
     ]
    }
   ],
   "source": [
    "n_trials = 3\n",
    "\n",
    "train_split_propn = 0.8\n",
    "n_estimators = [20, 50, 100]\n",
    "n_bootstraps = 20\n",
    "n_RIT = 20\n",
    "max_depth = 5\n",
    "n_estimators_bootstrap = 5\n",
    "\n",
    "iRF_specs = {'n_trials': n_trials, \n",
    "            'n_iter': 5, \n",
    "            'train_split_propn': train_split_propn, \n",
    "            'n_estimators': n_estimators, \n",
    "            'n_bootstraps': n_bootstraps, \n",
    "            'propn_n_samples': 0.2, \n",
    "            'bin_class_type': 1, \n",
    "            'n_RIT': n_RIT,\n",
    "            'max_depth': max_depth, \n",
    "            'noisy_split': False, \n",
    "            'num_splits': 2, \n",
    "            'n_estimators_bootstrap': n_estimators_bootstrap, \n",
    "            'N_obs': np.shape(features)[0], # use all data points\n",
    "            'N_features': np.shape(features)[1] # use all features\n",
    "}\n",
    "\n",
    "iRF_bm = iRF_benchmarks_lib.consolidate_bm_iRF(features, responses, iRF_specs, seed = 2018)\n",
    "\n"
   ]
  },
  {
   "cell_type": "code",
   "execution_count": null,
   "metadata": {
    "collapsed": true
   },
   "outputs": [],
   "source": [
    "plot_bm(iRF_bm, specs, 'n_estimators', 'time')"
   ]
  },
  {
   "cell_type": "code",
   "execution_count": null,
   "metadata": {
    "collapsed": true
   },
   "outputs": [],
   "source": []
  }
 ],
 "metadata": {
  "kernelspec": {
   "display_name": "Python 3",
   "language": "python",
   "name": "python3"
  },
  "language_info": {
   "codemirror_mode": {
    "name": "ipython",
    "version": 3
   },
   "file_extension": ".py",
   "mimetype": "text/x-python",
   "name": "python",
   "nbconvert_exporter": "python",
   "pygments_lexer": "ipython3",
   "version": "3.5.3"
  }
 },
 "nbformat": 4,
 "nbformat_minor": 2
}
