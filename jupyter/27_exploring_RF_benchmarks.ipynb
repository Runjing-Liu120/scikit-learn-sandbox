{
 "cells": [
  {
   "cell_type": "markdown",
   "metadata": {},
   "source": [
    "# Random Forest Performance Benchmarks"
   ]
  },
  {
   "cell_type": "code",
   "execution_count": 38,
   "metadata": {
    "collapsed": false
   },
   "outputs": [
    {
     "data": {
      "text/plain": [
       "<module 'utils.irf_utils' from '/home/runjing_liu/Documents/iRF/scikit-learn-sandbox/jupyter/utils/irf_utils.py'>"
      ]
     },
     "execution_count": 38,
     "metadata": {},
     "output_type": "execute_result"
    }
   ],
   "source": [
    "import numpy as np\n",
    "import time\n",
    "\n",
    "import matplotlib.pyplot as plt\n",
    "\n",
    "from sklearn import tree\n",
    "from sklearn.model_selection import train_test_split\n",
    "from sklearn.ensemble import RandomForestClassifier\n",
    "from IPython.display import display, Image\n",
    "from sklearn.datasets import load_breast_cancer\n",
    "\n",
    "# Import our custom utilities\n",
    "from imp import reload\n",
    "from utils import irf_jupyter_utils\n",
    "from utils import irf_utils\n",
    "reload(irf_jupyter_utils)\n",
    "reload(irf_utils)"
   ]
  },
  {
   "cell_type": "markdown",
   "metadata": {},
   "source": [
    "## Load data"
   ]
  },
  {
   "cell_type": "code",
   "execution_count": 39,
   "metadata": {
    "collapsed": false
   },
   "outputs": [
    {
     "name": "stdout",
     "output_type": "stream",
     "text": [
      "Dimensions of full dataset (#samples , # features):  (569, 30)\n",
      "Number of training samples:  512\n",
      "Number of test samples:  57\n"
     ]
    }
   ],
   "source": [
    "raw_data = load_breast_cancer()\n",
    "print('Dimensions of full dataset (#samples , # features): ', np.shape(raw_data.data))\n",
    "\n",
    "train_split_propn=0.9\n",
    "random_state_split=2017\n",
    "\n",
    "# split into testing and training\n",
    "X_train, X_test, y_train, y_test = train_test_split(\n",
    "    raw_data.data, raw_data.target, train_size=train_split_propn,\n",
    "    random_state=random_state_split)\n",
    "\n",
    "print('Number of training samples: ', np.shape(X_train)[0])\n",
    "print('Number of test samples: ', np.shape(X_test)[0])"
   ]
  },
  {
   "cell_type": "markdown",
   "metadata": {},
   "source": [
    "## Random Forest benchmarks"
   ]
  },
  {
   "cell_type": "code",
   "execution_count": 40,
   "metadata": {
    "collapsed": false
   },
   "outputs": [
    {
     "name": "stdout",
     "output_type": "stream",
     "text": [
      "number of trees:  20\n",
      "time to fit rf: 0.05508875846862793 (seconds)\n",
      "accuracy:  0.964912280702\n"
     ]
    }
   ],
   "source": [
    "n_estimators = 20 # number of trees\n",
    "\n",
    "t0 = time.time()\n",
    "rf = RandomForestClassifier(n_estimators=n_estimators, random_state=2018)\n",
    "rf.fit(X=X_train, y=y_train)\n",
    "t_rf = time.time() - t0\n",
    "\n",
    "print('number of trees: ', n_estimators)\n",
    "print('time to fit rf:', t_rf, '(seconds)')\n",
    "\n",
    "print('accuracy: ', rf.score(X_test, y_test))"
   ]
  },
  {
   "cell_type": "code",
   "execution_count": 41,
   "metadata": {
    "collapsed": false
   },
   "outputs": [
    {
     "data": {
      "image/png": "[encoded data removed]",
      "text/plain": [
       "<matplotlib.figure.Figure at 0x7fdaf2674588>"
      ]
     },
     "metadata": {},
     "output_type": "display_data"
    }
   ],
   "source": [
    "importances = rf.feature_importances_\n",
    "importances_rank = np.argsort(importances)[::-1]\n",
    "\n",
    "plt.figure(figsize=(8, 6))\n",
    "plt.bar(range(X_train.shape[1])\n",
    "        , importances[importances_rank])\n",
    "plt.xticks(range(X_train.shape[1]), importances_rank)\n",
    "plt.xlim([-1, X_train.shape[1]])\n",
    "plt.show()"
   ]
  },
  {
   "cell_type": "markdown",
   "metadata": {
    "collapsed": true
   },
   "source": [
    "## iRF benchmarks"
   ]
  },
  {
   "cell_type": "code",
   "execution_count": 17,
   "metadata": {
    "collapsed": false
   },
   "outputs": [
    {
     "name": "stdout",
     "output_type": "stream",
     "text": [
      "time to fit iRF: 3.5029456615448 (seconds)\n"
     ]
    },
    {
     "data": {
      "image/png": "[encoded data removed]",
      "text/plain": [
       "<matplotlib.figure.Figure at 0x7fdaf5dc3c50>"
      ]
     },
     "metadata": {},
     "output_type": "display_data"
    }
   ],
   "source": [
    "t0 = time.time()\n",
    "\n",
    "all_rf_weights, all_K_iter_rf_data, \\\n",
    "all_rf_bootstrap_output, all_rit_bootstrap_output, \\\n",
    "stability_score = irf_utils.run_iRF(X_train=X_train,\n",
    "                                    X_test=X_test,\n",
    "                                    y_train=y_train,\n",
    "                                    y_test=y_test,\n",
    "                                    K=5,\n",
    "                                    n_estimators=20,\n",
    "                                    B=30,\n",
    "                                    random_state_classifier=2018,\n",
    "                                    propn_n_samples=.2,\n",
    "                                    bin_class_type=1,\n",
    "                                    M=20,\n",
    "                                    max_depth=5,\n",
    "                                    noisy_split=False,\n",
    "                                    num_splits=2,\n",
    "                                    n_estimators_bootstrap=5)\n",
    "t_iRF = time.time() - t0\n",
    "print('time to fit iRF:', t_iRF, '(seconds)')\n",
    "\n",
    "\"\"\"print('iterations: ', K)\n",
    "print('number of bootstrap samples: ', B)\n",
    "print('proportion of samples for bootstrap: ', propn_n_samples)\n",
    "\n",
    "print('number of trees in RIT: ', M)\n",
    "print('depth of RIT: ', max_depth)\n",
    "print('num_splits: ', num_splits)\n",
    "\n",
    "print('number of trees on full data: ', n_estimators)\n",
    "print('number of trees on bootstrap data: ', n_estimators_bootstrap)\n",
    "\"\"\"\n",
    "\n",
    "# plot stability scores\n",
    "irf_utils._get_histogram(stability_score, sort = True)"
   ]
  },
  {
   "cell_type": "code",
   "execution_count": null,
   "metadata": {
    "collapsed": true
   },
   "outputs": [],
   "source": []
  }
 ],
 "metadata": {
  "kernelspec": {
   "display_name": "Python 3",
   "language": "python",
   "name": "python3"
  },
  "language_info": {
   "codemirror_mode": {
    "name": "ipython",
    "version": 3
   },
   "file_extension": ".py",
   "mimetype": "text/x-python",
   "name": "python",
   "nbconvert_exporter": "python",
   "pygments_lexer": "ipython3",
   "version": "3.6.0"
  }
 },
 "nbformat": 4,
 "nbformat_minor": 2
}
