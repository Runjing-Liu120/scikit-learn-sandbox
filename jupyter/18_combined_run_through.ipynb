{
 "cells": [
  {
   "cell_type": "markdown",
   "metadata": {},
   "source": [
    "## Key Requirements for the iRF scikit-learn implementation\n",
    "\n",
    "* The following is a documentation of the main requirements for the iRF implementation"
   ]
  },
  {
   "cell_type": "markdown",
   "metadata": {},
   "source": [
    "## Typical Setup\n"
   ]
  },
  {
   "cell_type": "markdown",
   "metadata": {},
   "source": [
    "### Import the required dependencies\n",
    "\n",
    "* In particular `irf_utils` and `irf_jupyter_utils`"
   ]
  },
  {
   "cell_type": "code",
   "execution_count": 136,
   "metadata": {},
   "outputs": [
    {
     "data": {
      "text/plain": [
       "<module 'utils.irf_utils' from '/Users/shamindras/PERSONAL/LEARNING/REPOS/scikit-learn-sandbox/jupyter/utils/irf_utils.py'>"
      ]
     },
     "execution_count": 136,
     "metadata": {},
     "output_type": "execute_result"
    }
   ],
   "source": [
    "%matplotlib inline\n",
    "import matplotlib.pyplot as plt\n",
    "\n",
    "from sklearn.datasets import load_breast_cancer\n",
    "import numpy as np\n",
    "from functools import reduce\n",
    "\n",
    "# Import our custom utilities\n",
    "from imp import reload\n",
    "from utils import irf_jupyter_utils\n",
    "from utils import irf_utils\n",
    "reload(irf_jupyter_utils)\n",
    "reload(irf_utils)"
   ]
  },
  {
   "cell_type": "markdown",
   "metadata": {},
   "source": [
    "## Step 1: Fit the Initial Random Forest\n",
    "\n",
    "* Just fit every feature with equal weights per the usual random forest code e.g. DecisionForestClassifier in scikit-learn"
   ]
  },
  {
   "cell_type": "code",
   "execution_count": 74,
   "metadata": {
    "collapsed": true
   },
   "outputs": [],
   "source": [
    "X_train, X_test, y_train, y_test, rf = irf_jupyter_utils.generate_rf_example(\n",
    "    sklearn_ds=load_breast_cancer(), n_estimators=10)"
   ]
  },
  {
   "cell_type": "markdown",
   "metadata": {},
   "source": [
    "## Check out the data"
   ]
  },
  {
   "cell_type": "code",
   "execution_count": 75,
   "metadata": {},
   "outputs": [
    {
     "name": "stdout",
     "output_type": "stream",
     "text": [
      "Training feature dimensions:\n",
      "(512, 30)\n",
      "\n",
      "\n",
      "Training outcome dimensions:\n",
      "(512,)\n",
      "\n",
      "\n",
      "Test feature dimensions:\n",
      "(57, 30)\n",
      "\n",
      "\n",
      "Test outcome dimensions:\n",
      "(57,)\n",
      "\n",
      "\n",
      "first 5 rows of the training set features:\n",
      "[[  1.98900000e+01   2.02600000e+01   1.30500000e+02   1.21400000e+03\n",
      "    1.03700000e-01   1.31000000e-01   1.41100000e-01   9.43100000e-02\n",
      "    1.80200000e-01   6.18800000e-02   5.07900000e-01   8.73700000e-01\n",
      "    3.65400000e+00   5.97000000e+01   5.08900000e-03   2.30300000e-02\n",
      "    3.05200000e-02   1.17800000e-02   1.05700000e-02   3.39100000e-03\n",
      "    2.37300000e+01   2.52300000e+01   1.60500000e+02   1.64600000e+03\n",
      "    1.41700000e-01   3.30900000e-01   4.18500000e-01   1.61300000e-01\n",
      "    2.54900000e-01   9.13600000e-02]\n",
      " [  2.01800000e+01   1.95400000e+01   1.33800000e+02   1.25000000e+03\n",
      "    1.13300000e-01   1.48900000e-01   2.13300000e-01   1.25900000e-01\n",
      "    1.72400000e-01   6.05300000e-02   4.33100000e-01   1.00100000e+00\n",
      "    3.00800000e+00   5.24900000e+01   9.08700000e-03   2.71500000e-02\n",
      "    5.54600000e-02   1.91000000e-02   2.45100000e-02   4.00500000e-03\n",
      "    2.20300000e+01   2.50700000e+01   1.46000000e+02   1.47900000e+03\n",
      "    1.66500000e-01   2.94200000e-01   5.30800000e-01   2.17300000e-01\n",
      "    3.03200000e-01   8.07500000e-02]\n",
      " [  1.44000000e+01   2.69900000e+01   9.22500000e+01   6.46100000e+02\n",
      "    6.99500000e-02   5.22300000e-02   3.47600000e-02   1.73700000e-02\n",
      "    1.70700000e-01   5.43300000e-02   2.31500000e-01   9.11200000e-01\n",
      "    1.72700000e+00   2.05200000e+01   5.35600000e-03   1.67900000e-02\n",
      "    1.97100000e-02   6.37000000e-03   1.41400000e-02   1.89200000e-03\n",
      "    1.54000000e+01   3.19800000e+01   1.00400000e+02   7.34600000e+02\n",
      "    1.01700000e-01   1.46000000e-01   1.47200000e-01   5.56300000e-02\n",
      "    2.34500000e-01   6.46400000e-02]\n",
      " [  1.44700000e+01   2.49900000e+01   9.58100000e+01   6.56400000e+02\n",
      "    8.83700000e-02   1.23000000e-01   1.00900000e-01   3.89000000e-02\n",
      "    1.87200000e-01   6.34100000e-02   2.54200000e-01   1.07900000e+00\n",
      "    2.61500000e+00   2.31100000e+01   7.13800000e-03   4.65300000e-02\n",
      "    3.82900000e-02   1.16200000e-02   2.06800000e-02   6.11100000e-03\n",
      "    1.62200000e+01   3.17300000e+01   1.13500000e+02   8.08900000e+02\n",
      "    1.34000000e-01   4.20200000e-01   4.04000000e-01   1.20500000e-01\n",
      "    3.18700000e-01   1.02300000e-01]\n",
      " [  2.05500000e+01   2.08600000e+01   1.37800000e+02   1.30800000e+03\n",
      "    1.04600000e-01   1.73900000e-01   2.08500000e-01   1.32200000e-01\n",
      "    2.12700000e-01   6.25100000e-02   6.98600000e-01   9.90100000e-01\n",
      "    4.70600000e+00   8.77800000e+01   4.57800000e-03   2.61600000e-02\n",
      "    4.00500000e-02   1.42100000e-02   1.94800000e-02   2.68900000e-03\n",
      "    2.43000000e+01   2.54800000e+01   1.60200000e+02   1.80900000e+03\n",
      "    1.26800000e-01   3.13500000e-01   4.43300000e-01   2.14800000e-01\n",
      "    3.07700000e-01   7.56900000e-02]]\n",
      "\n",
      "\n",
      "first 5 rows of the training set outcomes:\n",
      "[0 0 1 1 0]\n"
     ]
    }
   ],
   "source": [
    "print(\"Training feature dimensions\", X_train.shape, sep = \":\\n\")\n",
    "print(\"\\n\")\n",
    "print(\"Training outcome dimensions\", y_train.shape, sep = \":\\n\")\n",
    "print(\"\\n\")\n",
    "print(\"Test feature dimensions\", X_test.shape, sep = \":\\n\")\n",
    "print(\"\\n\")\n",
    "print(\"Test outcome dimensions\", y_test.shape, sep = \":\\n\")\n",
    "print(\"\\n\")\n",
    "print(\"first 5 rows of the training set features\", X_train[:5], sep = \":\\n\")\n",
    "print(\"\\n\")\n",
    "print(\"first 5 rows of the training set outcomes\", y_train[:5], sep = \":\\n\")"
   ]
  },
  {
   "cell_type": "markdown",
   "metadata": {},
   "source": [
    "## Step 2: Get all Random Forest and Decision Tree Data\n",
    "\n",
    "* Extract in a single dictionary the random forest data and for all of it's decision trees\n",
    "* This is as required for RIT purposes"
   ]
  },
  {
   "cell_type": "code",
   "execution_count": 79,
   "metadata": {},
   "outputs": [],
   "source": [
    "all_rf_tree_data = irf_utils.get_rf_tree_data(rf=rf,\n",
    "                                              X_train=X_train, y_train=y_train, \n",
    "                                              X_test=X_test, y_test=y_test)"
   ]
  },
  {
   "cell_type": "markdown",
   "metadata": {},
   "source": [
    "## STEP 3: Get the RIT data and produce RITs"
   ]
  },
  {
   "cell_type": "code",
   "execution_count": 149,
   "metadata": {
    "collapsed": true
   },
   "outputs": [],
   "source": [
    "np.random.seed(12)\n",
    "g = irf_utils.generate_rit_samples(all_rf_tree_data=all_rf_tree_data, bin_class_type=1)"
   ]
  },
  {
   "cell_type": "code",
   "execution_count": 150,
   "metadata": {},
   "outputs": [
    {
     "name": "stdout",
     "output_type": "stream",
     "text": [
      "[ 0 10 20 24 27]\n",
      "[ 1  6 13 22 23 24]\n",
      "[ 7 13 23 26 28]\n",
      "[ 7 23 28]\n",
      "[ 1  5  6 13 23 26]\n",
      "[ 6  9 10 20 22 27 29]\n",
      "[ 4  6  9 10 20 25 27]\n",
      "[ 1  5  6 13 23 26]\n",
      "[ 6  9 10 20 22 27 29]\n",
      "[ 0 10 20 24 27]\n"
     ]
    }
   ],
   "source": [
    "for i in range(10):\n",
    "    print(next(g))"
   ]
  },
  {
   "cell_type": "markdown",
   "metadata": {},
   "source": [
    "# Step 4: Plot some Data"
   ]
  },
  {
   "cell_type": "markdown",
   "metadata": {},
   "source": [
    "### List Ranked Feature Importances"
   ]
  },
  {
   "cell_type": "code",
   "execution_count": 78,
   "metadata": {},
   "outputs": [
    {
     "name": "stdout",
     "output_type": "stream",
     "text": [
      "Feature ranking:\n",
      "1. feature 20 (0.294270)\n",
      "2. feature 23 (0.246163)\n",
      "3. feature 22 (0.095275)\n",
      "4. feature 7 (0.088542)\n",
      "5. feature 6 (0.068028)\n",
      "6. feature 26 (0.034007)\n",
      "7. feature 27 (0.024631)\n",
      "8. feature 24 (0.020245)\n",
      "9. feature 0 (0.015324)\n",
      "10. feature 28 (0.015231)\n",
      "11. feature 13 (0.013823)\n",
      "12. feature 3 (0.009706)\n",
      "13. feature 1 (0.008211)\n",
      "14. feature 4 (0.007102)\n",
      "15. feature 29 (0.006801)\n",
      "16. feature 25 (0.006115)\n",
      "17. feature 9 (0.005294)\n",
      "18. feature 2 (0.005136)\n",
      "19. feature 10 (0.004665)\n",
      "20. feature 17 (0.004292)\n",
      "21. feature 19 (0.003996)\n",
      "22. feature 12 (0.003848)\n",
      "23. feature 21 (0.003743)\n",
      "24. feature 15 (0.003576)\n",
      "25. feature 5 (0.002950)\n",
      "26. feature 14 (0.002440)\n",
      "27. feature 18 (0.001854)\n",
      "28. feature 16 (0.001778)\n",
      "29. feature 8 (0.001585)\n",
      "30. feature 11 (0.001370)\n"
     ]
    }
   ],
   "source": [
    "# Print the feature ranking\n",
    "print(\"Feature ranking:\")\n",
    "\n",
    "feature_importances_rank_idx = all_rf_outputs['feature_importances_rank_idx']\n",
    "feature_importances = all_rf_outputs['feature_importances']\n",
    "\n",
    "for f in range(X_train.shape[1]):\n",
    "    print(\"%d. feature %d (%f)\" % (f + 1\n",
    "                                   , feature_importances_rank_idx[f]\n",
    "                                   , feature_importances[feature_importances_rank_idx[f]]))"
   ]
  },
  {
   "cell_type": "markdown",
   "metadata": {},
   "source": [
    "### Plot Ranked Feature Importances"
   ]
  },
  {
   "cell_type": "code",
   "execution_count": 39,
   "metadata": {},
   "outputs": [
    {
     "data": {
      "image/png": "[encoded data removed]",
      "text/plain": [
       "<matplotlib.figure.Figure at 0x11cca9ba8>"
      ]
     },
     "metadata": {},
     "output_type": "display_data"
    }
   ],
   "source": [
    "# Plot the feature importances of the forest\n",
    "plt.figure()\n",
    "plt.title(\"Feature importances\")\n",
    "plt.bar(range(X_train.shape[1])\n",
    "        , feature_importances[feature_importances_rank_idx]\n",
    "        , color=\"r\"\n",
    "        , yerr = std[feature_importances_rank_idx], align=\"center\")\n",
    "plt.xticks(range(X_train.shape[1]), feature_importances_rank_idx)\n",
    "plt.xlim([-1, X_train.shape[1]])\n",
    "plt.show()"
   ]
  },
  {
   "cell_type": "markdown",
   "metadata": {},
   "source": [
    "## Decision Tree 0 (First) - Get output"
   ]
  },
  {
   "cell_type": "markdown",
   "metadata": {},
   "source": [
    "### Check the output against the decision tree graph"
   ]
  },
  {
   "cell_type": "code",
   "execution_count": 86,
   "metadata": {},
   "outputs": [],
   "source": [
    "# Now plot the trees individually\n",
    "#irf_jupyter_utils.draw_tree(decision_tree = all_rf_tree_data['rf_obj'].estimators_[0])"
   ]
  },
  {
   "cell_type": "code",
   "execution_count": 87,
   "metadata": {},
   "outputs": [],
   "source": [
    "#irf_jupyter_utils.pretty_print_dict(inp_dict = all_rf_tree_data['dtree0'])"
   ]
  },
  {
   "cell_type": "code",
   "execution_count": 89,
   "metadata": {
    "code_folding": []
   },
   "outputs": [
    {
     "data": {
      "text/plain": [
       "512"
      ]
     },
     "execution_count": 89,
     "metadata": {},
     "output_type": "execute_result"
    }
   ],
   "source": [
    "# Count the number of samples passing through the leaf nodes\n",
    "sum(all_rf_tree_data['dtree0']['tot_leaf_node_values'])"
   ]
  },
  {
   "cell_type": "markdown",
   "metadata": {},
   "source": [
    "## Get the leaf node 1's paths\n",
    "Get the unique feature paths where the leaf node predicted class is just 1"
   ]
  },
  {
   "cell_type": "code",
   "execution_count": 164,
   "metadata": {},
   "outputs": [
    {
     "data": {
      "text/plain": [
       "[array([ 1,  5,  6, 13, 23, 26]),\n",
       " array([ 1,  5,  6,  9, 13, 23, 26]),\n",
       " array([ 1,  6, 22, 23, 26]),\n",
       " array([ 1,  6, 13, 22, 23, 26]),\n",
       " array([ 1,  3, 23, 26, 27]),\n",
       " array([ 1,  3, 17, 19, 23, 26, 27]),\n",
       " array([ 1,  3, 19, 23, 26, 27]),\n",
       " array([ 3, 18, 23, 26]),\n",
       " array([ 3,  8, 23, 26]),\n",
       " array([ 3,  8, 22, 23, 26]),\n",
       " array([ 3,  4,  8, 22, 23, 26]),\n",
       " array([22, 23, 26])]"
      ]
     },
     "execution_count": 164,
     "metadata": {},
     "output_type": "execute_result"
    }
   ],
   "source": [
    "uniq_feature_paths = all_rf_outputs['dtree0']['all_uniq_leaf_paths_features']\n",
    "leaf_node_classes  = all_rf_outputs['dtree0']['all_leaf_node_classes']\n",
    "ones_only = [i for i, j in zip(uniq_feature_paths, leaf_node_classes) \n",
    "               if j == 1]\n",
    "ones_only"
   ]
  },
  {
   "cell_type": "code",
   "execution_count": 165,
   "metadata": {},
   "outputs": [
    {
     "name": "stdout",
     "output_type": "stream",
     "text": [
      "Number of leaf nodes:\n",
      "22\n",
      "Number of leaf nodes with 1 class:\n",
      "12\n"
     ]
    }
   ],
   "source": [
    "print(\"Number of leaf nodes\", len(all_rf_outputs['dtree0']['all_uniq_leaf_paths_features']), sep = \":\\n\")\n",
    "print(\"Number of leaf nodes with 1 class\", len(ones_only), sep = \":\\n\")"
   ]
  },
  {
   "cell_type": "code",
   "execution_count": 166,
   "metadata": {},
   "outputs": [
    {
     "data": {
      "text/plain": [
       "[array([ 1,  3, 17, 19, 23, 26, 27]),\n",
       " array([ 1,  3, 19, 23, 26, 27]),\n",
       " array([ 3, 18, 23, 26]),\n",
       " array([ 3,  8, 23, 26]),\n",
       " array([ 3,  8, 22, 23, 26]),\n",
       " array([ 3,  4,  8, 22, 23, 26]),\n",
       " array([22, 23, 26])]"
      ]
     },
     "execution_count": 166,
     "metadata": {},
     "output_type": "execute_result"
    }
   ],
   "source": [
    "# Just pick the last seven cases, we are going to manually construct\n",
    "# binary RIT of depth 3 i.e. max 2**3 -1 = 7 intersecting nodes\n",
    "ones_only_seven = ones_only[-7:]\n",
    "ones_only_seven"
   ]
  },
  {
   "cell_type": "code",
   "execution_count": 167,
   "metadata": {},
   "outputs": [
    {
     "name": "stdout",
     "output_type": "stream",
     "text": [
      "node0 [22 23 26]\n",
      "node1 [22 23 26]\n",
      "node2 [22 23 26]\n",
      "node3 [23 26]\n",
      "node4 [23 26]\n",
      "node5 [23 26]\n",
      "node6 [23 26]\n"
     ]
    }
   ],
   "source": [
    "# Construct a binary version of the RIT manually!\n",
    "# This should come in useful for unit tests!\n",
    "node0 = ones_only_seven[-1]\n",
    "node1 = np.intersect1d(node0, ones_only_seven[-2])\n",
    "node2 = np.intersect1d(node1, ones_only_seven[-3])\n",
    "node3 = np.intersect1d(node1, ones_only_seven[-4])\n",
    "node4 = np.intersect1d(node0, ones_only_seven[-5])\n",
    "node5 = np.intersect1d(node4, ones_only_seven[-6])\n",
    "node6 = np.intersect1d(node4, ones_only_seven[-7])\n",
    "\n",
    "intersected_nodes_seven = [node0, node1, node2, node3, node4, node5, node6]\n",
    "\n",
    "for idx, node in enumerate(intersected_nodes_seven):\n",
    "    print(\"node\" + str(idx), node)"
   ]
  },
  {
   "cell_type": "code",
   "execution_count": 168,
   "metadata": {},
   "outputs": [
    {
     "data": {
      "text/plain": [
       "array([22, 23, 26])"
      ]
     },
     "execution_count": 168,
     "metadata": {},
     "output_type": "execute_result"
    }
   ],
   "source": [
    "rit_output = reduce(np.union1d, (node2, node3, node5, node6))\n",
    "rit_output"
   ]
  },
  {
   "cell_type": "code",
   "execution_count": 90,
   "metadata": {},
   "outputs": [
    {
     "data": {
      "text/plain": [
       "<generator object select_random_path at 0x11ce43048>"
      ]
     },
     "execution_count": 90,
     "metadata": {},
     "output_type": "execute_result"
    }
   ],
   "source": [
    "irf_utils.select_random_path()"
   ]
  },
  {
   "cell_type": "code",
   "execution_count": 172,
   "metadata": {
    "collapsed": true
   },
   "outputs": [],
   "source": [
    "np.random.seed(12)\n",
    "tree = irf_utils.build_tree(feature_paths=irf_utils.select_random_path(), \n",
    "                            max_depth=3, \n",
    "                            noisy_split=False, \n",
    "                            num_splits=5)"
   ]
  },
  {
   "cell_type": "code",
   "execution_count": 173,
   "metadata": {},
   "outputs": [
    {
     "name": "stdout",
     "output_type": "stream",
     "text": [
      "Root:\n",
      " [ 0  1  4  5  6  8 12 13 14 16 17 19 23 24 25 30 31 33 34 35 37 39 40 41 42\n",
      " 43 44 45 46 49 52 53 54 55 56 57 58 59 60 61 62 63 64 65 66 67 68 71 72 73\n",
      " 74 76 78 79 80 83 84 85 86 87 89 90 92 93 96 97 99]\n"
     ]
    }
   ],
   "source": [
    "print(\"Root:\\n\", tree._val)\n",
    "#print(\"Some child:\\n\", tree.children[0].children[1]._val)"
   ]
  },
  {
   "cell_type": "code",
   "execution_count": 174,
   "metadata": {
    "collapsed": true
   },
   "outputs": [],
   "source": [
    "# If noisy split is False, this should pass\n",
    "assert(len(tree) == 1 + 5 + 5**2)"
   ]
  },
  {
   "cell_type": "code",
   "execution_count": 175,
   "metadata": {},
   "outputs": [
    {
     "data": {
      "text/plain": [
       "[(0, <utils.irf_utils.RITTree at 0x10e5e2908>),\n",
       " (1, <utils.irf_utils.RITNode at 0x10e5e2be0>),\n",
       " (2, <utils.irf_utils.RITNode at 0x110b43940>),\n",
       " (3, <utils.irf_utils.RITNode at 0x10e5e2fd0>),\n",
       " (4, <utils.irf_utils.RITNode at 0x10e6343c8>),\n",
       " (5, <utils.irf_utils.RITNode at 0x10e5e2f28>),\n",
       " (6, <utils.irf_utils.RITNode at 0x10e5e2c88>),\n",
       " (7, <utils.irf_utils.RITNode at 0x10e5e2f98>),\n",
       " (8, <utils.irf_utils.RITNode at 0x10e5e2e10>),\n",
       " (9, <utils.irf_utils.RITNode at 0x10e5e2f60>),\n",
       " (10, <utils.irf_utils.RITNode at 0x10e5e2c18>),\n",
       " (11, <utils.irf_utils.RITNode at 0x10e5e28d0>),\n",
       " (12, <utils.irf_utils.RITNode at 0x10e5e2e80>),\n",
       " (13, <utils.irf_utils.RITNode at 0x10e5e2d68>),\n",
       " (14, <utils.irf_utils.RITNode at 0x10e5e2940>),\n",
       " (15, <utils.irf_utils.RITNode at 0x10e5e2c50>),\n",
       " (16, <utils.irf_utils.RITNode at 0x10e5e2b70>),\n",
       " (17, <utils.irf_utils.RITNode at 0x10e5e2ba8>),\n",
       " (18, <utils.irf_utils.RITNode at 0x10e5e2ac8>),\n",
       " (19, <utils.irf_utils.RITNode at 0x10e5e2b38>),\n",
       " (20, <utils.irf_utils.RITNode at 0x10e5e2a90>),\n",
       " (21, <utils.irf_utils.RITNode at 0x10e5e27b8>),\n",
       " (22, <utils.irf_utils.RITNode at 0x10e5e26a0>),\n",
       " (23, <utils.irf_utils.RITNode at 0x10e5e2898>),\n",
       " (24, <utils.irf_utils.RITNode at 0x10e5e2cf8>),\n",
       " (25, <utils.irf_utils.RITNode at 0x10e5e2cc0>),\n",
       " (26, <utils.irf_utils.RITNode at 0x10e5e29b0>),\n",
       " (27, <utils.irf_utils.RITNode at 0x10e5e2ef0>),\n",
       " (28, <utils.irf_utils.RITNode at 0x10e5e2e48>),\n",
       " (29, <utils.irf_utils.RITNode at 0x10e5e2dd8>),\n",
       " (30, <utils.irf_utils.RITNode at 0x10e5e2d30>)]"
      ]
     },
     "execution_count": 175,
     "metadata": {},
     "output_type": "execute_result"
    }
   ],
   "source": [
    "list(tree.traverse_depth_first())"
   ]
  },
  {
   "cell_type": "code",
   "execution_count": 176,
   "metadata": {},
   "outputs": [
    {
     "data": {
      "text/plain": [
       "{'leaf_nodes_depths': [6, 7, 5, 6, 6, 8, 7, 4, 4, 5, 6, 3],\n",
       " 'tot_leaf_node_values': [239, 8, 8, 2, 27, 1, 10, 7, 2, 2, 1, 6],\n",
       " 'uniq_feature_paths': [array([ 1,  5,  6, 13, 23, 26]),\n",
       "  array([ 1,  5,  6,  9, 13, 23, 26]),\n",
       "  array([ 1,  6, 22, 23, 26]),\n",
       "  array([ 1,  6, 13, 22, 23, 26]),\n",
       "  array([ 1,  3, 23, 26, 27]),\n",
       "  array([ 1,  3, 17, 19, 23, 26, 27]),\n",
       "  array([ 1,  3, 19, 23, 26, 27]),\n",
       "  array([ 3, 18, 23, 26]),\n",
       "  array([ 3,  8, 23, 26]),\n",
       "  array([ 3,  8, 22, 23, 26]),\n",
       "  array([ 3,  4,  8, 22, 23, 26]),\n",
       "  array([22, 23, 26])],\n",
       " 'validation_metrics': {'accuracy_score': 0.91228070175438591,\n",
       "  'confusion_matrix': array([[10,  4],\n",
       "         [ 1, 42]]),\n",
       "  'f1_score': 0.9438202247191011,\n",
       "  'hamming_loss': 0.08771929824561403,\n",
       "  'log_loss': 3.0297733397241098,\n",
       "  'precision_score': 0.91304347826086951,\n",
       "  'recall_score': 0.97674418604651159,\n",
       "  'zero_one_loss': 0.087719298245614086}}"
      ]
     },
     "execution_count": 176,
     "metadata": {},
     "output_type": "execute_result"
    }
   ],
   "source": [
    "estimator0_out_fltr = irf_utils.filter_leaves_classifier(dtree_data=estimator0_out,bin_class_type=1)\n",
    "estimator0_out_fltr"
   ]
  },
  {
   "cell_type": "code",
   "execution_count": 177,
   "metadata": {},
   "outputs": [
    {
     "name": "stdout",
     "output_type": "stream",
     "text": [
      "Total Number of classes:\n",
      "22\n",
      "Total Number of 1-value classes:\n",
      "12\n"
     ]
    }
   ],
   "source": [
    "print(\"Total Number of classes\", len(estimator0_out['all_leaf_node_classes']), sep=\":\\n\")\n",
    "print(\"Total Number of 1-value classes\", sum(estimator0_out['all_leaf_node_classes']), sep=\":\\n\")"
   ]
  },
  {
   "cell_type": "code",
   "execution_count": 180,
   "metadata": {},
   "outputs": [
    {
     "name": "stdout",
     "output_type": "stream",
     "text": [
      "Total Number of 1-value classes:\n",
      "12\n"
     ]
    }
   ],
   "source": [
    "print(\"Total Number of 1-value classes\", len(estimator0_out_fltr['leaf_nodes_depths']), sep=\":\\n\")"
   ]
  },
  {
   "cell_type": "code",
   "execution_count": 181,
   "metadata": {},
   "outputs": [
    {
     "data": {
      "text/plain": [
       "[array([ 1,  5,  6, 13, 23, 26]),\n",
       " array([ 1,  5,  6,  9, 13, 23, 26]),\n",
       " array([ 1,  5,  6,  9, 13, 23, 26]),\n",
       " array([ 1,  6, 13, 23, 26]),\n",
       " array([ 1,  6, 22, 23, 26]),\n",
       " array([ 1,  6, 13, 22, 23, 26]),\n",
       " array([ 1,  6, 13, 22, 23, 26]),\n",
       " array([ 1,  3, 23, 26, 27]),\n",
       " array([ 1,  3, 17, 19, 23, 26, 27]),\n",
       " array([ 1,  3, 17, 19, 23, 26, 27]),\n",
       " array([ 1,  3, 19, 23, 26, 27]),\n",
       " array([ 1,  3, 23, 26, 27]),\n",
       " array([ 1,  3, 23, 26]),\n",
       " array([ 3, 18, 23, 26]),\n",
       " array([ 3, 18, 23, 26]),\n",
       " array([ 3,  8, 23, 26]),\n",
       " array([ 3,  8, 22, 23, 26]),\n",
       " array([ 3,  4,  8, 22, 23, 26]),\n",
       " array([ 3,  4,  8, 22, 23, 26]),\n",
       " array([22, 23, 26]),\n",
       " array([22, 23, 26]),\n",
       " array([23, 26])]"
      ]
     },
     "execution_count": 181,
     "metadata": {},
     "output_type": "execute_result"
    }
   ],
   "source": [
    "all_rf_outputs['dtree0']['all_uniq_leaf_paths_features']"
   ]
  },
  {
   "cell_type": "code",
   "execution_count": 41,
   "metadata": {},
   "outputs": [
    {
     "data": {
      "text/plain": [
       "{'f_leaf_nodes_depths': [6, 7, 5, 6, 6, 8, 7, 4, 4, 5, 6, 3],\n",
       " 'f_tot_leaf_node_values': [239, 8, 8, 2, 27, 1, 10, 7, 2, 2, 1, 6],\n",
       " 'f_uniq_feature_paths': [array([ 1,  5,  6, 13, 23, 26]),\n",
       "  array([ 1,  5,  6,  9, 13, 23, 26]),\n",
       "  array([ 1,  6, 22, 23, 26]),\n",
       "  array([ 1,  6, 13, 22, 23, 26]),\n",
       "  array([ 1,  3, 23, 26, 27]),\n",
       "  array([ 1,  3, 17, 19, 23, 26, 27]),\n",
       "  array([ 1,  3, 19, 23, 26, 27]),\n",
       "  array([ 3, 18, 23, 26]),\n",
       "  array([ 3,  8, 23, 26]),\n",
       "  array([ 3,  8, 22, 23, 26]),\n",
       "  array([ 3,  4,  8, 22, 23, 26]),\n",
       "  array([22, 23, 26])]}"
      ]
     },
     "execution_count": 41,
     "metadata": {},
     "output_type": "execute_result"
    }
   ],
   "source": [
    "irf_utils.filter_leaves_classifier(dtree_data=all_rf_outputs['dtree0'],bin_class_type=1)"
   ]
  },
  {
   "cell_type": "code",
   "execution_count": 182,
   "metadata": {},
   "outputs": [
    {
     "data": {
      "text/plain": [
       "{'all_leaf_node_classes': [1,\n",
       "  0,\n",
       "  1,\n",
       "  0,\n",
       "  1,\n",
       "  0,\n",
       "  1,\n",
       "  1,\n",
       "  0,\n",
       "  1,\n",
       "  1,\n",
       "  0,\n",
       "  0,\n",
       "  1,\n",
       "  0,\n",
       "  1,\n",
       "  1,\n",
       "  1,\n",
       "  0,\n",
       "  1,\n",
       "  0,\n",
       "  0],\n",
       " 'all_leaf_node_paths': [array([0, 1, 2, 3, 4, 5, 6]),\n",
       "  array([0, 1, 2, 3, 4, 5, 7, 8]),\n",
       "  array([0, 1, 2, 3, 4, 5, 7, 9]),\n",
       "  array([ 0,  1,  2,  3,  4, 10]),\n",
       "  array([ 0,  1,  2,  3, 11, 12]),\n",
       "  array([ 0,  1,  2,  3, 11, 13, 14]),\n",
       "  array([ 0,  1,  2,  3, 11, 13, 15]),\n",
       "  array([ 0,  1,  2, 16, 17, 18, 19]),\n",
       "  array([ 0,  1,  2, 16, 17, 18, 20, 21, 22]),\n",
       "  array([ 0,  1,  2, 16, 17, 18, 20, 21, 23]),\n",
       "  array([ 0,  1,  2, 16, 17, 18, 20, 24]),\n",
       "  array([ 0,  1,  2, 16, 17, 25]),\n",
       "  array([ 0,  1,  2, 16, 26]),\n",
       "  array([ 0,  1, 27, 28, 29]),\n",
       "  array([ 0,  1, 27, 28, 30]),\n",
       "  array([ 0,  1, 27, 31, 32]),\n",
       "  array([ 0,  1, 27, 31, 33, 34]),\n",
       "  array([ 0,  1, 27, 31, 33, 35, 36]),\n",
       "  array([ 0,  1, 27, 31, 33, 35, 37]),\n",
       "  array([ 0, 38, 39, 40]),\n",
       "  array([ 0, 38, 39, 41]),\n",
       "  array([ 0, 38, 42])],\n",
       " 'all_leaf_node_samples': [157,\n",
       "  1,\n",
       "  6,\n",
       "  1,\n",
       "  6,\n",
       "  3,\n",
       "  1,\n",
       "  16,\n",
       "  1,\n",
       "  1,\n",
       "  5,\n",
       "  2,\n",
       "  3,\n",
       "  5,\n",
       "  1,\n",
       "  2,\n",
       "  1,\n",
       "  1,\n",
       "  11,\n",
       "  4,\n",
       "  2,\n",
       "  99],\n",
       " 'all_leaf_node_samples_percent': [47.72036474164134,\n",
       "  0.303951367781155,\n",
       "  1.8237082066869301,\n",
       "  0.303951367781155,\n",
       "  1.8237082066869301,\n",
       "  0.91185410334346506,\n",
       "  0.303951367781155,\n",
       "  4.86322188449848,\n",
       "  0.303951367781155,\n",
       "  0.303951367781155,\n",
       "  1.5197568389057752,\n",
       "  0.60790273556231,\n",
       "  0.91185410334346506,\n",
       "  1.5197568389057752,\n",
       "  0.303951367781155,\n",
       "  0.60790273556231,\n",
       "  0.303951367781155,\n",
       "  0.303951367781155,\n",
       "  3.3434650455927053,\n",
       "  1.21580547112462,\n",
       "  0.60790273556231,\n",
       "  30.091185410334347],\n",
       " 'all_leaf_node_values': [array([[  0, 239]]),\n",
       "  array([[1, 0]]),\n",
       "  array([[0, 8]]),\n",
       "  array([[2, 0]]),\n",
       "  array([[0, 8]]),\n",
       "  array([[7, 0]]),\n",
       "  array([[0, 2]]),\n",
       "  array([[ 0, 27]]),\n",
       "  array([[3, 0]]),\n",
       "  array([[0, 1]]),\n",
       "  array([[ 0, 10]]),\n",
       "  array([[2, 0]]),\n",
       "  array([[7, 0]]),\n",
       "  array([[0, 7]]),\n",
       "  array([[1, 0]]),\n",
       "  array([[0, 2]]),\n",
       "  array([[0, 2]]),\n",
       "  array([[0, 1]]),\n",
       "  array([[19,  0]]),\n",
       "  array([[0, 6]]),\n",
       "  array([[2, 0]]),\n",
       "  array([[155,   0]])],\n",
       " 'all_leaf_nodes': [6,\n",
       "  8,\n",
       "  9,\n",
       "  10,\n",
       "  12,\n",
       "  14,\n",
       "  15,\n",
       "  19,\n",
       "  22,\n",
       "  23,\n",
       "  24,\n",
       "  25,\n",
       "  26,\n",
       "  29,\n",
       "  30,\n",
       "  32,\n",
       "  34,\n",
       "  36,\n",
       "  37,\n",
       "  40,\n",
       "  41,\n",
       "  42],\n",
       " 'all_leaf_paths_features': [array([23, 26,  1,  6, 13,  5]),\n",
       "  array([23, 26,  1,  6, 13,  5,  9]),\n",
       "  array([23, 26,  1,  6, 13,  5,  9]),\n",
       "  array([23, 26,  1,  6, 13]),\n",
       "  array([23, 26,  1,  6, 22]),\n",
       "  array([23, 26,  1,  6, 22, 13]),\n",
       "  array([23, 26,  1,  6, 22, 13]),\n",
       "  array([23, 26,  1,  3, 27, 27]),\n",
       "  array([23, 26,  1,  3, 27, 27, 19, 17]),\n",
       "  array([23, 26,  1,  3, 27, 27, 19, 17]),\n",
       "  array([23, 26,  1,  3, 27, 27, 19]),\n",
       "  array([23, 26,  1,  3, 27]),\n",
       "  array([23, 26,  1,  3]),\n",
       "  array([23, 26,  3, 18]),\n",
       "  array([23, 26,  3, 18]),\n",
       "  array([23, 26,  3,  8]),\n",
       "  array([23, 26,  3,  8, 22]),\n",
       "  array([23, 26,  3,  8, 22,  4]),\n",
       "  array([23, 26,  3,  8, 22,  4]),\n",
       "  array([23, 26, 22]),\n",
       "  array([23, 26, 22]),\n",
       "  array([23, 26])],\n",
       " 'all_uniq_leaf_paths_features': [array([ 1,  5,  6, 13, 23, 26]),\n",
       "  array([ 1,  5,  6,  9, 13, 23, 26]),\n",
       "  array([ 1,  5,  6,  9, 13, 23, 26]),\n",
       "  array([ 1,  6, 13, 23, 26]),\n",
       "  array([ 1,  6, 22, 23, 26]),\n",
       "  array([ 1,  6, 13, 22, 23, 26]),\n",
       "  array([ 1,  6, 13, 22, 23, 26]),\n",
       "  array([ 1,  3, 23, 26, 27]),\n",
       "  array([ 1,  3, 17, 19, 23, 26, 27]),\n",
       "  array([ 1,  3, 17, 19, 23, 26, 27]),\n",
       "  array([ 1,  3, 19, 23, 26, 27]),\n",
       "  array([ 1,  3, 23, 26, 27]),\n",
       "  array([ 1,  3, 23, 26]),\n",
       "  array([ 3, 18, 23, 26]),\n",
       "  array([ 3, 18, 23, 26]),\n",
       "  array([ 3,  8, 23, 26]),\n",
       "  array([ 3,  8, 22, 23, 26]),\n",
       "  array([ 3,  4,  8, 22, 23, 26]),\n",
       "  array([ 3,  4,  8, 22, 23, 26]),\n",
       "  array([22, 23, 26]),\n",
       "  array([22, 23, 26]),\n",
       "  array([23, 26])],\n",
       " 'leaf_nodes_depths': [6,\n",
       "  7,\n",
       "  7,\n",
       "  5,\n",
       "  5,\n",
       "  6,\n",
       "  6,\n",
       "  6,\n",
       "  8,\n",
       "  8,\n",
       "  7,\n",
       "  5,\n",
       "  4,\n",
       "  4,\n",
       "  4,\n",
       "  4,\n",
       "  5,\n",
       "  6,\n",
       "  6,\n",
       "  3,\n",
       "  3,\n",
       "  2],\n",
       " 'max_node_depth': 8,\n",
       " 'n_nodes': 43,\n",
       " 'node_features_idx': array([23, 26,  1,  6, 13,  5, 28,  9, 28, 28, 28, 22, 28, 13, 28, 28,  3,\n",
       "        27, 27, 28, 19, 17, 28, 28, 28, 28, 28,  3, 18, 28, 28,  8, 28, 22,\n",
       "        28,  4, 28, 28, 26, 22, 28, 28, 28]),\n",
       " 'num_features_used': 16,\n",
       " 'tot_leaf_node_values': [239,\n",
       "  1,\n",
       "  8,\n",
       "  2,\n",
       "  8,\n",
       "  7,\n",
       "  2,\n",
       "  27,\n",
       "  3,\n",
       "  1,\n",
       "  10,\n",
       "  2,\n",
       "  7,\n",
       "  7,\n",
       "  1,\n",
       "  2,\n",
       "  2,\n",
       "  1,\n",
       "  19,\n",
       "  6,\n",
       "  2,\n",
       "  155],\n",
       " 'validation_metrics': {'accuracy_score': 0.91228070175438591,\n",
       "  'confusion_matrix': array([[10,  4],\n",
       "         [ 1, 42]]),\n",
       "  'f1_score': 0.9438202247191011,\n",
       "  'hamming_loss': 0.08771929824561403,\n",
       "  'log_loss': 3.0297733397241098,\n",
       "  'precision_score': 0.91304347826086951,\n",
       "  'recall_score': 0.97674418604651159,\n",
       "  'zero_one_loss': 0.087719298245614086}}"
      ]
     },
     "execution_count": 182,
     "metadata": {},
     "output_type": "execute_result"
    }
   ],
   "source": [
    "all_rf_outputs['dtree0']"
   ]
  },
  {
   "cell_type": "code",
   "execution_count": 183,
   "metadata": {},
   "outputs": [
    {
     "data": {
      "text/plain": [
       "<module 'utils.irf_utils' from '/Users/shamindras/PERSONAL/LEARNING/REPOS/scikit-learn-sandbox/jupyter/utils/irf_utils.py'>"
      ]
     },
     "execution_count": 183,
     "metadata": {},
     "output_type": "execute_result"
    }
   ],
   "source": [
    "# Import our custom utilities\n",
    "from imp import reload\n",
    "from utils import irf_jupyter_utils\n",
    "from utils import irf_utils\n",
    "reload(irf_jupyter_utils)\n",
    "reload(irf_utils)"
   ]
  },
  {
   "cell_type": "code",
   "execution_count": 184,
   "metadata": {
    "collapsed": true
   },
   "outputs": [],
   "source": [
    "filtered = irf_utils.filter_leaves_classifier(dtree_data=all_rf_outputs['dtree0'],bin_class_type=1)"
   ]
  },
  {
   "cell_type": "code",
   "execution_count": 185,
   "metadata": {},
   "outputs": [
    {
     "data": {
      "text/plain": [
       "{'leaf_nodes_depths': [6, 7, 5, 6, 6, 8, 7, 4, 4, 5, 6, 3],\n",
       " 'tot_leaf_node_values': [239, 8, 8, 2, 27, 1, 10, 7, 2, 2, 1, 6],\n",
       " 'uniq_feature_paths': [array([ 1,  5,  6, 13, 23, 26]),\n",
       "  array([ 1,  5,  6,  9, 13, 23, 26]),\n",
       "  array([ 1,  6, 22, 23, 26]),\n",
       "  array([ 1,  6, 13, 22, 23, 26]),\n",
       "  array([ 1,  3, 23, 26, 27]),\n",
       "  array([ 1,  3, 17, 19, 23, 26, 27]),\n",
       "  array([ 1,  3, 19, 23, 26, 27]),\n",
       "  array([ 3, 18, 23, 26]),\n",
       "  array([ 3,  8, 23, 26]),\n",
       "  array([ 3,  8, 22, 23, 26]),\n",
       "  array([ 3,  4,  8, 22, 23, 26]),\n",
       "  array([22, 23, 26])],\n",
       " 'validation_metrics': {'accuracy_score': 0.91228070175438591,\n",
       "  'confusion_matrix': array([[10,  4],\n",
       "         [ 1, 42]]),\n",
       "  'f1_score': 0.9438202247191011,\n",
       "  'hamming_loss': 0.08771929824561403,\n",
       "  'log_loss': 3.0297733397241098,\n",
       "  'precision_score': 0.91304347826086951,\n",
       "  'recall_score': 0.97674418604651159,\n",
       "  'zero_one_loss': 0.087719298245614086}}"
      ]
     },
     "execution_count": 185,
     "metadata": {},
     "output_type": "execute_result"
    }
   ],
   "source": [
    "filtered"
   ]
  },
  {
   "cell_type": "code",
   "execution_count": 186,
   "metadata": {},
   "outputs": [
    {
     "data": {
      "text/plain": [
       "0.91228070175438591"
      ]
     },
     "execution_count": 186,
     "metadata": {},
     "output_type": "execute_result"
    }
   ],
   "source": [
    "filtered['validation_metrics']['accuracy_score']"
   ]
  },
  {
   "cell_type": "code",
   "execution_count": 127,
   "metadata": {},
   "outputs": [
    {
     "data": {
      "text/plain": [
       "[array([ 1,  5,  6, 13, 23, 26]),\n",
       " array([ 1,  5,  6,  9, 13, 23, 26]),\n",
       " array([ 1,  6, 22, 23, 26]),\n",
       " array([ 1,  6, 13, 22, 23, 26]),\n",
       " array([ 1,  3, 23, 26, 27]),\n",
       " array([ 1,  3, 17, 19, 23, 26, 27]),\n",
       " array([ 1,  3, 19, 23, 26, 27]),\n",
       " array([ 3, 18, 23, 26]),\n",
       " array([ 3,  8, 23, 26]),\n",
       " array([ 3,  8, 22, 23, 26]),\n",
       " array([ 3,  4,  8, 22, 23, 26]),\n",
       " array([22, 23, 26])]"
      ]
     },
     "execution_count": 127,
     "metadata": {},
     "output_type": "execute_result"
    }
   ],
   "source": [
    "filtered['uniq_feature_paths']"
   ]
  },
  {
   "cell_type": "code",
   "execution_count": 50,
   "metadata": {},
   "outputs": [
    {
     "data": {
      "text/plain": [
       "{'f_leaf_nodes_depths': [6, 7, 5, 6, 6, 8, 7, 4, 4, 5, 6, 3],\n",
       " 'f_tot_leaf_node_values': [239, 8, 8, 2, 27, 1, 10, 7, 2, 2, 1, 6],\n",
       " 'f_uniq_feature_paths': [array([ 1,  5,  6, 13, 23, 26]),\n",
       "  array([ 1,  5,  6,  9, 13, 23, 26]),\n",
       "  array([ 1,  6, 22, 23, 26]),\n",
       "  array([ 1,  6, 13, 22, 23, 26]),\n",
       "  array([ 1,  3, 23, 26, 27]),\n",
       "  array([ 1,  3, 17, 19, 23, 26, 27]),\n",
       "  array([ 1,  3, 19, 23, 26, 27]),\n",
       "  array([ 3, 18, 23, 26]),\n",
       "  array([ 3,  8, 23, 26]),\n",
       "  array([ 3,  8, 22, 23, 26]),\n",
       "  array([ 3,  4,  8, 22, 23, 26]),\n",
       "  array([22, 23, 26])]}"
      ]
     },
     "execution_count": 50,
     "metadata": {},
     "output_type": "execute_result"
    }
   ],
   "source": [
    "import random\n",
    "filtered"
   ]
  },
  {
   "cell_type": "code",
   "execution_count": 48,
   "metadata": {},
   "outputs": [
    {
     "data": {
      "text/plain": [
       "5"
      ]
     },
     "execution_count": 48,
     "metadata": {},
     "output_type": "execute_result"
    }
   ],
   "source": [
    "random.choice([1,5,9,10,12])"
   ]
  },
  {
   "cell_type": "code",
   "execution_count": 130,
   "metadata": {},
   "outputs": [
    {
     "data": {
      "text/plain": [
       "array([ 0,  6, 10, 14, 20, 24, 27])"
      ]
     },
     "execution_count": 130,
     "metadata": {},
     "output_type": "execute_result"
    }
   ],
   "source": [
    "random.choice(filtered['uniq_feature_paths'])"
   ]
  },
  {
   "cell_type": "code",
   "execution_count": 55,
   "metadata": {
    "collapsed": true
   },
   "outputs": [],
   "source": [
    "from scipy import stats"
   ]
  },
  {
   "cell_type": "code",
   "execution_count": 107,
   "metadata": {
    "collapsed": true
   },
   "outputs": [],
   "source": [
    "def weighted_choice(values, weights):\n",
    "    \"\"\"Discrete distribution, drawing values with the frequency specified in weights.\n",
    "    \n",
    "    Weights do not need to be normalized.\n",
    "    \"\"\"\n",
    "    if not len(weights) == len(values):\n",
    "        raise ValueError('Equal number of values and weights expected')\n",
    "    weights = np.array(weights)\n",
    "    weights = weights / weights.sum()\n",
    "    dist = stats.rv_discrete(values=(range(len(weights)), weights))\n",
    "    while True:\n",
    "        yield values[dist.rvs()]"
   ]
  },
  {
   "cell_type": "code",
   "execution_count": 108,
   "metadata": {
    "collapsed": true
   },
   "outputs": [],
   "source": [
    "g = weighted_choice(filtered['uniq_feature_paths'], filtered['tot_leaf_node_values'])"
   ]
  },
  {
   "cell_type": "code",
   "execution_count": 109,
   "metadata": {},
   "outputs": [
    {
     "name": "stdout",
     "output_type": "stream",
     "text": [
      "[ 0 10 20 24 27]\n",
      "[ 0 10 20 24 27]\n",
      "[20 22 24]\n",
      "[ 0 10 20 24 27]\n",
      "[ 0  6 10 14 20 24 27]\n",
      "[ 0  6 10 14 20 24 27]\n",
      "[ 0  6 10 14 20 24 27]\n",
      "[ 0 10 20 24 27]\n",
      "[ 0  6 10 14 20 24 27]\n",
      "[ 7 17 20 28]\n",
      "[ 0  6 10 14 20 24 27]\n",
      "[ 0 10 20 24 27]\n",
      "[ 0 10 20 24 27]\n",
      "[ 0 10 20 24 27]\n",
      "[ 0  6 10 14 20 24 27]\n",
      "[ 0  6 10 14 20 24 27]\n",
      "[ 0  6 10 14 20 24 27]\n",
      "[ 0 10 20 24 27]\n",
      "[ 0  6 10 14 20 24 27]\n",
      "[ 0 10 20 24 27]\n",
      "[ 0  6 10 14 20 24 27]\n",
      "[ 0 10 20 24 27]\n",
      "[ 0  6 10 14 20 24 27]\n",
      "[ 0 10 20 24 27]\n",
      "[ 0  6 10 14 20 24 27]\n",
      "[ 0 10 20 24 27]\n",
      "[ 0  6 10 14 20 24 27]\n",
      "[ 0  6 10 14 20 24 27]\n",
      "[ 7 17 20 28]\n",
      "[ 0  6 10 14 20 24 27]\n",
      "[ 6 20 21 24 27]\n",
      "[ 0 10 20 24 27]\n",
      "[ 0  6 10 14 20 24 27]\n",
      "[ 6 20 21 24 27]\n",
      "[ 0 10 20 24 27]\n",
      "[ 0  6 10 14 20 24 27]\n",
      "[ 0  6 10 14 20 24 27]\n",
      "[ 0  6 10 14 20 24 27]\n",
      "[ 0  6 10 14 20 24 27]\n",
      "[ 0 10 20 24 27]\n",
      "[ 0  6 10 14 20 24 27]\n",
      "[ 0  6 10 14 20 24 27]\n",
      "[ 0  6 10 14 20 24 27]\n",
      "[ 0 10 20 24 27]\n",
      "[20 22 24]\n",
      "[ 0 10 20 24 27]\n",
      "[ 0 10 20 24 27]\n",
      "[ 0  6 10 14 20 24 27]\n",
      "[ 0 10 20 24 27]\n",
      "[ 0  6 10 14 20 24 27]\n",
      "[10 20 24 27 28]\n",
      "[ 0 10 20 24 27]\n",
      "[ 0  6 10 14 20 24 27]\n",
      "[ 0 10 20 24 27]\n",
      "[ 0 10 20 24 27]\n",
      "[ 0  6 10 14 20 24 27]\n",
      "[ 0  6 10 14 20 24 27]\n",
      "[ 7 17 20 29]\n",
      "[ 0 10 20 24 27]\n",
      "[ 0 10 20 24 27]\n",
      "[ 6 20 21 24 27]\n",
      "[ 7 17 20 28]\n",
      "[ 0  6 10 14 20 24 27]\n",
      "[ 0 10 20 24 27]\n",
      "[ 0 10 20 24 27]\n",
      "[ 0 10 20 24 27]\n",
      "[ 0 10 20 24 27]\n",
      "[ 0 10 20 24 27]\n",
      "[ 0 10 20 24 27]\n",
      "[ 0  6 10 14 20 24 27]\n",
      "[ 0 10 20 24 27]\n",
      "[ 0 10 20 24 27]\n",
      "[ 0 10 20 24 27]\n",
      "[ 0 10 20 24 27]\n",
      "[ 0  6 10 14 20 24 27]\n",
      "[ 0 10 20 24 27]\n",
      "[ 0 10 20 24 27]\n",
      "[ 0 10 20 24 27]\n",
      "[ 0  6 10 14 20 24 27]\n",
      "[ 7 17 20 28]\n",
      "[ 0  6 10 18 20 24 27]\n",
      "[10 20 24 27 28]\n",
      "[ 0 10 20 24 27]\n",
      "[ 0  6 10 14 20 24 27]\n",
      "[ 0 10 20 24 27]\n",
      "[ 0 10 20 24 27]\n",
      "[ 0 10 20 24 27]\n",
      "[ 0 10 20 24 27]\n",
      "[ 0  6 10 14 20 24 27]\n",
      "[ 0  6 10 14 20 24 27]\n",
      "[ 0 10 20 24 27]\n",
      "[ 0  6 10 14 20 24 27]\n",
      "[ 0 10 20 24 27]\n",
      "[ 0 10 20 24 27]\n",
      "[ 0 10 20 24 27]\n",
      "[ 0 10 20 24 27]\n",
      "[ 0 10 20 24 27]\n",
      "[ 0 10 20 24 27]\n",
      "[ 0 10 20 24 27]\n",
      "[ 0  6 10 14 20 24 27]\n"
     ]
    }
   ],
   "source": [
    "for i in range(100):\n",
    "    print(next(g))"
   ]
  },
  {
   "cell_type": "code",
   "execution_count": 110,
   "metadata": {
    "collapsed": true
   },
   "outputs": [],
   "source": [
    "filtered0 = irf_utils.filter_leaves_classifier(dtree_data=all_rf_outputs['dtree0'],bin_class_type=1)\n",
    "filtered1 = irf_utils.filter_leaves_classifier(dtree_data=all_rf_outputs['dtree1'],bin_class_type=1)"
   ]
  },
  {
   "cell_type": "code",
   "execution_count": 95,
   "metadata": {
    "collapsed": true
   },
   "outputs": [],
   "source": [
    "filtered0 = irf_utils.filter_leaves_classifier(dtree_data=all_rf_tree_data['dtree0'],bin_class_type=1)"
   ]
  },
  {
   "cell_type": "code",
   "execution_count": 113,
   "metadata": {
    "collapsed": true
   },
   "outputs": [],
   "source": [
    "from scipy import stats\n",
    "def weighted_choice(values, weights):\n",
    "    \"\"\"Discrete distribution, drawing values with the frequency specified in weights.\n",
    "    \n",
    "    Weights do not need to be normalized.\n",
    "    \"\"\"\n",
    "    if not len(weights) == len(values):\n",
    "        raise ValueError('Equal number of values and weights expected')\n",
    "    weights = np.array(weights)\n",
    "    # normalize the weights\n",
    "    weights = weights / weights.sum()\n",
    "    dist = stats.rv_discrete(values=(range(len(weights)), weights))\n",
    "    while True:\n",
    "        yield values[dist.rvs()]"
   ]
  },
  {
   "cell_type": "code",
   "execution_count": 100,
   "metadata": {},
   "outputs": [],
   "source": [
    "bin_class_type = 1\n",
    "n_estimators = all_rf_tree_data['rf_obj'].n_estimators\n",
    "\n",
    "all_weights = []\n",
    "all_paths = []\n",
    "for tree in range(n_estimators):\n",
    "    filtered = irf_utils.filter_leaves_classifier(\n",
    "        dtree_data=all_rf_tree_data['dtree{}'.format(tree)],\n",
    "        bin_class_type=bin_class_type)\n",
    "    all_weights.extend(filtered['tot_leaf_node_values'])\n",
    "    all_paths.extend(filtered['uniq_feature_paths'])\n",
    "\n",
    "g = weighted_choice(all_paths, all_weights)"
   ]
  },
  {
   "cell_type": "code",
   "execution_count": 130,
   "metadata": {
    "collapsed": true
   },
   "outputs": [],
   "source": [
    "# CHECK with SVW: how to set the random seed\n",
    "np.random.seed(12)\n",
    "def generate_rit_samples(all_rf_tree_data, bin_class_type = 1):\n",
    "    # Number of decision trees\n",
    "    n_estimators = all_rf_tree_data['rf_obj'].n_estimators\n",
    "    \n",
    "    all_weights = []\n",
    "    all_paths = []\n",
    "    for tree in range(n_estimators):\n",
    "        filtered = irf_utils.filter_leaves_classifier(\n",
    "            dtree_data=all_rf_tree_data['dtree{}'.format(tree)],\n",
    "            bin_class_type=bin_class_type)\n",
    "        all_weights.extend(filtered['tot_leaf_node_values'])\n",
    "        all_paths.extend(filtered['uniq_feature_paths'])\n",
    "\n",
    "    # Return the generator of randomly sampled observations \n",
    "    # by specified weights\n",
    "    return weighted_choice(all_paths, all_weights)"
   ]
  },
  {
   "cell_type": "code",
   "execution_count": 131,
   "metadata": {
    "collapsed": true
   },
   "outputs": [],
   "source": [
    "g = generate_rit_samples(all_rf_tree_data=all_rf_tree_data, bin_class_type=1)"
   ]
  },
  {
   "cell_type": "code",
   "execution_count": 132,
   "metadata": {},
   "outputs": [
    {
     "name": "stdout",
     "output_type": "stream",
     "text": [
      "[ 0 10 20 24 27]\n",
      "[ 1  6 13 22 23 24]\n",
      "[ 7 13 23 26 28]\n",
      "[ 7 23 28]\n",
      "[ 1  5  6 13 23 26]\n",
      "[ 6  9 10 20 22 27 29]\n",
      "[ 4  6  9 10 20 25 27]\n",
      "[ 1  5  6 13 23 26]\n",
      "[ 6  9 10 20 22 27 29]\n",
      "[ 0 10 20 24 27]\n"
     ]
    }
   ],
   "source": [
    "for i in range(10):\n",
    "    print(next(g))"
   ]
  },
  {
   "cell_type": "code",
   "execution_count": 92,
   "metadata": {},
   "outputs": [
    {
     "data": {
      "text/plain": [
       "{'leaf_nodes_depths': [6, 7, 5, 6, 6, 8, 7, 4, 4, 5, 6, 3],\n",
       " 'tot_leaf_node_values': [239, 8, 8, 2, 27, 1, 10, 7, 2, 2, 1, 6],\n",
       " 'uniq_feature_paths': [array([ 1,  5,  6, 13, 23, 26]),\n",
       "  array([ 1,  5,  6,  9, 13, 23, 26]),\n",
       "  array([ 1,  6, 22, 23, 26]),\n",
       "  array([ 1,  6, 13, 22, 23, 26]),\n",
       "  array([ 1,  3, 23, 26, 27]),\n",
       "  array([ 1,  3, 17, 19, 23, 26, 27]),\n",
       "  array([ 1,  3, 19, 23, 26, 27]),\n",
       "  array([ 3, 18, 23, 26]),\n",
       "  array([ 3,  8, 23, 26]),\n",
       "  array([ 3,  8, 22, 23, 26]),\n",
       "  array([ 3,  4,  8, 22, 23, 26]),\n",
       "  array([22, 23, 26])],\n",
       " 'validation_metrics': {'accuracy_score': 0.91228070175438591,\n",
       "  'confusion_matrix': array([[10,  4],\n",
       "         [ 1, 42]]),\n",
       "  'f1_score': 0.9438202247191011,\n",
       "  'hamming_loss': 0.08771929824561403,\n",
       "  'log_loss': 3.0297733397241098,\n",
       "  'precision_score': 0.91304347826086951,\n",
       "  'recall_score': 0.97674418604651159,\n",
       "  'zero_one_loss': 0.087719298245614086}}"
      ]
     },
     "execution_count": 92,
     "metadata": {},
     "output_type": "execute_result"
    }
   ],
   "source": [
    "filtered0"
   ]
  },
  {
   "cell_type": "code",
   "execution_count": 129,
   "metadata": {
    "collapsed": true
   },
   "outputs": [],
   "source": [
    "all_weights = []\n",
    "all_paths = []\n",
    "for tree in range(2):\n",
    "    filtered = irf_utils.filter_leaves_classifier(dtree_data=all_rf_outputs['dtree{}'.format(tree)],\n",
    "                                                  bin_class_type=1)\n",
    "    all_weights.extend(filtered['tot_leaf_node_values'])\n",
    "    all_paths.extend(filtered['uniq_feature_paths'])\n",
    "\n",
    "g = weighted_choice(all_paths, all_weights)"
   ]
  },
  {
   "cell_type": "code",
   "execution_count": 113,
   "metadata": {},
   "outputs": [
    {
     "data": {
      "text/plain": [
       "[239, 8, 8, 2, 27, 1, 10, 7, 2, 2, 1, 6, 189, 5, 101, 1, 3, 2, 1, 7, 3, 2, 7]"
      ]
     },
     "execution_count": 113,
     "metadata": {},
     "output_type": "execute_result"
    }
   ],
   "source": [
    "all_weights"
   ]
  },
  {
   "cell_type": "code",
   "execution_count": 114,
   "metadata": {},
   "outputs": [
    {
     "data": {
      "text/plain": [
       "[array([ 1,  5,  6, 13, 23, 26]),\n",
       " array([ 1,  5,  6,  9, 13, 23, 26]),\n",
       " array([ 1,  6, 22, 23, 26]),\n",
       " array([ 1,  6, 13, 22, 23, 26]),\n",
       " array([ 1,  3, 23, 26, 27]),\n",
       " array([ 1,  3, 17, 19, 23, 26, 27]),\n",
       " array([ 1,  3, 19, 23, 26, 27]),\n",
       " array([ 3, 18, 23, 26]),\n",
       " array([ 3,  8, 23, 26]),\n",
       " array([ 3,  8, 22, 23, 26]),\n",
       " array([ 3,  4,  8, 22, 23, 26]),\n",
       " array([22, 23, 26]),\n",
       " array([ 0, 10, 20, 24, 27]),\n",
       " array([ 0,  6, 10, 14, 20, 24, 27]),\n",
       " array([ 0,  6, 10, 14, 20, 24, 27]),\n",
       " array([ 0,  6, 10, 18, 20, 24, 27]),\n",
       " array([10, 20, 24, 27, 28]),\n",
       " array([ 6, 20, 21, 24, 27]),\n",
       " array([ 6, 12, 20, 21, 24, 27]),\n",
       " array([ 6, 20, 21, 24, 27]),\n",
       " array([20, 22, 24]),\n",
       " array([ 7, 17, 20, 29]),\n",
       " array([ 7, 17, 20, 28])]"
      ]
     },
     "execution_count": 114,
     "metadata": {},
     "output_type": "execute_result"
    }
   ],
   "source": [
    "all_paths"
   ]
  },
  {
   "cell_type": "code",
   "execution_count": 112,
   "metadata": {},
   "outputs": [
    {
     "name": "stdout",
     "output_type": "stream",
     "text": [
      "[ 0 10 20 24 27]\n",
      "[ 1  6 22 23 26]\n",
      "[ 1  3 23 26 27]\n",
      "[ 3 18 23 26]\n",
      "[ 0  6 10 14 20 24 27]\n",
      "[ 0 10 20 24 27]\n",
      "[ 0 10 20 24 27]\n",
      "[22 23 26]\n",
      "[ 0 10 20 24 27]\n",
      "[ 0  6 10 14 20 24 27]\n",
      "[ 0 10 20 24 27]\n",
      "[ 1  5  6 13 23 26]\n",
      "[ 0  6 10 14 20 24 27]\n",
      "[ 1  5  6 13 23 26]\n",
      "[ 1  5  6 13 23 26]\n",
      "[ 0 10 20 24 27]\n",
      "[ 0 10 20 24 27]\n",
      "[ 0  6 10 14 20 24 27]\n",
      "[ 1  5  6 13 23 26]\n",
      "[ 1  5  6  9 13 23 26]\n",
      "[ 1  5  6 13 23 26]\n",
      "[ 6 20 21 24 27]\n",
      "[ 0  6 10 14 20 24 27]\n",
      "[ 1  5  6 13 23 26]\n",
      "[ 1  5  6 13 23 26]\n",
      "[ 0  6 10 14 20 24 27]\n",
      "[ 0 10 20 24 27]\n",
      "[ 0 10 20 24 27]\n",
      "[ 0 10 20 24 27]\n",
      "[ 0 10 20 24 27]\n",
      "[ 1  3 23 26 27]\n",
      "[ 1  5  6 13 23 26]\n",
      "[ 0 10 20 24 27]\n",
      "[ 7 17 20 28]\n",
      "[ 1  5  6 13 23 26]\n",
      "[ 0 10 20 24 27]\n",
      "[ 1  5  6 13 23 26]\n",
      "[ 1  5  6 13 23 26]\n",
      "[ 0  6 10 14 20 24 27]\n",
      "[ 0 10 20 24 27]\n",
      "[ 0  6 10 14 20 24 27]\n",
      "[ 3 18 23 26]\n",
      "[ 1  5  6 13 23 26]\n",
      "[ 1  3 19 23 26 27]\n",
      "[ 0  6 10 14 20 24 27]\n",
      "[ 1  3 19 23 26 27]\n",
      "[ 0  6 10 14 20 24 27]\n",
      "[ 1  5  6 13 23 26]\n",
      "[ 0 10 20 24 27]\n",
      "[ 1  5  6 13 23 26]\n"
     ]
    }
   ],
   "source": [
    "for i in range(50):\n",
    "    print(next(g))"
   ]
  },
  {
   "cell_type": "code",
   "execution_count": null,
   "metadata": {
    "collapsed": true
   },
   "outputs": [],
   "source": []
  }
 ],
 "metadata": {
  "kernelspec": {
   "display_name": "Python 3",
   "language": "python",
   "name": "python3"
  },
  "language_info": {
   "codemirror_mode": {
    "name": "ipython",
    "version": 3
   },
   "file_extension": ".py",
   "mimetype": "text/x-python",
   "name": "python",
   "nbconvert_exporter": "python",
   "pygments_lexer": "ipython3",
   "version": "3.6.1"
  }
 },
 "nbformat": 4,
 "nbformat_minor": 2
}
