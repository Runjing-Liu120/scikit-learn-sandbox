{
 "cells": [
  {
   "cell_type": "markdown",
   "metadata": {},
   "source": [
    "## Key Requirements for the iRF scikit-learn implementation\n",
    "\n",
    "* The following is a documentation of the main requirements for the iRF implementation"
   ]
  },
  {
   "cell_type": "markdown",
   "metadata": {},
   "source": [
    "## Typical Setup\n"
   ]
  },
  {
   "cell_type": "markdown",
   "metadata": {},
   "source": [
    "### Import the required dependencies\n",
    "\n",
    "* In particular `irf_utils` and `irf_jupyter_utils`"
   ]
  },
  {
   "cell_type": "code",
   "execution_count": 1,
   "metadata": {},
   "outputs": [
    {
     "data": {
      "text/plain": [
       "<module 'utils.irf_utils' from '/home/runjing_liu/Documents/iRF/scikit-learn-sandbox/jupyter/utils/irf_utils.py'>"
      ]
     },
     "execution_count": 1,
     "metadata": {},
     "output_type": "execute_result"
    }
   ],
   "source": [
    "%matplotlib inline\n",
    "import matplotlib.pyplot as plt\n",
    "\n",
    "from sklearn.datasets import load_breast_cancer\n",
    "import numpy as np\n",
    "from functools import reduce\n",
    "\n",
    "# Needed for the scikit-learn wrapper function\n",
    "from sklearn.utils import resample\n",
    "from sklearn.ensemble import RandomForestClassifier\n",
    "from math import ceil\n",
    "\n",
    "# Import our custom utilities\n",
    "from imp import reload\n",
    "from utils import irf_jupyter_utils\n",
    "from utils import irf_utils\n",
    "reload(irf_jupyter_utils)\n",
    "reload(irf_utils)"
   ]
  },
  {
   "cell_type": "markdown",
   "metadata": {},
   "source": [
    "## Step 1: Fit the Initial Random Forest\n",
    "\n",
    "* Just fit every feature with equal weights per the usual random forest code e.g. DecisionForestClassifier in scikit-learn"
   ]
  },
  {
   "cell_type": "code",
   "execution_count": 2,
   "metadata": {
    "collapsed": true
   },
   "outputs": [],
   "source": [
    "load_breast_cancer = load_breast_cancer()"
   ]
  },
  {
   "cell_type": "code",
   "execution_count": 3,
   "metadata": {},
   "outputs": [],
   "source": [
    "X_train, X_test, y_train, y_test, rf = irf_jupyter_utils.generate_rf_example(n_estimators=1000, \n",
    "                                                                             feature_weight=None)"
   ]
  },
  {
   "cell_type": "markdown",
   "metadata": {},
   "source": [
    "## Check out the data"
   ]
  },
  {
   "cell_type": "code",
   "execution_count": 4,
   "metadata": {},
   "outputs": [
    {
     "name": "stdout",
     "output_type": "stream",
     "text": [
      "Training feature dimensions:\n",
      "(512, 30)\n",
      "\n",
      "\n",
      "Training outcome dimensions:\n",
      "(512,)\n",
      "\n",
      "\n",
      "Test feature dimensions:\n",
      "(57, 30)\n",
      "\n",
      "\n",
      "Test outcome dimensions:\n",
      "(57,)\n",
      "\n",
      "\n",
      "first 5 rows of the training set features:\n",
      "[[  1.98900000e+01   2.02600000e+01   1.30500000e+02   1.21400000e+03\n",
      "    1.03700000e-01   1.31000000e-01   1.41100000e-01   9.43100000e-02\n",
      "    1.80200000e-01   6.18800000e-02   5.07900000e-01   8.73700000e-01\n",
      "    3.65400000e+00   5.97000000e+01   5.08900000e-03   2.30300000e-02\n",
      "    3.05200000e-02   1.17800000e-02   1.05700000e-02   3.39100000e-03\n",
      "    2.37300000e+01   2.52300000e+01   1.60500000e+02   1.64600000e+03\n",
      "    1.41700000e-01   3.30900000e-01   4.18500000e-01   1.61300000e-01\n",
      "    2.54900000e-01   9.13600000e-02]\n",
      " [  2.01800000e+01   1.95400000e+01   1.33800000e+02   1.25000000e+03\n",
      "    1.13300000e-01   1.48900000e-01   2.13300000e-01   1.25900000e-01\n",
      "    1.72400000e-01   6.05300000e-02   4.33100000e-01   1.00100000e+00\n",
      "    3.00800000e+00   5.24900000e+01   9.08700000e-03   2.71500000e-02\n",
      "    5.54600000e-02   1.91000000e-02   2.45100000e-02   4.00500000e-03\n",
      "    2.20300000e+01   2.50700000e+01   1.46000000e+02   1.47900000e+03\n",
      "    1.66500000e-01   2.94200000e-01   5.30800000e-01   2.17300000e-01\n",
      "    3.03200000e-01   8.07500000e-02]]\n",
      "\n",
      "\n",
      "first 5 rows of the training set outcomes:\n",
      "[0 0]\n"
     ]
    }
   ],
   "source": [
    "print(\"Training feature dimensions\", X_train.shape, sep = \":\\n\")\n",
    "print(\"\\n\")\n",
    "print(\"Training outcome dimensions\", y_train.shape, sep = \":\\n\")\n",
    "print(\"\\n\")\n",
    "print(\"Test feature dimensions\", X_test.shape, sep = \":\\n\")\n",
    "print(\"\\n\")\n",
    "print(\"Test outcome dimensions\", y_test.shape, sep = \":\\n\")\n",
    "print(\"\\n\")\n",
    "print(\"first 5 rows of the training set features\", X_train[:2], sep = \":\\n\")\n",
    "print(\"\\n\")\n",
    "print(\"first 5 rows of the training set outcomes\", y_train[:2], sep = \":\\n\")"
   ]
  },
  {
   "cell_type": "markdown",
   "metadata": {},
   "source": [
    "## Step 2: Get all Random Forest and Decision Tree Data\n",
    "\n",
    "* Extract in a single dictionary the random forest data and for all of it's decision trees\n",
    "* This is as required for RIT purposes"
   ]
  },
  {
   "cell_type": "code",
   "execution_count": 5,
   "metadata": {
    "collapsed": true
   },
   "outputs": [],
   "source": [
    "all_rf_tree_data = irf_utils.get_rf_tree_data(rf=rf,\n",
    "                                              X_train=X_train, y_train=y_train, \n",
    "                                              X_test=X_test, y_test=y_test)"
   ]
  },
  {
   "cell_type": "markdown",
   "metadata": {},
   "source": [
    "## STEP 3: Get the RIT data and produce RITs"
   ]
  },
  {
   "cell_type": "code",
   "execution_count": 6,
   "metadata": {
    "collapsed": true
   },
   "outputs": [],
   "source": [
    "all_rit_tree_data = irf_utils.get_rit_tree_data(\n",
    "    all_rf_tree_data=all_rf_tree_data,\n",
    "    bin_class_type=1,\n",
    "    random_state=12,\n",
    "    M=100,\n",
    "    max_depth=2,\n",
    "    noisy_split=False,\n",
    "    num_splits=2)"
   ]
  },
  {
   "cell_type": "code",
   "execution_count": 7,
   "metadata": {
    "collapsed": true
   },
   "outputs": [],
   "source": [
    "#for i in range(100):\n",
    "#    print(all_rit_tree_data['rit{}'.format(i)]['rit_leaf_node_union_value'])"
   ]
  },
  {
   "cell_type": "markdown",
   "metadata": {},
   "source": [
    "# Perform Manual CHECKS on the `irf_utils`\n",
    "* These should be converted to unit tests and checked with `nosetests -v test_irf_utils.py`"
   ]
  },
  {
   "cell_type": "markdown",
   "metadata": {},
   "source": [
    "# Step 4: Plot some Data"
   ]
  },
  {
   "cell_type": "markdown",
   "metadata": {},
   "source": [
    "### List Ranked Feature Importances"
   ]
  },
  {
   "cell_type": "code",
   "execution_count": 8,
   "metadata": {},
   "outputs": [
    {
     "name": "stdout",
     "output_type": "stream",
     "text": [
      "Feature ranking:\n",
      "1. feature 22 (0.141571)\n",
      "2. feature 23 (0.118066)\n",
      "3. feature 27 (0.118023)\n",
      "4. feature 20 (0.116496)\n",
      "5. feature 7 (0.083462)\n",
      "6. feature 3 (0.053727)\n",
      "7. feature 2 (0.046495)\n",
      "8. feature 0 (0.046333)\n",
      "9. feature 6 (0.046172)\n",
      "10. feature 13 (0.037305)\n",
      "11. feature 26 (0.033145)\n",
      "12. feature 21 (0.018278)\n",
      "13. feature 25 (0.015116)\n",
      "14. feature 5 (0.014100)\n",
      "15. feature 10 (0.013705)\n",
      "16. feature 1 (0.012798)\n",
      "17. feature 24 (0.011960)\n",
      "18. feature 12 (0.011029)\n",
      "19. feature 28 (0.009534)\n",
      "20. feature 29 (0.006791)\n",
      "21. feature 4 (0.006139)\n",
      "22. feature 16 (0.005647)\n",
      "23. feature 17 (0.005003)\n",
      "24. feature 14 (0.004568)\n",
      "25. feature 11 (0.004414)\n",
      "26. feature 18 (0.004412)\n",
      "27. feature 19 (0.004295)\n",
      "28. feature 15 (0.003972)\n",
      "29. feature 9 (0.003792)\n",
      "30. feature 8 (0.003654)\n"
     ]
    }
   ],
   "source": [
    "# Print the feature ranking\n",
    "print(\"Feature ranking:\")\n",
    "\n",
    "feature_importances_rank_idx = all_rf_tree_data['feature_importances_rank_idx']\n",
    "feature_importances = all_rf_tree_data['feature_importances']\n",
    "\n",
    "for f in range(X_train.shape[1]):\n",
    "    print(\"%d. feature %d (%f)\" % (f + 1\n",
    "                                   , feature_importances_rank_idx[f]\n",
    "                                   , feature_importances[feature_importances_rank_idx[f]]))"
   ]
  },
  {
   "cell_type": "markdown",
   "metadata": {},
   "source": [
    "### Plot Ranked Feature Importances"
   ]
  },
  {
   "cell_type": "code",
   "execution_count": 9,
   "metadata": {},
   "outputs": [
    {
     "data": {
      "image/png": "[encoded data removed]",
      "text/plain": [
       "<matplotlib.figure.Figure at 0x7fc8ba1f8630>"
      ]
     },
     "metadata": {},
     "output_type": "display_data"
    }
   ],
   "source": [
    "# Plot the feature importances of the forest\n",
    "feature_importances_std = all_rf_tree_data['feature_importances_std']\n",
    "\n",
    "plt.figure()\n",
    "plt.title(\"Feature importances\")\n",
    "plt.bar(range(X_train.shape[1])\n",
    "        , feature_importances[feature_importances_rank_idx]\n",
    "        , color=\"r\"\n",
    "        , yerr = feature_importances_std[feature_importances_rank_idx], align=\"center\")\n",
    "plt.xticks(range(X_train.shape[1]), feature_importances_rank_idx)\n",
    "plt.xlim([-1, X_train.shape[1]])\n",
    "plt.show()"
   ]
  },
  {
   "cell_type": "markdown",
   "metadata": {},
   "source": [
    "## Decision Tree 0 (First) - Get output"
   ]
  },
  {
   "cell_type": "markdown",
   "metadata": {},
   "source": [
    "### Check the output against the decision tree graph"
   ]
  },
  {
   "cell_type": "code",
   "execution_count": 10,
   "metadata": {
    "collapsed": true
   },
   "outputs": [],
   "source": [
    "# Now plot the trees individually\n",
    "#irf_jupyter_utils.draw_tree(decision_tree = all_rf_tree_data['rf_obj'].estimators_[0])"
   ]
  },
  {
   "cell_type": "markdown",
   "metadata": {},
   "source": [
    "## Compare to our dict of extracted data from the tree"
   ]
  },
  {
   "cell_type": "code",
   "execution_count": 11,
   "metadata": {
    "collapsed": true
   },
   "outputs": [],
   "source": [
    "#irf_jupyter_utils.pretty_print_dict(inp_dict = all_rf_tree_data['dtree0'])"
   ]
  },
  {
   "cell_type": "code",
   "execution_count": 12,
   "metadata": {
    "code_folding": []
   },
   "outputs": [
    {
     "data": {
      "text/plain": [
       "512"
      ]
     },
     "execution_count": 12,
     "metadata": {},
     "output_type": "execute_result"
    }
   ],
   "source": [
    "# Count the number of samples passing through the leaf nodes\n",
    "sum(all_rf_tree_data['dtree0']['tot_leaf_node_values'])"
   ]
  },
  {
   "cell_type": "markdown",
   "metadata": {},
   "source": [
    "### Check output against the diagram"
   ]
  },
  {
   "cell_type": "code",
   "execution_count": 13,
   "metadata": {
    "collapsed": true
   },
   "outputs": [],
   "source": [
    "#irf_jupyter_utils.pretty_print_dict(inp_dict = all_rf_tree_data['dtree0']['all_leaf_paths_features'])"
   ]
  },
  {
   "cell_type": "markdown",
   "metadata": {},
   "source": [
    "# Wrapper function for iRF"
   ]
  },
  {
   "cell_type": "code",
   "execution_count": 14,
   "metadata": {
    "collapsed": true
   },
   "outputs": [],
   "source": [
    "def get_stability_score(all_rit_bootstrap_output):\n",
    "    \"\"\"\n",
    "    Get the stabilty score from B bootstrap Random Forest\n",
    "    Fits with RITs\n",
    "    \"\"\"\n",
    "    \n",
    "    # Initialize values\n",
    "    bootstrap_interact = []\n",
    "    B = len(all_rit_bootstrap_output)\n",
    "    \n",
    "    for b in range(B):\n",
    "        rit_counts = irf_utils.rit_interactions(\n",
    "            all_rit_bootstrap_output['rf_bootstrap{}'.format(b)])\n",
    "        rit_counts = list(rit_counts.keys())        \n",
    "        bootstrap_interact.append(rit_counts)        \n",
    "    \n",
    "    flatten = lambda l: [item for sublist in l for item in sublist]\n",
    "    all_rit_interactions = flatten(bootstrap_interact)\n",
    "    stability = {m:all_rit_interactions.count(m)/B for m in all_rit_interactions}\n",
    "    return stability"
   ]
  },
  {
   "cell_type": "code",
   "execution_count": 15,
   "metadata": {},
   "outputs": [
    {
     "name": "stdout",
     "output_type": "stream",
     "text": [
      "2017-05-25 15:15:43.214549\n",
      "iteration 0 3 3\n",
      "5611.559593\n",
      "2\n",
      "iteration 1 3 3\n",
      "5611.559593\n",
      "2\n",
      "iteration 2 3 3\n",
      "5611.559593\n",
      "2\n"
     ]
    }
   ],
   "source": [
    "from datetime import datetime\n",
    "\n",
    "print(datetime.now())\n",
    "\n",
    "for b in range(3):\n",
    "\n",
    "    # Take a bootstrap sample from the training data\n",
    "    # based on the specified user proportion\n",
    "    X_train_rsmpl, y_rsmpl = resample(\n",
    "        X_train, y_train, n_samples=3, random_state=0)\n",
    "\n",
    "    print(\"iteration {}\".format(b), X_train_rsmpl.shape[0],\n",
    "     y_rsmpl.shape[0])\n",
    "    print(np.sum(X_train_rsmpl))\n",
    "    print(np.sum(y_rsmpl))"
   ]
  },
  {
   "cell_type": "code",
   "execution_count": 18,
   "metadata": {},
   "outputs": [],
   "source": [
    "def run_rit(X_train,\n",
    "            X_test,\n",
    "            y_train,\n",
    "            y_test,\n",
    "            K=7,\n",
    "            n_estimators=20,\n",
    "            B=10,\n",
    "            random_state_classifier=2018,\n",
    "            propn_n_samples=0.2,\n",
    "            bin_class_type=1,\n",
    "            random_state=12,\n",
    "            M=4,\n",
    "            max_depth=2,\n",
    "            noisy_split=False,\n",
    "            num_splits=2,\n",
    "            n_estimators_bootstrap=5):\n",
    "    \"\"\" \n",
    "    Runs the iRF algorithm in full.\n",
    "    \n",
    "    \n",
    "    Parameters\n",
    "    --------\n",
    "    X_train : array-like or sparse matrix, shape = [n_samples, n_features]\n",
    "        Training vector, where n_samples in the number of samples and\n",
    "        n_features is the number of features.\n",
    "\n",
    "    X_test : array-like or sparse matrix, shape = [n_samples, n_features]\n",
    "        Test vector, where n_samples in the number of samples and\n",
    "        n_features is the number of features.\n",
    "    \n",
    "    y_train : 1d array-like, or label indicator array / sparse matrix\n",
    "        Ground truth (correct) target values for training.\n",
    "\n",
    "    y_test : 1d array-like, or label indicator array / sparse matrix\n",
    "        Ground truth (correct) target values for testing.\n",
    "\n",
    "    \n",
    "    K : int, optional (default = 7)\n",
    "        The number of iterations in iRF. \n",
    "    \n",
    "    n_estimators : int, optional (default = 20)\n",
    "        The number of trees in the random forest when computing weights. \n",
    "        \n",
    "    B : int, optional (default = 10)\n",
    "        The number of bootstrap samples\n",
    "    \n",
    "    random_state_classifier : int, optional (default = 2018)\n",
    "        The random seed for reproducibility. \n",
    "    \n",
    "    propn_n_samples : float, optional (default = 0.2)\n",
    "        The proportion of samples drawn for bootstrap. \n",
    "    \n",
    "    bin_class_type : int, optional (default = 1)\n",
    "        ...\n",
    "    \n",
    "    max_depth : int, optional (default = 2)\n",
    "        The built tree will never be deeper than `max_depth`.\n",
    "\n",
    "    num_splits : int, optional (default = 2)\n",
    "            At each node, the maximum number of children to be added.\n",
    "\n",
    "    noisy_split: bool, optional (default = False)\n",
    "        At each node if True, then number of children to\n",
    "        split will be (`num_splits`, `num_splits + 1`)\n",
    "        based on the outcome of a bernoulli(0.5)\n",
    "        random variable    \n",
    "        \n",
    "    n_estimators_bootstrap : int, optional (default = 5)\n",
    "        The number of trees in the random forest when fitting to bootstrap samples\n",
    "        \n",
    "    Returns \n",
    "    --------\n",
    "    all_rf_weights: dict\n",
    "        stores feature weights across all iterations\n",
    "        \n",
    "    all_rf_bootstrap_output: dict\n",
    "        stores rf information across all bootstrap samples\n",
    "        \n",
    "    all_rit_bootstrap_output: dict\n",
    "        stores rit information across all bootstrap samples\n",
    "    \n",
    "    stability_score: dict\n",
    "        stores interactions in as its keys and stabilities scores as the values\n",
    "    \n",
    "    \"\"\"\n",
    "\n",
    "    # Set the random state for reproducibility\n",
    "    np.random.seed(random_state_classifier)\n",
    "\n",
    "    # Convert the bootstrap resampling proportion to the number\n",
    "    # of rows to resample from the training data\n",
    "    n_samples = ceil(propn_n_samples * X_train.shape[0])\n",
    "\n",
    "    # Initialize dictionary of rf weights\n",
    "    # CHECK: change this name to be `all_rf_weights_output`\n",
    "    all_rf_weights = {}\n",
    "\n",
    "    # Initialize dictionary of bootstrap rf output\n",
    "    all_rf_bootstrap_output = {}\n",
    "\n",
    "    # Initialize dictionary of bootstrap RIT output\n",
    "    all_rit_bootstrap_output = {}\n",
    "\n",
    "    for k in range(K):\n",
    "        if k == 0:\n",
    "\n",
    "            # Initially feature weights are None\n",
    "            feature_importances = None\n",
    "\n",
    "            # Update the dictionary of all our RF weights\n",
    "            all_rf_weights[\"rf_weight{}\".format(k)] = feature_importances\n",
    "\n",
    "            # fit RF feature weights i.e. initially None\n",
    "            rf = RandomForestClassifier(n_estimators=n_estimators)\n",
    "\n",
    "            # fit the classifier\n",
    "            rf.fit(\n",
    "                X=X_train,\n",
    "                y=y_train,\n",
    "                feature_weight=all_rf_weights[\"rf_weight{}\".format(k)])\n",
    "\n",
    "            # Update feature weights using the\n",
    "            # new feature importance score\n",
    "            feature_importances = rf.feature_importances_\n",
    "\n",
    "            # Load the weights for the next iteration\n",
    "            all_rf_weights[\"rf_weight{}\".format(k + 1)] = feature_importances\n",
    "\n",
    "        else:\n",
    "            # fit weighted RF\n",
    "            # Use the weights from the previous iteration\n",
    "            rf = RandomForestClassifier(n_estimators=n_estimators)\n",
    "\n",
    "            # fit the classifier\n",
    "            rf.fit(\n",
    "                X=X_train,\n",
    "                y=y_train,\n",
    "                feature_weight=all_rf_weights[\"rf_weight{}\".format(k)])\n",
    "\n",
    "            # Update feature weights using the\n",
    "            # new feature importance score\n",
    "            feature_importances = rf.feature_importances_\n",
    "\n",
    "            # Load the weights for the next iteration\n",
    "            all_rf_weights[\"rf_weight{}\".format(k + 1)] = feature_importances\n",
    "\n",
    "    # Run the RITs\n",
    "    for b in range(B):\n",
    "\n",
    "        # Take a bootstrap sample from the training data\n",
    "        # based on the specified user proportion\n",
    "        X_train_rsmpl, y_rsmpl = resample(\n",
    "            X_train, y_train, n_samples=n_samples)\n",
    "        \n",
    "        print(n_samples)\n",
    "        print(\"iteration {}\".format(b), X_train_rsmpl.shape[0],\n",
    "         y_rsmpl.shape[0])\n",
    "        print(np.sum(X_train_rsmpl))\n",
    "        print(np.sum(y_rsmpl))\n",
    "        \n",
    "        # Set up the weighted random forest\n",
    "        # Using the weight from the (K-1)th iteration i.e. RF(w(K))\n",
    "        rf_bootstrap = RandomForestClassifier(\n",
    "            #CHECK: different number of trees to fit for bootstrap samples\n",
    "            n_estimators=n_estimators_bootstrap)\n",
    "\n",
    "        # Fit RF(w(K)) on the bootstrapped dataset\n",
    "        rf_bootstrap.fit(\n",
    "            X=X_train_rsmpl,\n",
    "            y=y_rsmpl,\n",
    "            feature_weight=all_rf_weights[\"rf_weight{}\".format(K)])\n",
    "        \n",
    "        # All RF tree data\n",
    "        # CHECK: why do we need y_train here?\n",
    "        all_rf_tree_data = irf_utils.get_rf_tree_data(\n",
    "            rf=rf_bootstrap,\n",
    "            X_train=X_train_rsmpl,\n",
    "            y_train=y_rsmpl,\n",
    "            X_test=X_test,\n",
    "            y_test=y_test)\n",
    "        \n",
    "        #print(all_rf_tree_data['feature_importances'])\n",
    "        \n",
    "        # Update the rf bootstrap output dictionary\n",
    "        all_rf_bootstrap_output['rf_bootstrap{}'.format(b)] = all_rf_tree_data\n",
    "\n",
    "        # Run RIT on the interaction rule set\n",
    "        # CHECK - each of these variables needs to be passed into\n",
    "        # the main run_rit function\n",
    "        all_rit_tree_data = irf_utils.get_rit_tree_data(\n",
    "            all_rf_tree_data=all_rf_tree_data,\n",
    "            bin_class_type=bin_class_type,\n",
    "            #random_state=12,\n",
    "            M=M,\n",
    "            max_depth=max_depth,\n",
    "            noisy_split=noisy_split,\n",
    "            num_splits=num_splits)\n",
    "        \n",
    "        \n",
    "        #print(all_rit_tree_data['rit0']['rit_intersected_values'])\n",
    "        \n",
    "        # Update the rf bootstrap output dictionary\n",
    "        # We will reference the RIT for a particular rf bootstrap\n",
    "        # using the specific bootstrap id - consistent with the\n",
    "        # rf bootstrap output data\n",
    "        all_rit_bootstrap_output['rf_bootstrap{}'.format(b)] = all_rit_tree_data\n",
    "\n",
    "    stability_score = get_stability_score(all_rit_bootstrap_output=all_rit_bootstrap_output)\n",
    "    \n",
    "    return all_rf_weights, all_rf_bootstrap_output, all_rit_bootstrap_output, stability_score"
   ]
  },
  {
   "cell_type": "markdown",
   "metadata": {},
   "source": [
    "# Run the iRF function"
   ]
  },
  {
   "cell_type": "code",
   "execution_count": 20,
   "metadata": {},
   "outputs": [
    {
     "name": "stdout",
     "output_type": "stream",
     "text": [
      "103\n",
      "iteration 0 103 103\n",
      "178866.00012\n",
      "74\n",
      "103\n",
      "iteration 1 103 103\n",
      "191941.84444\n",
      "66\n",
      "103\n",
      "iteration 2 103 103\n",
      "199697.68086\n",
      "61\n",
      "103\n",
      "iteration 3 103 103\n",
      "198420.123802\n",
      "63\n",
      "103\n",
      "iteration 4 103 103\n",
      "196783.235961\n",
      "64\n",
      "103\n",
      "iteration 5 103 103\n",
      "209298.1465\n",
      "56\n",
      "103\n",
      "iteration 6 103 103\n",
      "205676.56003\n",
      "66\n",
      "103\n",
      "iteration 7 103 103\n",
      "222079.581694\n",
      "61\n",
      "103\n",
      "iteration 8 103 103\n",
      "188156.517015\n",
      "64\n",
      "103\n",
      "iteration 9 103 103\n",
      "216267.959697\n",
      "59\n",
      "{'rf_weight1': array([ 0.0378531 ,  0.01143301,  0.00917885,  0.0389645 ,  0.00570286,\n",
      "        0.00355542,  0.04189169,  0.04736217,  0.00276282,  0.00375928,\n",
      "        0.00758323,  0.00132309,  0.00668335,  0.00753545,  0.0027825 ,\n",
      "        0.0043194 ,  0.00388132,  0.00557761,  0.00168787,  0.00332904,\n",
      "        0.26950483,  0.01216281,  0.12508337,  0.16629184,  0.01540501,\n",
      "        0.00929946,  0.03860752,  0.0959075 ,  0.01366094,  0.00691016]), 'rf_weight3': array([  4.21601714e-03,   2.82245685e-03,   3.77955313e-04,\n",
      "         5.82852294e-04,   0.00000000e+00,   0.00000000e+00,\n",
      "         2.09478455e-02,   8.43676059e-02,   0.00000000e+00,\n",
      "         5.20341361e-04,   7.04400615e-04,   0.00000000e+00,\n",
      "         0.00000000e+00,   2.25359144e-03,   0.00000000e+00,\n",
      "         0.00000000e+00,   0.00000000e+00,   0.00000000e+00,\n",
      "         0.00000000e+00,   0.00000000e+00,   1.37511409e-01,\n",
      "         2.05598124e-02,   4.71211322e-01,   7.74444891e-02,\n",
      "         1.68444198e-03,   1.65188277e-04,   8.84714305e-03,\n",
      "         1.64545893e-01,   1.23723455e-03,   0.00000000e+00]), 'rf_weight2': array([  7.26517745e-03,   4.32093818e-03,   1.36507678e-03,\n",
      "         6.99189581e-03,   1.15739252e-03,   0.00000000e+00,\n",
      "         6.06437379e-02,   5.79695497e-02,   1.25157366e-05,\n",
      "         1.08404196e-03,   9.05942976e-04,   0.00000000e+00,\n",
      "         1.15215497e-03,   9.20164673e-04,   3.86415094e-04,\n",
      "         0.00000000e+00,   2.11095719e-04,   1.14359123e-03,\n",
      "         3.30663911e-04,   0.00000000e+00,   1.80323883e-01,\n",
      "         1.46776388e-02,   3.12348154e-01,   1.72344511e-01,\n",
      "         3.95619744e-03,   1.85670799e-03,   1.42046776e-02,\n",
      "         1.48108853e-01,   4.61379292e-03,   1.70522979e-03]), 'rf_weight0': None, 'rf_weight5': array([ 0.        ,  0.01000883,  0.        ,  0.        ,  0.        ,\n",
      "        0.        ,  0.00241698,  0.09720962,  0.        ,  0.        ,\n",
      "        0.00126956,  0.        ,  0.        ,  0.        ,  0.        ,\n",
      "        0.        ,  0.        ,  0.        ,  0.        ,  0.        ,\n",
      "        0.05707778,  0.03086415,  0.38451391,  0.0762436 ,  0.        ,\n",
      "        0.        ,  0.00246584,  0.33792972,  0.        ,  0.        ]), 'rf_weight4': array([  4.62416372e-05,   5.38607344e-03,   0.00000000e+00,\n",
      "         0.00000000e+00,   0.00000000e+00,   0.00000000e+00,\n",
      "         1.06373887e-02,   1.32204659e-01,   0.00000000e+00,\n",
      "         0.00000000e+00,   1.42235947e-03,   0.00000000e+00,\n",
      "         0.00000000e+00,   2.17135147e-03,   0.00000000e+00,\n",
      "         0.00000000e+00,   0.00000000e+00,   0.00000000e+00,\n",
      "         0.00000000e+00,   0.00000000e+00,   2.51886568e-02,\n",
      "         2.96840234e-02,   5.56447586e-01,   6.56279332e-02,\n",
      "         0.00000000e+00,   0.00000000e+00,   7.51895814e-03,\n",
      "         1.63664769e-01,   0.00000000e+00,   0.00000000e+00])}\n"
     ]
    }
   ],
   "source": [
    "all_rf_weights, all_rf_bootstrap_output, all_rit_bootstrap_output, stability_score =\\\n",
    "run_rit(X_train=X_train,\n",
    "        X_test=X_test,\n",
    "        y_train=y_train,\n",
    "        y_test=y_test,\n",
    "        K=5,\n",
    "        n_estimators=20,\n",
    "        B=10,\n",
    "        random_state_classifier=2018,\n",
    "        propn_n_samples=.2,\n",
    "        bin_class_type=1,\n",
    "        random_state=12,\n",
    "        M=4,\n",
    "        max_depth=2,\n",
    "        noisy_split=False,\n",
    "        num_splits=2,\n",
    "        n_estimators_bootstrap=5)\n",
    "print(all_rf_weights)"
   ]
  },
  {
   "cell_type": "code",
   "execution_count": 100,
   "metadata": {},
   "outputs": [
    {
     "data": {
      "text/plain": [
       "{'0_27': 0.1,\n",
       " '10_20_23_27': 0.1,\n",
       " '20': 0.5,\n",
       " '20_22_27': 0.1,\n",
       " '20_26': 0.2,\n",
       " '20_27': 0.1,\n",
       " '22': 0.2,\n",
       " '22_23': 0.1,\n",
       " '22_27': 0.2,\n",
       " '23': 0.3,\n",
       " '23_25_26_28': 0.1,\n",
       " '23_27': 0.1,\n",
       " '26': 0.2,\n",
       " '27': 0.6,\n",
       " '3_20': 0.1,\n",
       " '3_6': 0.2,\n",
       " '6': 0.1,\n",
       " '6_20': 0.1,\n",
       " '6_23_27_28': 0.1,\n",
       " '6_7': 0.1,\n",
       " '7_15_20': 0.1,\n",
       " '7_20': 0.1,\n",
       " '7_20_27': 0.1,\n",
       " '7_23': 0.2,\n",
       " '7_23_26': 0.1}"
      ]
     },
     "execution_count": 100,
     "metadata": {},
     "output_type": "execute_result"
    }
   ],
   "source": [
    "stability_score"
   ]
  },
  {
   "cell_type": "code",
   "execution_count": 101,
   "metadata": {},
   "outputs": [
    {
     "name": "stdout",
     "output_type": "stream",
     "text": [
      "rf_bootstrap0 {'10_20_23_27': 2, '0_27': 1, '23': 1, '22_23': 2, '27': 1, '22': 2}\n",
      "rf_bootstrap1 {'20_26': 2, '22_27': 2, '7_15_20': 1, '20': 3}\n",
      "rf_bootstrap2 {'7_20': 1, '3_20': 2, '27': 2, '20': 3}\n",
      "rf_bootstrap3 {'20_26': 2, '22_27': 2, '27': 1, '7_20_27': 1, '20': 3}\n",
      "rf_bootstrap4 {'6_7': 1, '26': 1, '3_6': 1, '6_20': 2, '6': 1}\n",
      "rf_bootstrap5 {'3_6': 2, '22': 2, '20': 1}\n",
      "rf_bootstrap6 {'23': 4, '27': 2}\n",
      "rf_bootstrap7 {'7_23': 1, '23': 3, '20_22_27': 2, '23_25_26_28': 2, '26': 2}\n",
      "rf_bootstrap8 {'7_23_26': 2, '7_23': 2, '27': 2}\n",
      "rf_bootstrap9 {'23_27': 1, '27': 3, '20_27': 2, '6_23_27_28': 2, '20': 2}\n"
     ]
    }
   ],
   "source": [
    "B = 10\n",
    "for i in range(B):\n",
    "    rit_output = all_rit_bootstrap_output['rf_bootstrap{}'.format(i)]\n",
    "    interactions = irf_utils.rit_interactions(rit_output)\n",
    "    print('rf_bootstrap{}'.format(i), interactions)"
   ]
  },
  {
   "cell_type": "code",
   "execution_count": 97,
   "metadata": {},
   "outputs": [
    {
     "data": {
      "text/plain": [
       "{'rit': <utils.irf_utils.RITTree at 0x7f837a975f28>,\n",
       " 'rit_intersected_values': [array([ 4, 22])],\n",
       " 'rit_leaf_node_union_value': array([ 4, 22]),\n",
       " 'rit_leaf_node_values': [array([ 4, 22])]}"
      ]
     },
     "execution_count": 97,
     "metadata": {},
     "output_type": "execute_result"
    }
   ],
   "source": [
    "all_rit_bootstrap_output['rf_bootstrap1']['rit2']"
   ]
  },
  {
   "cell_type": "code",
   "execution_count": 56,
   "metadata": {
    "collapsed": true
   },
   "outputs": [],
   "source": [
    "all_rit_counts = []\n",
    "for i in range(10):\n",
    "    rit_counts = irf_utils.rit_interactions(\n",
    "        all_rit_bootstrap_output['rf_bootstrap{}'.format(i)])\n",
    "    rit_counts = rit_counts.fromkeys(rit_counts, 1)\n",
    "    all_rit_counts.append(rit_counts)"
   ]
  },
  {
   "cell_type": "markdown",
   "metadata": {},
   "source": [
    "## Run iRF for just 1 iteration - should be the uniform sampling version"
   ]
  },
  {
   "cell_type": "code",
   "execution_count": 49,
   "metadata": {
    "collapsed": true
   },
   "outputs": [],
   "source": [
    "all_rf_weights_1iter, all_rf_bootstrap_output_1iter, all_rit_bootstrap_output_1iter =\\\n",
    "run_rit(X_train=X_train,\n",
    "        X_test=X_test,\n",
    "        y_train=y_train,\n",
    "        y_test=y_test,\n",
    "        K=1,\n",
    "        n_estimators=1000,\n",
    "        B=10,\n",
    "        random_state_classifier=2018,\n",
    "        propn_n_samples=0.2,\n",
    "        bin_class_type=1,\n",
    "        random_state=12,\n",
    "        M=4,\n",
    "        max_depth=2,\n",
    "        noisy_split=False,\n",
    "        num_splits=2)"
   ]
  },
  {
   "cell_type": "code",
   "execution_count": 55,
   "metadata": {},
   "outputs": [
    {
     "name": "stdout",
     "output_type": "stream",
     "text": [
      "[ 0.04633261  0.01279795  0.04649524  0.05372707  0.00613899  0.01410021\n",
      "  0.04617194  0.08346155  0.00365378  0.00379191  0.01370514  0.00441408\n",
      "  0.01102853  0.03730455  0.00456819  0.00397247  0.00564707  0.00500305\n",
      "  0.00441179  0.00429459  0.11649582  0.01827778  0.14157085  0.11806595\n",
      "  0.01195991  0.01511598  0.03314478  0.11802327  0.00953361  0.00679134]\n"
     ]
    }
   ],
   "source": [
    "print(all_rf_weights_1iter['rf_weight1'])"
   ]
  },
  {
   "cell_type": "markdown",
   "metadata": {},
   "source": [
    "## Compare to the original single fitted random forest (top of the notebook)!"
   ]
  },
  {
   "cell_type": "code",
   "execution_count": 60,
   "metadata": {},
   "outputs": [
    {
     "data": {
      "text/plain": [
       "array([ 0.04633261,  0.01279795,  0.04649524,  0.05372707,  0.00613899,\n",
       "        0.01410021,  0.04617194,  0.08346155,  0.00365378,  0.00379191,\n",
       "        0.01370514,  0.00441408,  0.01102853,  0.03730455,  0.00456819,\n",
       "        0.00397247,  0.00564707,  0.00500305,  0.00441179,  0.00429459,\n",
       "        0.11649582,  0.01827778,  0.14157085,  0.11806595,  0.01195991,\n",
       "        0.01511598,  0.03314478,  0.11802327,  0.00953361,  0.00679134])"
      ]
     },
     "execution_count": 60,
     "metadata": {},
     "output_type": "execute_result"
    }
   ],
   "source": [
    "rf.feature_importances_"
   ]
  },
  {
   "cell_type": "markdown",
   "metadata": {},
   "source": [
    "## These look like they match as required!"
   ]
  },
  {
   "cell_type": "code",
   "execution_count": 61,
   "metadata": {},
   "outputs": [
    {
     "data": {
      "text/plain": [
       "[0.03785310470431957,\n",
       " 0.011433014482771538,\n",
       " 0.009178847665561797,\n",
       " 0.038964497097170335,\n",
       " 0.005702864300092174,\n",
       " 0.0035554200305757616,\n",
       " 0.041891686998428004,\n",
       " 0.04736216645722789,\n",
       " 0.0027628245777236277,\n",
       " 0.003759277392257268,\n",
       " 0.0075832267680531916,\n",
       " 0.0013230930451214183,\n",
       " 0.006683350681223972,\n",
       " 0.007535448498366222,\n",
       " 0.0027824980670987315,\n",
       " 0.0043193967779257,\n",
       " 0.0038813156721859963,\n",
       " 0.005577613495435727,\n",
       " 0.0016878723423762096,\n",
       " 0.003329040950739148,\n",
       " 0.2695048270955845,\n",
       " 0.012162811436513673,\n",
       " 0.1250833695561254,\n",
       " 0.16629184413751788,\n",
       " 0.015405008680302696,\n",
       " 0.00929945634990437,\n",
       " 0.03860751552331201,\n",
       " 0.09590750167873455,\n",
       " 0.013660944440826783,\n",
       " 0.006910161096523803]"
      ]
     },
     "execution_count": 61,
     "metadata": {},
     "output_type": "execute_result"
    }
   ],
   "source": [
    "rf_weight5 = np.ndarray.tolist(all_rf_weights['rf_weight1'])\n",
    "rf_weight5"
   ]
  },
  {
   "cell_type": "markdown",
   "metadata": {},
   "source": [
    "#"
   ]
  },
  {
   "cell_type": "code",
   "execution_count": 48,
   "metadata": {},
   "outputs": [
    {
     "data": {
      "text/plain": [
       "[1, 7, 12, 13, 20, 21, 22, 23, 26, 27]"
      ]
     },
     "execution_count": 48,
     "metadata": {},
     "output_type": "execute_result"
    }
   ],
   "source": [
    "sorted([i for i, e in enumerate(rf_weight10) if e != 0])"
   ]
  },
  {
   "cell_type": "code",
   "execution_count": 83,
   "metadata": {},
   "outputs": [
    {
     "data": {
      "text/plain": [
       "{'rf_weight0': None,\n",
       " 'rf_weight1': array([ 0.10767154,  0.00899294,  0.04092015,  0.02001948,  0.00387857,\n",
       "         0.00461486,  0.01078431,  0.04536844,  0.00452756,  0.00619205,\n",
       "         0.00808735,  0.00440133,  0.0287609 ,  0.01211674,  0.00581382,\n",
       "         0.00285006,  0.0041309 ,  0.00331072,  0.00168265,  0.00553938,\n",
       "         0.14002331,  0.01362173,  0.17859298,  0.05971482,  0.00724069,\n",
       "         0.01703418,  0.09629764,  0.1408401 ,  0.01194766,  0.00502317]),\n",
       " 'rf_weight2': array([  4.44435012e-02,   3.40469419e-03,   4.96289277e-03,\n",
       "          3.15592324e-03,   0.00000000e+00,   0.00000000e+00,\n",
       "          2.34638107e-03,   8.55088015e-02,   0.00000000e+00,\n",
       "          2.00859319e-03,   1.59775615e-03,   4.19349026e-04,\n",
       "          7.67580520e-03,   2.78187346e-03,   1.09017353e-04,\n",
       "          2.72543383e-04,   3.79613998e-04,   0.00000000e+00,\n",
       "          2.23560029e-03,   1.36390833e-03,   1.44290207e-01,\n",
       "          6.75257965e-03,   3.71650639e-01,   1.57358155e-01,\n",
       "          1.61530818e-03,   1.85282571e-03,   2.52684472e-02,\n",
       "          1.25694971e-01,   2.50338925e-03,   3.47222222e-04]),\n",
       " 'rf_weight3': array([  1.17762395e-02,   6.48715393e-03,   2.72487516e-03,\n",
       "          8.57126726e-04,   0.00000000e+00,   0.00000000e+00,\n",
       "          0.00000000e+00,   1.28470191e-01,   0.00000000e+00,\n",
       "          0.00000000e+00,   4.24679020e-04,   0.00000000e+00,\n",
       "          3.41816566e-03,   2.75400676e-03,   0.00000000e+00,\n",
       "          0.00000000e+00,   0.00000000e+00,   0.00000000e+00,\n",
       "          1.02065118e-03,   1.16568428e-04,   1.80568022e-02,\n",
       "          5.96746789e-03,   4.55458453e-01,   1.22361870e-01,\n",
       "          0.00000000e+00,   0.00000000e+00,   1.59286079e-02,\n",
       "          2.22943752e-01,   8.22389199e-04,   4.11000690e-04]),\n",
       " 'rf_weight4': array([  8.17518952e-03,   8.65331085e-03,   8.18913380e-04,\n",
       "          2.86319839e-04,   0.00000000e+00,   0.00000000e+00,\n",
       "          0.00000000e+00,   1.80483283e-01,   0.00000000e+00,\n",
       "          0.00000000e+00,   6.10276905e-05,   0.00000000e+00,\n",
       "          3.33487481e-03,   5.10494922e-03,   0.00000000e+00,\n",
       "          0.00000000e+00,   0.00000000e+00,   0.00000000e+00,\n",
       "          1.59934073e-03,   0.00000000e+00,   4.76677734e-02,\n",
       "          2.12361339e-03,   3.95643473e-01,   1.14104906e-01,\n",
       "          0.00000000e+00,   0.00000000e+00,   7.87261664e-03,\n",
       "          2.21135044e-01,   2.30587320e-03,   6.29491349e-04]),\n",
       " 'rf_weight5': array([ 0.00096902,  0.01495549,  0.00103937,  0.        ,  0.        ,\n",
       "         0.        ,  0.        ,  0.08071276,  0.        ,  0.        ,\n",
       "         0.        ,  0.        ,  0.00323576,  0.00223953,  0.        ,\n",
       "         0.        ,  0.        ,  0.        ,  0.        ,  0.        ,\n",
       "         0.01689564,  0.0032026 ,  0.47753928,  0.1439653 ,  0.        ,\n",
       "         0.        ,  0.01072254,  0.24360832,  0.00091439,  0.        ])}"
      ]
     },
     "execution_count": 83,
     "metadata": {},
     "output_type": "execute_result"
    }
   ],
   "source": []
  }
 ],
 "metadata": {
  "kernelspec": {
   "display_name": "Python 3",
   "language": "python",
   "name": "python3"
  },
  "language_info": {
   "codemirror_mode": {
    "name": "ipython",
    "version": 3
   },
   "file_extension": ".py",
   "mimetype": "text/x-python",
   "name": "python",
   "nbconvert_exporter": "python",
   "pygments_lexer": "ipython3",
   "version": "3.5.3"
  }
 },
 "nbformat": 4,
 "nbformat_minor": 2
}
